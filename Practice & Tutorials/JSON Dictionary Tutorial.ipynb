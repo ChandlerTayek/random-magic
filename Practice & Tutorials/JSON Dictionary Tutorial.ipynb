{
  "nbformat": 4,
  "nbformat_minor": 0,
  "metadata": {
    "colab": {
      "name": "Creating a Dictionary - Tutorial.ipynb",
      "version": "0.3.2",
      "provenance": [],
      "include_colab_link": true
    },
    "kernelspec": {
      "name": "python3",
      "display_name": "Python 3"
    }
  },
  "cells": [
    {
      "cell_type": "markdown",
      "metadata": {
        "id": "view-in-github",
        "colab_type": "text"
      },
      "source": [
        "<a href=\"https://colab.research.google.com/github/kovacova/random-magic/blob/master/Practice%20%26%20Tutorials/JSON%20Dictionary%20Tutorial.ipynb\" target=\"_parent\"><img src=\"https://colab.research.google.com/assets/colab-badge.svg\" alt=\"Open In Colab\"/></a>"
      ]
    },
    {
      "metadata": {
        "id": "ACuBGllMB-nc",
        "colab_type": "text"
      },
      "cell_type": "markdown",
      "source": [
        "# JSON Dictionary\n",
        "\n",
        "JSON, or JavaScript Object Notation, is a minimal, readable format for structuring data. It is used primarily to transmit data between a server and web application, as an alternative to XML.\n",
        "\n",
        "<br>\n",
        "\n",
        "### Keys and Values\n",
        "The two primary parts that make up JSON are keys and values. Together they make a key/value pair.\n",
        "\n",
        "**Key:** A key is always a string enclosed in quotation marks.\n",
        "\n",
        "**Value:** A value can be a string, number, boolean expression, array, or object.\n",
        "\n",
        "**Key/Value Pair: **A key value pair follows a specific syntax, with the key followed by a colon followed by the value. Key/value pairs are comma separated.\n",
        "\n",
        "<br>\n",
        "\n",
        "### Types of Values\n",
        "* **Array:** An associative array of values.\n",
        "* **Boolean:** True or false.\n",
        "* **Number:** An integer.\n",
        "* **Object:** An associative array of key/value pairs. A value can be *an object*.\n",
        "* **String:** Several plain text characters which usually form a word.\n",
        "\n",
        "<br>\n",
        "\n",
        "### Tutorials & Resources\n",
        "\n",
        "[TDS Tutorial on Python Dictionaries & JSON format](https://towardsdatascience.com/master-python-through-building-real-world-applications-part-1-b040b2b7faad)\n",
        "\n",
        "[JSON Tutorial](https://developers.squarespace.com/what-is-json/)"
      ]
    },
    {
      "metadata": {
        "id": "wayOys9bB9Ee",
        "colab_type": "code",
        "colab": {}
      },
      "cell_type": "code",
      "source": [
        "import json\n",
        "!wget https://raw.githubusercontent.com/kovacova/datasets/master/dictionary.json -q"
      ],
      "execution_count": 0,
      "outputs": []
    },
    {
      "metadata": {
        "id": "4Hg55su-E2GF",
        "colab_type": "code",
        "colab": {
          "base_uri": "https://localhost:8080/",
          "height": 34
        },
        "outputId": "80183a0d-267c-4f39-a5dc-2bbb6f1dc6f8"
      },
      "cell_type": "code",
      "source": [
        "data = json.load(open('dictionary.json'))\n",
        "type(data)\n",
        "\n",
        "# print(data) 📌 Causes \"Rate Exceeded\" error and one beautiful day I will learn how to fix it"
      ],
      "execution_count": 29,
      "outputs": [
        {
          "output_type": "execute_result",
          "data": {
            "text/plain": [
              "dict"
            ]
          },
          "metadata": {
            "tags": []
          },
          "execution_count": 29
        }
      ]
    },
    {
      "metadata": {
        "id": "ImZhoYCZHxba",
        "colab_type": "text"
      },
      "cell_type": "markdown",
      "source": [
        "## Creating a Function & Checking for Non-Existing Words with If-Else Statement"
      ]
    },
    {
      "metadata": {
        "id": "-yVDeM2nGpaU",
        "colab_type": "code",
        "colab": {}
      },
      "cell_type": "code",
      "source": [
        "def retrieve_definition(word):\n",
        "  # First we remove the case sensitivity with .lower() \n",
        "  # For example, \"Rain\" and \"rain\" will give the same output\n",
        "  word = word.lower()\n",
        "  \n",
        "  # Check for non-existing words\n",
        "  if word in data:\n",
        "    return data[word]\n",
        "  # 1st elif: To make sure the program return the definition of words that start with a capital letter (e.g. Delhi, Texas)\n",
        "  elif word.title() in data:\n",
        "    return data[word.title()]\n",
        "  # 2nd elif: To make sure the program return the definition of acronyms (e.g. USA, NATO)\n",
        "  elif word.upper() in data:\n",
        "    return data[word.upper()]\n",
        "  else:\n",
        "    return \"The word doesn't exist, please double check it\""
      ],
      "execution_count": 0,
      "outputs": []
    },
    {
      "metadata": {
        "id": "qX-6xZZnGxjd",
        "colab_type": "code",
        "colab": {
          "base_uri": "https://localhost:8080/",
          "height": 51
        },
        "outputId": "237f9822-bb3a-4018-d361-98c745bd6b72"
      },
      "cell_type": "code",
      "source": [
        "# Input from User\n",
        "word_user = input(\"Enter a word: \")\n",
        "\n",
        "print(retrieve_definition(word_user))"
      ],
      "execution_count": 28,
      "outputs": [
        {
          "output_type": "stream",
          "text": [
            "Enter a word: Tina\n",
            "['An addictive psychoactive drug of formula C₁₀H₁₅N.']\n"
          ],
          "name": "stdout"
        }
      ]
    },
    {
      "metadata": {
        "id": "gGXe0wVgG8uV",
        "colab_type": "code",
        "colab": {}
      },
      "cell_type": "code",
      "source": [
        ""
      ],
      "execution_count": 0,
      "outputs": []
    }
  ]
}