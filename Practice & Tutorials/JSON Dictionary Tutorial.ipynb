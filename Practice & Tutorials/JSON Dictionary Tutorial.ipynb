{
  "nbformat": 4,
  "nbformat_minor": 0,
  "metadata": {
    "colab": {
      "name": "Creating a JSON Dictionary - Tutorial.ipynb",
      "version": "0.3.2",
      "provenance": [],
      "include_colab_link": true
    },
    "kernelspec": {
      "name": "python3",
      "display_name": "Python 3"
    }
  },
  "cells": [
    {
      "cell_type": "markdown",
      "metadata": {
        "id": "view-in-github",
        "colab_type": "text"
      },
      "source": [
        "<a href=\"https://colab.research.google.com/github/kovacova/random-magic/blob/master/Practice%20%26%20Tutorials/JSON%20Dictionary%20Tutorial.ipynb\" target=\"_parent\"><img src=\"https://colab.research.google.com/assets/colab-badge.svg\" alt=\"Open In Colab\"/></a>"
      ]
    },
    {
      "metadata": {
        "id": "ACuBGllMB-nc",
        "colab_type": "text"
      },
      "cell_type": "markdown",
      "source": [
        "# JSON Dictionary\n",
        "\n",
        "*Last modified: 27/12/18*\n",
        "\n",
        "JSON, or JavaScript Object Notation, is a minimal, readable format for structuring data. It is used primarily to transmit data between a server and web application, as an alternative to XML.\n",
        "\n",
        "### Keys and Values\n",
        "The two primary parts that make up JSON are keys and values. Together they make a key/value pair.\n",
        "\n",
        "**Key:** A key is always a string enclosed in quotation marks.\n",
        "\n",
        "**Value:** A value can be a string, number, boolean expression, array, or object.\n",
        "\n",
        "**Key/Value Pair: **A key value pair follows a specific syntax, with the key followed by a colon followed by the value. Key/value pairs are comma separated.\n",
        "\n",
        "```\n",
        "# JSON ARRAY SAMPLE\n",
        "\"foo\" : {\n",
        "  \"bar\" : \"Hello\",\n",
        "  \"baz\" : [ \"quuz\", \"norf\" ]\n",
        "}```\n",
        "\n",
        "### Types of Values\n",
        "* **Array:** An associative array of values.\n",
        "* **Boolean:** True or false.\n",
        "* **Number:** An integer.\n",
        "* **Object:** An associative array of key/value pairs. A value can be *an object*.\n",
        "* **String:** Several plain text characters which usually form a word.\n",
        "\n",
        "### Tutorials & Resources\n",
        "\n",
        "[TDS Tutorial on Python Dictionaries & JSON format](https://towardsdatascience.com/master-python-through-building-real-world-applications-part-1-b040b2b7faad)\n",
        "\n",
        "[JSON Tutorial](https://developers.squarespace.com/what-is-json/)"
      ]
    },
    {
      "metadata": {
        "id": "wayOys9bB9Ee",
        "colab_type": "code",
        "colab": {}
      },
      "cell_type": "code",
      "source": [
        "import json\n",
        "!wget https://raw.githubusercontent.com/kovacova/datasets/master/dictionary.json -q"
      ],
      "execution_count": 0,
      "outputs": []
    },
    {
      "metadata": {
        "id": "4Hg55su-E2GF",
        "colab_type": "code",
        "colab": {
          "base_uri": "https://localhost:8080/",
          "height": 34
        },
        "outputId": "b50f71dc-cb05-497c-ab5f-cb8ea284fa12"
      },
      "cell_type": "code",
      "source": [
        "data = json.load(open('dictionary.json'))\n",
        "type(data)\n",
        "\n",
        "# print(data) 📌 Causes \"Rate Exceeded\" error and one beautiful day I will learn how to fix it"
      ],
      "execution_count": 40,
      "outputs": [
        {
          "output_type": "execute_result",
          "data": {
            "text/plain": [
              "dict"
            ]
          },
          "metadata": {
            "tags": []
          },
          "execution_count": 40
        }
      ]
    },
    {
      "metadata": {
        "id": "ImZhoYCZHxba",
        "colab_type": "text"
      },
      "cell_type": "markdown",
      "source": [
        "## Creating a Function & Checking for Non-Existing Words with If-Else Statement"
      ]
    },
    {
      "metadata": {
        "id": "-yVDeM2nGpaU",
        "colab_type": "code",
        "colab": {}
      },
      "cell_type": "code",
      "source": [
        "def retrieve_definition(word):\n",
        "  # First we remove the case sensitivity with .lower() \n",
        "  # For example, \"Rain\" and \"rain\" will give the same output\n",
        "  word = word.lower()\n",
        "  \n",
        "  # Check for non-existing words\n",
        "  if word in data:\n",
        "    return data[word]\n",
        "  # 1st elif: To make sure the program return the definition of words that start with a capital letter (e.g. Delhi, Texas)\n",
        "  elif word.title() in data:\n",
        "    return data[word.title()]\n",
        "  # 2nd elif: To make sure the program return the definition of acronyms (e.g. USA, NATO)\n",
        "  elif word.upper() in data:\n",
        "    return data[word.upper()]\n",
        "  else:\n",
        "    return \"The word doesn't exist, please double check it\""
      ],
      "execution_count": 0,
      "outputs": []
    },
    {
      "metadata": {
        "id": "qX-6xZZnGxjd",
        "colab_type": "code",
        "colab": {
          "base_uri": "https://localhost:8080/",
          "height": 51
        },
        "outputId": "712eb05f-f455-49f1-abde-3a97352513a4"
      },
      "cell_type": "code",
      "source": [
        "# Input from User\n",
        "word_user = input(\"Enter a word: \")\n",
        "\n",
        "print(retrieve_definition(word_user))"
      ],
      "execution_count": 42,
      "outputs": [
        {
          "output_type": "stream",
          "text": [
            "Enter a word: Tina\n",
            "['An addictive psychoactive drug of formula C₁₀H₁₅N.']\n"
          ],
          "name": "stdout"
        }
      ]
    },
    {
      "metadata": {
        "id": "_m_4YcaFQHwc",
        "colab_type": "text"
      },
      "cell_type": "markdown",
      "source": [
        "## Closest Word Matching \n",
        "\n",
        "Now, to if the user has made a typo while entering a word, we might want to suggest the closest word and ask them if they want the meaning of this word instead. We can do that with Python’s library **difflib**. \n",
        "\n",
        "We will test 2 ways of doing so."
      ]
    },
    {
      "metadata": {
        "id": "gGXe0wVgG8uV",
        "colab_type": "code",
        "colab": {}
      },
      "cell_type": "code",
      "source": [
        "import difflib\n",
        "\n",
        "from difflib import SequenceMatcher\n",
        "from difflib import get_close_matches"
      ],
      "execution_count": 0,
      "outputs": []
    },
    {
      "metadata": {
        "id": "mOFofglPRGsS",
        "colab_type": "text"
      },
      "cell_type": "markdown",
      "source": [
        "#### Method 1: Sequence Match\n",
        "\n",
        "In the Sequence Matcher, the first parameter is 'Junk' which includes white spaces, blank lines and so onself. Second and third parameters are the words you want to find similarities in-between. Ratio is used to find how close those two words are in numerical terms."
      ]
    },
    {
      "metadata": {
        "id": "9Z8sLHsEQqiB",
        "colab_type": "code",
        "colab": {
          "base_uri": "https://localhost:8080/",
          "height": 34
        },
        "outputId": "549bea8d-98f0-463f-cea0-cd81e13ca5de"
      },
      "cell_type": "code",
      "source": [
        "method_1 = SequenceMatcher(None, \"rainn\", \"rain\").ratio()\n",
        "print(method_1)\n",
        "\n",
        "# Note to my future self - if I forget the brackets in the .ratio, I will get this ugly printout:\n",
        "# <bound method SequenceMatcher.ratio of <difflib.SequenceMatcher object at 0x7f1006d7a630>>"
      ],
      "execution_count": 44,
      "outputs": [
        {
          "output_type": "stream",
          "text": [
            "0.8888888888888888\n"
          ],
          "name": "stdout"
        }
      ]
    },
    {
      "metadata": {
        "id": "ZdMrFT6iRxzq",
        "colab_type": "text"
      },
      "cell_type": "markdown",
      "source": [
        "#### Method 2 :  Get Close Matches\n",
        "\n",
        "The method works as follows, the first parameter is, of course, the word for which you want to find close matches. The second parameter is a list of words to match against.\n",
        "\n",
        "The basic template of this function is as follows:\n",
        "\n",
        "**get_close_matches(word, posibilities, n=3, cutoff=0.66)** \n",
        "* First parameter is of course the word for which you want to find close matches\n",
        "* Second is a list of sequences against which to match the word\n",
        "* [optional] Third is maximum number of close matches\n",
        "* [optional] Where to stop considering a word as a match (0.99 being the closest to word while 0.0 being otherwise)"
      ]
    },
    {
      "metadata": {
        "id": "PWnVP7u_Q9HT",
        "colab_type": "code",
        "colab": {
          "base_uri": "https://localhost:8080/",
          "height": 34
        },
        "outputId": "18d7660c-7be2-4198-83a0-33f3c7c9f44a"
      },
      "cell_type": "code",
      "source": [
        "method_2 = get_close_matches(\"rain\", [\"help\", \"mate\", \"rainy\"], n=1, cutoff = 0.75)\n",
        "print(method_2)"
      ],
      "execution_count": 45,
      "outputs": [
        {
          "output_type": "stream",
          "text": [
            "['rainy']\n"
          ],
          "name": "stdout"
        }
      ]
    },
    {
      "metadata": {
        "id": "iZhVHLE6feFu",
        "colab_type": "text"
      },
      "cell_type": "markdown",
      "source": [
        "#### A Helper \"Did You Mean This Instead?\" Function\n",
        "\n",
        "It is first checking for the length of the close matches it got because we can print only if the word has 1 or more close matches. Get close matches function takes the word the user has entered as the first parameter and our whole data set to match against that word. Here, the key is the words in our data and value is their definition, as we learned it earlier. The [0] in return statement indicates the first close match of all matches."
      ]
    },
    {
      "metadata": {
        "id": "sEYTebUTS-Va",
        "colab_type": "code",
        "colab": {}
      },
      "cell_type": "code",
      "source": [
        "def retrieve_definition(word):\n",
        "  # First we remove the case sensitivity with .lower() \n",
        "  # For example, \"Rain\" and \"rain\" will give the same output\n",
        "  word = word.lower()\n",
        "  \n",
        "  # Check for non-existing words\n",
        "  if word in data:\n",
        "    return data[word]\n",
        "  # 1st elif: To make sure the program return the definition of words that start with a capital letter (e.g. Delhi, Texas)\n",
        "  elif word.title() in data:\n",
        "    return data[word.title()]\n",
        "  # 2nd elif: To make sure the program return the definition of acronyms (e.g. USA, NATO)\n",
        "  elif word.upper() in data:\n",
        "    return data[word.upper()]\n",
        "  elif len (get_close_matches(word, data.keys())) > 0:\n",
        "    return (\"Did you mean %s instead?\" % get_close_matches(word, data.keys())[0])\n",
        "  else:\n",
        "    return \"The word doesn't exist, please double check it\""
      ],
      "execution_count": 0,
      "outputs": []
    },
    {
      "metadata": {
        "id": "nUqlZQdOgbeE",
        "colab_type": "code",
        "colab": {
          "base_uri": "https://localhost:8080/",
          "height": 51
        },
        "outputId": "a67fa02c-ca30-4d1f-a713-517b97f3a1dd"
      },
      "cell_type": "code",
      "source": [
        "word_user = input(\"Enter a word: \")\n",
        "\n",
        "print(retrieve_definition(word_user))"
      ],
      "execution_count": 49,
      "outputs": [
        {
          "output_type": "stream",
          "text": [
            "Enter a word: horrible\n",
            "Did you mean horribly instead?\n"
          ],
          "name": "stdout"
        }
      ]
    }
  ]
}