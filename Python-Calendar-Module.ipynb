{
  "nbformat": 4,
  "nbformat_minor": 0,
  "metadata": {
    "colab": {
      "name": "Python Calendar Module.ipynb",
      "version": "0.3.2",
      "provenance": [],
      "include_colab_link": true
    },
    "kernelspec": {
      "name": "python3",
      "display_name": "Python 3"
    }
  },
  "cells": [
    {
      "cell_type": "markdown",
      "metadata": {
        "id": "view-in-github",
        "colab_type": "text"
      },
      "source": [
        "<a href=\"https://colab.research.google.com/github/kovacova/random-magic/blob/master/Python-Calendar-Module.ipynb\" target=\"_parent\"><img src=\"https://colab.research.google.com/assets/colab-badge.svg\" alt=\"Open In Colab\"/></a>"
      ]
    },
    {
      "metadata": {
        "id": "btsJ22ng74An",
        "colab_type": "text"
      },
      "cell_type": "markdown",
      "source": [
        "### Calendar"
      ]
    },
    {
      "metadata": {
        "id": "xb27axdw6nk3",
        "colab_type": "code",
        "colab": {}
      },
      "cell_type": "code",
      "source": [
        "import calendar"
      ],
      "execution_count": 0,
      "outputs": []
    },
    {
      "metadata": {
        "id": "sMJZvjsY78RC",
        "colab_type": "text"
      },
      "cell_type": "markdown",
      "source": [
        "\n",
        "calendar.isleap(year)\n",
        "\n",
        "    Returns True if year is a leap year, otherwise False.\n"
      ]
    },
    {
      "metadata": {
        "id": "tH-eZ-Uy6wiS",
        "colab_type": "code",
        "outputId": "91c94ad7-d8c4-43a2-f993-62c72e355b3d",
        "colab": {
          "base_uri": "https://localhost:8080/",
          "height": 416
        }
      },
      "cell_type": "code",
      "source": [
        "[\"{}: {}\".format(year,calendar.isleap(year)) for year in range(1996,2019)]"
      ],
      "execution_count": 0,
      "outputs": [
        {
          "output_type": "execute_result",
          "data": {
            "text/plain": [
              "['1996: True',\n",
              " '1997: False',\n",
              " '1998: False',\n",
              " '1999: False',\n",
              " '2000: True',\n",
              " '2001: False',\n",
              " '2002: False',\n",
              " '2003: False',\n",
              " '2004: True',\n",
              " '2005: False',\n",
              " '2006: False',\n",
              " '2007: False',\n",
              " '2008: True',\n",
              " '2009: False',\n",
              " '2010: False',\n",
              " '2011: False',\n",
              " '2012: True',\n",
              " '2013: False',\n",
              " '2014: False',\n",
              " '2015: False',\n",
              " '2016: True',\n",
              " '2017: False',\n",
              " '2018: False']"
            ]
          },
          "metadata": {
            "tags": []
          },
          "execution_count": 9
        }
      ]
    },
    {
      "metadata": {
        "id": "zhn6hvqm7yuM",
        "colab_type": "text"
      },
      "cell_type": "markdown",
      "source": [
        "\n",
        "calendar.leapdays(y1, y2)\n",
        "\n",
        "    Returns the number of leap years in the range from y1 to y2 (exclusive), where y1 and y2 are years.\n",
        "\n",
        "    This function works for ranges spanning a century change.\n"
      ]
    },
    {
      "metadata": {
        "id": "viXVBtsM7mH-",
        "colab_type": "code",
        "outputId": "3ae9e65b-19e3-409a-a3b1-c788fa2ecdd9",
        "colab": {
          "base_uri": "https://localhost:8080/",
          "height": 34
        }
      },
      "cell_type": "code",
      "source": [
        "calendar.leapdays(1655, 1865)"
      ],
      "execution_count": 0,
      "outputs": [
        {
          "output_type": "execute_result",
          "data": {
            "text/plain": [
              "51"
            ]
          },
          "metadata": {
            "tags": []
          },
          "execution_count": 10
        }
      ]
    },
    {
      "metadata": {
        "id": "dhzrrwOu75Vn",
        "colab_type": "text"
      },
      "cell_type": "markdown",
      "source": [
        "\n",
        "calendar.monthcalendar(year, month)\n",
        "\n",
        "    Returns a matrix representing a month’s calendar. Each row represents a week; days outside of the month a represented by zeros. Each week begins with Monday unless set by setfirstweekday().\n"
      ]
    },
    {
      "metadata": {
        "id": "FmZfjEMm7s2Y",
        "colab_type": "code",
        "outputId": "51a96428-e9e1-4612-fee7-bf630fd10723",
        "colab": {
          "base_uri": "https://localhost:8080/",
          "height": 104
        }
      },
      "cell_type": "code",
      "source": [
        "calendar.monthcalendar(2019, 1)"
      ],
      "execution_count": 0,
      "outputs": [
        {
          "output_type": "execute_result",
          "data": {
            "text/plain": [
              "[[0, 1, 2, 3, 4, 5, 6],\n",
              " [7, 8, 9, 10, 11, 12, 13],\n",
              " [14, 15, 16, 17, 18, 19, 20],\n",
              " [21, 22, 23, 24, 25, 26, 27],\n",
              " [28, 29, 30, 31, 0, 0, 0]]"
            ]
          },
          "metadata": {
            "tags": []
          },
          "execution_count": 13
        }
      ]
    },
    {
      "metadata": {
        "id": "Cdulk3Tf93M4",
        "colab_type": "text"
      },
      "cell_type": "markdown",
      "source": [
        "\n",
        "calendar.prmonth(theyear, themonth, w=0, l=0)\n",
        "\n",
        "    Prints a month’s calendar as returned by month().\n"
      ]
    },
    {
      "metadata": {
        "id": "cTAYoVK19116",
        "colab_type": "code",
        "outputId": "1f7cc41b-4b06-4d10-d58d-c41464c90c5a",
        "colab": {
          "base_uri": "https://localhost:8080/",
          "height": 139
        }
      },
      "cell_type": "code",
      "source": [
        "calendar.prmonth(2019, 1, w=0, l=0)"
      ],
      "execution_count": 0,
      "outputs": [
        {
          "output_type": "stream",
          "text": [
            "    January 2019\n",
            "Mo Tu We Th Fr Sa Su\n",
            "    1  2  3  4  5  6\n",
            " 7  8  9 10 11 12 13\n",
            "14 15 16 17 18 19 20\n",
            "21 22 23 24 25 26 27\n",
            "28 29 30 31\n"
          ],
          "name": "stdout"
        }
      ]
    }
  ]
}