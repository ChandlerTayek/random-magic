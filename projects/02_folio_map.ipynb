{
  "nbformat": 4,
  "nbformat_minor": 0,
  "metadata": {
    "colab": {
      "name": "02-folio-map.ipynb",
      "version": "0.3.2",
      "provenance": [],
      "include_colab_link": true
    },
    "kernelspec": {
      "name": "python3",
      "display_name": "Python 3"
    }
  },
  "cells": [
    {
      "cell_type": "markdown",
      "metadata": {
        "id": "view-in-github",
        "colab_type": "text"
      },
      "source": [
        "<a href=\"https://colab.research.google.com/github/kovacova/random-magic/blob/master/projects/02_folio_map.ipynb\" target=\"_parent\"><img src=\"https://colab.research.google.com/assets/colab-badge.svg\" alt=\"Open In Colab\"/></a>"
      ]
    },
    {
      "metadata": {
        "id": "50wIF2BGlvUP",
        "colab_type": "text"
      },
      "cell_type": "markdown",
      "source": [
        "# Building Web Maps Using Folium \n",
        "\n",
        "[TDS Tutorial](https://towardsdatascience.com/master-python-through-building-real-world-applications-part-2-60d707955aa3)"
      ]
    },
    {
      "metadata": {
        "id": "cn1lUhaclq03",
        "colab_type": "code",
        "colab": {}
      },
      "cell_type": "code",
      "source": [
        ""
      ],
      "execution_count": 0,
      "outputs": []
    }
  ]
}