{
  "nbformat": 4,
  "nbformat_minor": 0,
  "metadata": {
    "colab": {
      "name": "03-python-emails.ipynb",
      "version": "0.3.2",
      "provenance": [],
      "include_colab_link": true
    },
    "kernelspec": {
      "name": "python3",
      "display_name": "Python 3"
    }
  },
  "cells": [
    {
      "cell_type": "markdown",
      "metadata": {
        "id": "view-in-github",
        "colab_type": "text"
      },
      "source": [
        "<a href=\"https://colab.research.google.com/github/kovacova/random-magic/blob/master/projects/03-python-emails.ipynb\" target=\"_parent\"><img src=\"https://colab.research.google.com/assets/colab-badge.svg\" alt=\"Open In Colab\"/></a>"
      ]
    },
    {
      "metadata": {
        "id": "n62n_05mxSrH",
        "colab_type": "text"
      },
      "cell_type": "markdown",
      "source": [
        "## Sending Emails From Python Using SMTP\n",
        "\n",
        "A few notes:\n",
        "* Temporarily allow less secure apps or generate an [app password](https://support.google.com/accounts/answer/185833) \n",
        "* Does not support emojis 😕\n",
        "* The port number for the SMTP protocol is always [587](https://support.google.com/mail/answer/7126229?p=BadCredentials&visit_id=636821158495224635-2462334789&rd=2#cantsignin)\n",
        "\n",
        "<br> \n",
        "\n",
        "[Automate the Boring Stuff - Email Tutorial](https://www.udemy.com/automate/learn/v4/t/lecture/3470634?start=568)\n"
      ]
    },
    {
      "metadata": {
        "id": "Dtm6ezFlstOA",
        "colab_type": "code",
        "colab": {}
      },
      "cell_type": "code",
      "source": [
        "# Imports the SMTP library\n",
        "\n",
        "import smtplib"
      ],
      "execution_count": 0,
      "outputs": []
    },
    {
      "metadata": {
        "id": "EemTuPlssuZc",
        "colab_type": "code",
        "outputId": "6a818a53-ec1a-4dab-fe85-36f7b37af03a",
        "colab": {
          "base_uri": "https://localhost:8080/",
          "height": 34
        }
      },
      "cell_type": "code",
      "source": [
        "# Establishes a SMTP connection to Gmail\n",
        "\n",
        "conn = smtplib.SMTP('smtp.gmail.com', 587)\n",
        "type(conn)"
      ],
      "execution_count": 0,
      "outputs": [
        {
          "output_type": "execute_result",
          "data": {
            "text/plain": [
              "smtplib.SMTP"
            ]
          },
          "metadata": {
            "tags": []
          },
          "execution_count": 2
        }
      ]
    },
    {
      "metadata": {
        "id": "DgJ9V01ns98R",
        "colab_type": "code",
        "colab": {}
      },
      "cell_type": "code",
      "source": [
        "# Confirms the connection\n",
        "\n",
        "conn.ehlo()"
      ],
      "execution_count": 0,
      "outputs": []
    },
    {
      "metadata": {
        "id": "YWt8uOootA5y",
        "colab_type": "code",
        "outputId": "80b9c31b-d863-4c0f-87f8-559ca05a66a7",
        "colab": {
          "base_uri": "https://localhost:8080/",
          "height": 34
        }
      },
      "cell_type": "code",
      "source": [
        "# Establishes a TLS connection\n",
        "\n",
        "conn.starttls()"
      ],
      "execution_count": 0,
      "outputs": [
        {
          "output_type": "execute_result",
          "data": {
            "text/plain": [
              "(220, b'2.0.0 Ready to start TLS')"
            ]
          },
          "metadata": {
            "tags": []
          },
          "execution_count": 4
        }
      ]
    },
    {
      "metadata": {
        "id": "md2F6e1MtKVy",
        "colab_type": "code",
        "outputId": "076267f0-1f43-4448-ff6d-58cfaf6a8d71",
        "colab": {
          "base_uri": "https://localhost:8080/",
          "height": 34
        }
      },
      "cell_type": "code",
      "source": [
        "# Logs the user into their Gmail account     Note: Auth failure if less secure connections are not allowed and/or 2FA \n",
        "\n",
        "conn.login('email', 'pass')"
      ],
      "execution_count": 0,
      "outputs": [
        {
          "output_type": "execute_result",
          "data": {
            "text/plain": [
              "(235, b'2.7.0 Accepted')"
            ]
          },
          "metadata": {
            "tags": []
          },
          "execution_count": 5
        }
      ]
    },
    {
      "metadata": {
        "id": "Z6jTc6motYjY",
        "colab_type": "code",
        "outputId": "ada49f2e-30fc-4ac0-83c4-9df645cb3258",
        "colab": {
          "base_uri": "https://localhost:8080/",
          "height": 34
        }
      },
      "cell_type": "code",
      "source": [
        "# Sends a test email\n",
        "\n",
        "conn.sendmail('test@gmail.com', 'test@gmail.com', 'Subject: Python/Colab Email Test \\n\\nDear Tina, \\nif this works I will be fairly surprised, but in a good way. \\nSo hiya! \\n\\n-Tina from Python')"
      ],
      "execution_count": 0,
      "outputs": [
        {
          "output_type": "execute_result",
          "data": {
            "text/plain": [
              "{}"
            ]
          },
          "metadata": {
            "tags": []
          },
          "execution_count": 8
        }
      ]
    },
    {
      "metadata": {
        "id": "JEE7e8Kn5-aV",
        "colab_type": "text"
      },
      "cell_type": "markdown",
      "source": [
        "## Checking Emails using IMAP"
      ]
    },
    {
      "metadata": {
        "id": "MvRBVxG4wQNz",
        "colab_type": "code",
        "colab": {}
      },
      "cell_type": "code",
      "source": [
        "! pip install imapclient -q\n",
        "# ! pip install pyzmail -q        ❌ DEBUG: Command \"python setup.py egg_info\" failed with error code 1 in /tmp/pip-install-do8t6j0a/distribute/"
      ],
      "execution_count": 0,
      "outputs": []
    },
    {
      "metadata": {
        "id": "b7IGAJSO8RoZ",
        "colab_type": "code",
        "colab": {}
      },
      "cell_type": "code",
      "source": [
        "import imapclient \n",
        "\n",
        "conn = imapclient.IMAPClient('imap.gmail.com', ssl=True)\n",
        "conn.login('username@gmail.com', 'app password')  # App Password"
      ],
      "execution_count": 0,
      "outputs": []
    },
    {
      "metadata": {
        "id": "xTvpUSpq9fqK",
        "colab_type": "code",
        "outputId": "cfa2bed3-2950-4afc-b16a-e782c9a45d61",
        "colab": {
          "base_uri": "https://localhost:8080/",
          "height": 306
        }
      },
      "cell_type": "code",
      "source": [
        "conn.select_folder('INBOX', readonly=True)"
      ],
      "execution_count": 0,
      "outputs": [
        {
          "output_type": "execute_result",
          "data": {
            "text/plain": [
              "{b'EXISTS': 234,\n",
              " b'FLAGS': (b'\\\\Answered',\n",
              "  b'\\\\Flagged',\n",
              "  b'\\\\Draft',\n",
              "  b'\\\\Deleted',\n",
              "  b'\\\\Seen',\n",
              "  b'$Forwarded',\n",
              "  b'$NotJunk',\n",
              "  b'$NotPhishing',\n",
              "  b'$Phishing',\n",
              "  b'NotJunk'),\n",
              " b'HIGHESTMODSEQ': 6088421,\n",
              " b'PERMANENTFLAGS': (),\n",
              " b'READ-ONLY': [b''],\n",
              " b'RECENT': 0,\n",
              " b'UIDNEXT': 33281,\n",
              " b'UIDVALIDITY': 2}"
            ]
          },
          "metadata": {
            "tags": []
          },
          "execution_count": 15
        }
      ]
    },
    {
      "metadata": {
        "id": "FGKvVwZQ9p75",
        "colab_type": "code",
        "colab": {}
      },
      "cell_type": "code",
      "source": [
        "UIDs = conn.search(['ALL'])\n",
        "# UIDs"
      ],
      "execution_count": 0,
      "outputs": []
    },
    {
      "metadata": {
        "id": "pW8v_5cb9vKz",
        "colab_type": "code",
        "colab": {}
      },
      "cell_type": "code",
      "source": [
        "message = conn.fetch(['insert UID number xxxxx'], ['BODY[]', 'FLAGS'])"
      ],
      "execution_count": 0,
      "outputs": []
    }
  ]
}