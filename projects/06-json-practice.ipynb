{
  "nbformat": 4,
  "nbformat_minor": 0,
  "metadata": {
    "colab": {
      "name": "06-json-practice.ipynb",
      "version": "0.3.2",
      "provenance": [],
      "include_colab_link": true
    },
    "kernelspec": {
      "name": "python3",
      "display_name": "Python 3"
    }
  },
  "cells": [
    {
      "cell_type": "markdown",
      "metadata": {
        "id": "view-in-github",
        "colab_type": "text"
      },
      "source": [
        "<a href=\"https://colab.research.google.com/github/kovacova/random-magic/blob/master/projects/06-json-practice.ipynb\" target=\"_parent\"><img src=\"https://colab.research.google.com/assets/colab-badge.svg\" alt=\"Open In Colab\"/></a>"
      ]
    },
    {
      "metadata": {
        "id": "KMN7TlVw9lRS",
        "colab_type": "text"
      },
      "cell_type": "markdown",
      "source": [
        "## JSON Practice\n",
        "\n",
        "https://twitter.com/joelgrus/status/1083563799615922176\n",
        "\n",
        "<img src=\"https://pbs.twimg.com/media/DwmZV_OW0AAiEOJ.jpg\" width=\"250\">\n"
      ]
    },
    {
      "metadata": {
        "id": "fuyaGbDZ9FQ7",
        "colab_type": "code",
        "colab": {}
      },
      "cell_type": "code",
      "source": [
        "import pandas as pd\n",
        "import json\n",
        "import requests\n",
        "\n",
        "url = \"https://www.sutterhealth.org/for-patients/chargemaster-2019.json\"\n",
        "raw_data = requests.get(url).content\n",
        "\n",
        "df = pd.DataFrame(json.loads(raw_data)['CDM'])\n",
        "df.columns = [col.lower() for col in df.columns]\n",
        "df.rename(columns={'descripion': 'description'}, inplace=True)"
      ],
      "execution_count": 0,
      "outputs": []
    },
    {
      "metadata": {
        "id": "eX1nevrC9f9K",
        "colab_type": "code",
        "colab": {
          "base_uri": "https://localhost:8080/",
          "height": 204
        },
        "outputId": "69942e8c-6ff0-422b-ad4c-596f0333225a"
      },
      "cell_type": "code",
      "source": [
        "df.head()"
      ],
      "execution_count": 4,
      "outputs": [
        {
          "output_type": "execute_result",
          "data": {
            "text/html": [
              "<div>\n",
              "<style scoped>\n",
              "    .dataframe tbody tr th:only-of-type {\n",
              "        vertical-align: middle;\n",
              "    }\n",
              "\n",
              "    .dataframe tbody tr th {\n",
              "        vertical-align: top;\n",
              "    }\n",
              "\n",
              "    .dataframe thead th {\n",
              "        text-align: right;\n",
              "    }\n",
              "</style>\n",
              "<table border=\"1\" class=\"dataframe\">\n",
              "  <thead>\n",
              "    <tr style=\"text-align: right;\">\n",
              "      <th></th>\n",
              "      <th>cdm</th>\n",
              "      <th>charge</th>\n",
              "      <th>cms_prov_id</th>\n",
              "      <th>description</th>\n",
              "      <th>facility</th>\n",
              "      <th>hospital_name</th>\n",
              "      <th>revenue_code</th>\n",
              "      <th>service_setting</th>\n",
              "    </tr>\n",
              "  </thead>\n",
              "  <tbody>\n",
              "    <tr>\n",
              "      <th>0</th>\n",
              "      <td>DRG-064</td>\n",
              "      <td>94946.0</td>\n",
              "      <td>50305</td>\n",
              "      <td>INTRACRANIAL HEMORRHAGE OR CEREBRAL INFARCTION...</td>\n",
              "      <td>ABMC</td>\n",
              "      <td>Alta Bates Summit Medical Center - Alta Bates ...</td>\n",
              "      <td></td>\n",
              "      <td>DRG</td>\n",
              "    </tr>\n",
              "    <tr>\n",
              "      <th>1</th>\n",
              "      <td>DRG-189</td>\n",
              "      <td>52947.0</td>\n",
              "      <td>50305</td>\n",
              "      <td>PULMONARY EDEMA &amp; RESPIRATORY FAILURE</td>\n",
              "      <td>ABMC</td>\n",
              "      <td>Alta Bates Summit Medical Center - Alta Bates ...</td>\n",
              "      <td></td>\n",
              "      <td>DRG</td>\n",
              "    </tr>\n",
              "    <tr>\n",
              "      <th>2</th>\n",
              "      <td>DRG-190</td>\n",
              "      <td>54264.0</td>\n",
              "      <td>50305</td>\n",
              "      <td>CHRONIC OBSTRUCTIVE PULMONARY DISEASE W MCC</td>\n",
              "      <td>ABMC</td>\n",
              "      <td>Alta Bates Summit Medical Center - Alta Bates ...</td>\n",
              "      <td></td>\n",
              "      <td>DRG</td>\n",
              "    </tr>\n",
              "    <tr>\n",
              "      <th>3</th>\n",
              "      <td>DRG-193</td>\n",
              "      <td>51524.0</td>\n",
              "      <td>50305</td>\n",
              "      <td>SIMPLE PNEUMONIA &amp; PLEURISY W MCC</td>\n",
              "      <td>ABMC</td>\n",
              "      <td>Alta Bates Summit Medical Center - Alta Bates ...</td>\n",
              "      <td></td>\n",
              "      <td>DRG</td>\n",
              "    </tr>\n",
              "    <tr>\n",
              "      <th>4</th>\n",
              "      <td>DRG-194</td>\n",
              "      <td>34576.0</td>\n",
              "      <td>50305</td>\n",
              "      <td>SIMPLE PNEUMONIA &amp; PLEURISY W CC</td>\n",
              "      <td>ABMC</td>\n",
              "      <td>Alta Bates Summit Medical Center - Alta Bates ...</td>\n",
              "      <td></td>\n",
              "      <td>DRG</td>\n",
              "    </tr>\n",
              "  </tbody>\n",
              "</table>\n",
              "</div>"
            ],
            "text/plain": [
              "       cdm   charge cms_prov_id  \\\n",
              "0  DRG-064  94946.0       50305   \n",
              "1  DRG-189  52947.0       50305   \n",
              "2  DRG-190  54264.0       50305   \n",
              "3  DRG-193  51524.0       50305   \n",
              "4  DRG-194  34576.0       50305   \n",
              "\n",
              "                                         description facility  \\\n",
              "0  INTRACRANIAL HEMORRHAGE OR CEREBRAL INFARCTION...     ABMC   \n",
              "1              PULMONARY EDEMA & RESPIRATORY FAILURE     ABMC   \n",
              "2        CHRONIC OBSTRUCTIVE PULMONARY DISEASE W MCC     ABMC   \n",
              "3                  SIMPLE PNEUMONIA & PLEURISY W MCC     ABMC   \n",
              "4                   SIMPLE PNEUMONIA & PLEURISY W CC     ABMC   \n",
              "\n",
              "                                       hospital_name revenue_code  \\\n",
              "0  Alta Bates Summit Medical Center - Alta Bates ...                \n",
              "1  Alta Bates Summit Medical Center - Alta Bates ...                \n",
              "2  Alta Bates Summit Medical Center - Alta Bates ...                \n",
              "3  Alta Bates Summit Medical Center - Alta Bates ...                \n",
              "4  Alta Bates Summit Medical Center - Alta Bates ...                \n",
              "\n",
              "  service_setting  \n",
              "0             DRG  \n",
              "1             DRG  \n",
              "2             DRG  \n",
              "3             DRG  \n",
              "4             DRG  "
            ]
          },
          "metadata": {
            "tags": []
          },
          "execution_count": 4
        }
      ]
    }
  ]
}