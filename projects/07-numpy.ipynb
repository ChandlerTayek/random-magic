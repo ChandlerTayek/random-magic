{
  "nbformat": 4,
  "nbformat_minor": 0,
  "metadata": {
    "colab": {
      "name": "07-numpy.ipynb",
      "version": "0.3.2",
      "provenance": [],
      "collapsed_sections": [],
      "include_colab_link": true
    },
    "kernelspec": {
      "name": "python3",
      "display_name": "Python 3"
    }
  },
  "cells": [
    {
      "cell_type": "markdown",
      "metadata": {
        "id": "view-in-github",
        "colab_type": "text"
      },
      "source": [
        "<a href=\"https://colab.research.google.com/github/kovacova/random-magic/blob/master/projects/07-numpy.ipynb\" target=\"_parent\"><img src=\"https://colab.research.google.com/assets/colab-badge.svg\" alt=\"Open In Colab\"/></a>"
      ]
    },
    {
      "metadata": {
        "id": "6ef3xU1eqJIZ",
        "colab_type": "code",
        "colab": {}
      },
      "cell_type": "code",
      "source": [
        "import numpy as np"
      ],
      "execution_count": 0,
      "outputs": []
    },
    {
      "metadata": {
        "id": "B_zxjJd0qKa3",
        "colab_type": "code",
        "outputId": "abb42614-20b3-4d33-84c9-a8bee6da2abf",
        "colab": {
          "base_uri": "https://localhost:8080/",
          "height": 51
        }
      },
      "cell_type": "code",
      "source": [
        "a = np.mat('4 3 ; 2 1')\n",
        "a"
      ],
      "execution_count": 0,
      "outputs": [
        {
          "output_type": "execute_result",
          "data": {
            "text/plain": [
              "matrix([[4, 3],\n",
              "        [2, 1]])"
            ]
          },
          "metadata": {
            "tags": []
          },
          "execution_count": 3
        }
      ]
    },
    {
      "metadata": {
        "id": "YhF3OT0KqjSy",
        "colab_type": "code",
        "outputId": "09321f1b-578a-4e84-d436-7b35ede987ac",
        "colab": {
          "base_uri": "https://localhost:8080/",
          "height": 68
        }
      },
      "cell_type": "code",
      "source": [
        "print('Transpose \\n', a.T)"
      ],
      "execution_count": 0,
      "outputs": [
        {
          "output_type": "stream",
          "text": [
            "Transpose \n",
            " [[4 2]\n",
            " [3 1]]\n"
          ],
          "name": "stdout"
        }
      ]
    },
    {
      "metadata": {
        "id": "jpIgC7WPqRBk",
        "colab_type": "code",
        "outputId": "d7a6c1ed-e32c-4c4b-e5ed-9d3de4ff2fd6",
        "colab": {
          "base_uri": "https://localhost:8080/",
          "height": 68
        }
      },
      "cell_type": "code",
      "source": [
        "print('Inverse \\n', a.I)"
      ],
      "execution_count": 0,
      "outputs": [
        {
          "output_type": "stream",
          "text": [
            "Inverse \n",
            " [[-0.5  1.5]\n",
            " [ 1.  -2. ]]\n"
          ],
          "name": "stdout"
        }
      ]
    },
    {
      "metadata": {
        "id": "OO9_EFPGq2cQ",
        "colab_type": "text"
      },
      "cell_type": "markdown",
      "source": [
        "# Numpy Linalg - Linear Algebra Library for Numpy"
      ]
    },
    {
      "metadata": {
        "id": "YSIl5zLeqXY3",
        "colab_type": "code",
        "colab": {}
      },
      "cell_type": "code",
      "source": [
        "# Numpy Linalg - Linear Algebra Library for Numpy\n",
        "\n",
        "c = np.asmatrix(df['column_1', 'column_2'])"
      ],
      "execution_count": 0,
      "outputs": []
    },
    {
      "metadata": {
        "id": "l3_a0YUDHG6W",
        "colab_type": "text"
      },
      "cell_type": "markdown",
      "source": [
        "# @ - Python's Matrix Multiplication Operator\n",
        "\n",
        "\n",
        "PEP 465 introduced the @ infix operator that is designated to be used for matrix multiplication.\n",
        "\n",
        "🔗[Tutorial](https://alysivji.github.io/python-matrix-multiplication-operator.html)"
      ]
    },
    {
      "metadata": {
        "id": "CrOVdcd8HQsX",
        "colab_type": "code",
        "colab": {}
      },
      "cell_type": "code",
      "source": [
        "import numpy as np"
      ],
      "execution_count": 0,
      "outputs": []
    },
    {
      "metadata": {
        "id": "tduOPuVyHaFL",
        "colab_type": "code",
        "colab": {
          "base_uri": "https://localhost:8080/",
          "height": 51
        },
        "outputId": "e43cb9e2-f751-49c1-84db-6374b5f5add8"
      },
      "cell_type": "code",
      "source": [
        "A = np.matrix('3 1; 7 9')\n",
        "A"
      ],
      "execution_count": 4,
      "outputs": [
        {
          "output_type": "execute_result",
          "data": {
            "text/plain": [
              "matrix([[3, 1],\n",
              "        [7, 9]])"
            ]
          },
          "metadata": {
            "tags": []
          },
          "execution_count": 4
        }
      ]
    },
    {
      "metadata": {
        "id": "GwCmlzYuHv9z",
        "colab_type": "code",
        "colab": {
          "base_uri": "https://localhost:8080/",
          "height": 51
        },
        "outputId": "317f62f7-c89a-44de-de7d-fc82f9530305"
      },
      "cell_type": "code",
      "source": [
        "B = np.matrix('6 1; 7 9')\n",
        "B"
      ],
      "execution_count": 5,
      "outputs": [
        {
          "output_type": "execute_result",
          "data": {
            "text/plain": [
              "matrix([[6, 1],\n",
              "        [7, 9]])"
            ]
          },
          "metadata": {
            "tags": []
          },
          "execution_count": 5
        }
      ]
    },
    {
      "metadata": {
        "id": "w-mcQLHPH0nc",
        "colab_type": "code",
        "colab": {
          "base_uri": "https://localhost:8080/",
          "height": 51
        },
        "outputId": "c32fdba2-9333-4c8e-eaf6-589ce54c60a3"
      },
      "cell_type": "code",
      "source": [
        "# Performs Matrix Multiplication Beautifully\n",
        "A @ B"
      ],
      "execution_count": 6,
      "outputs": [
        {
          "output_type": "execute_result",
          "data": {
            "text/plain": [
              "matrix([[ 25,  12],\n",
              "        [105,  88]])"
            ]
          },
          "metadata": {
            "tags": []
          },
          "execution_count": 6
        }
      ]
    }
  ]
}