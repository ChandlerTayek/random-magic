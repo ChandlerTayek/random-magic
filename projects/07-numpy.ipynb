{
  "nbformat": 4,
  "nbformat_minor": 0,
  "metadata": {
    "colab": {
      "name": "07-numpy.ipynb",
      "version": "0.3.2",
      "provenance": [],
      "collapsed_sections": [],
      "include_colab_link": true
    },
    "kernelspec": {
      "name": "python3",
      "display_name": "Python 3"
    }
  },
  "cells": [
    {
      "cell_type": "markdown",
      "metadata": {
        "id": "view-in-github",
        "colab_type": "text"
      },
      "source": [
        "<a href=\"https://colab.research.google.com/github/kovacova/random-magic/blob/master/projects/07-numpy.ipynb\" target=\"_parent\"><img src=\"https://colab.research.google.com/assets/colab-badge.svg\" alt=\"Open In Colab\"/></a>"
      ]
    },
    {
      "metadata": {
        "id": "6ef3xU1eqJIZ",
        "colab_type": "code",
        "colab": {}
      },
      "cell_type": "code",
      "source": [
        "import numpy as np"
      ],
      "execution_count": 0,
      "outputs": []
    },
    {
      "metadata": {
        "id": "B_zxjJd0qKa3",
        "colab_type": "code",
        "outputId": "abb42614-20b3-4d33-84c9-a8bee6da2abf",
        "colab": {
          "base_uri": "https://localhost:8080/",
          "height": 51
        }
      },
      "cell_type": "code",
      "source": [
        "a = np.mat('4 3 ; 2 1')\n",
        "a"
      ],
      "execution_count": 0,
      "outputs": [
        {
          "output_type": "execute_result",
          "data": {
            "text/plain": [
              "matrix([[4, 3],\n",
              "        [2, 1]])"
            ]
          },
          "metadata": {
            "tags": []
          },
          "execution_count": 3
        }
      ]
    },
    {
      "metadata": {
        "id": "YhF3OT0KqjSy",
        "colab_type": "code",
        "outputId": "09321f1b-578a-4e84-d436-7b35ede987ac",
        "colab": {
          "base_uri": "https://localhost:8080/",
          "height": 68
        }
      },
      "cell_type": "code",
      "source": [
        "print('Transpose \\n', a.T)"
      ],
      "execution_count": 0,
      "outputs": [
        {
          "output_type": "stream",
          "text": [
            "Transpose \n",
            " [[4 2]\n",
            " [3 1]]\n"
          ],
          "name": "stdout"
        }
      ]
    },
    {
      "metadata": {
        "id": "jpIgC7WPqRBk",
        "colab_type": "code",
        "outputId": "d7a6c1ed-e32c-4c4b-e5ed-9d3de4ff2fd6",
        "colab": {
          "base_uri": "https://localhost:8080/",
          "height": 68
        }
      },
      "cell_type": "code",
      "source": [
        "print('Inverse \\n', a.I)"
      ],
      "execution_count": 0,
      "outputs": [
        {
          "output_type": "stream",
          "text": [
            "Inverse \n",
            " [[-0.5  1.5]\n",
            " [ 1.  -2. ]]\n"
          ],
          "name": "stdout"
        }
      ]
    },
    {
      "metadata": {
        "id": "OO9_EFPGq2cQ",
        "colab_type": "text"
      },
      "cell_type": "markdown",
      "source": [
        "# Numpy Linalg - Linear Algebra Library for Numpy"
      ]
    },
    {
      "metadata": {
        "id": "YSIl5zLeqXY3",
        "colab_type": "code",
        "colab": {}
      },
      "cell_type": "code",
      "source": [
        "# Numpy Linalg - Linear Algebra Library for Numpy\n",
        "\n",
        "c = np.asmatrix(df['column_1', 'column_2'])"
      ],
      "execution_count": 0,
      "outputs": []
    },
    {
      "metadata": {
        "id": "l3_a0YUDHG6W",
        "colab_type": "text"
      },
      "cell_type": "markdown",
      "source": [
        "# @ - Python's Matrix Multiplication Operator\n",
        "\n",
        "\n",
        "PEP 465 introduced the @ infix operator that is designated to be used for matrix multiplication.\n",
        "\n",
        "🔗[Tutorial](https://alysivji.github.io/python-matrix-multiplication-operator.html)"
      ]
    },
    {
      "metadata": {
        "id": "CrOVdcd8HQsX",
        "colab_type": "code",
        "colab": {}
      },
      "cell_type": "code",
      "source": [
        "import numpy as np"
      ],
      "execution_count": 0,
      "outputs": []
    },
    {
      "metadata": {
        "id": "tduOPuVyHaFL",
        "colab_type": "code",
        "outputId": "e43cb9e2-f751-49c1-84db-6374b5f5add8",
        "colab": {
          "base_uri": "https://localhost:8080/",
          "height": 51
        }
      },
      "cell_type": "code",
      "source": [
        "A = np.matrix('3 1; 7 9')\n",
        "A"
      ],
      "execution_count": 0,
      "outputs": [
        {
          "output_type": "execute_result",
          "data": {
            "text/plain": [
              "matrix([[3, 1],\n",
              "        [7, 9]])"
            ]
          },
          "metadata": {
            "tags": []
          },
          "execution_count": 4
        }
      ]
    },
    {
      "metadata": {
        "id": "GwCmlzYuHv9z",
        "colab_type": "code",
        "outputId": "317f62f7-c89a-44de-de7d-fc82f9530305",
        "colab": {
          "base_uri": "https://localhost:8080/",
          "height": 51
        }
      },
      "cell_type": "code",
      "source": [
        "B = np.matrix('6 1; 7 9')\n",
        "B"
      ],
      "execution_count": 0,
      "outputs": [
        {
          "output_type": "execute_result",
          "data": {
            "text/plain": [
              "matrix([[6, 1],\n",
              "        [7, 9]])"
            ]
          },
          "metadata": {
            "tags": []
          },
          "execution_count": 5
        }
      ]
    },
    {
      "metadata": {
        "id": "w-mcQLHPH0nc",
        "colab_type": "code",
        "outputId": "c32fdba2-9333-4c8e-eaf6-589ce54c60a3",
        "colab": {
          "base_uri": "https://localhost:8080/",
          "height": 51
        }
      },
      "cell_type": "code",
      "source": [
        "# Performs Matrix Multiplication Beautifully\n",
        "A @ B"
      ],
      "execution_count": 0,
      "outputs": [
        {
          "output_type": "execute_result",
          "data": {
            "text/plain": [
              "matrix([[ 25,  12],\n",
              "        [105,  88]])"
            ]
          },
          "metadata": {
            "tags": []
          },
          "execution_count": 6
        }
      ]
    },
    {
      "metadata": {
        "id": "Dw2-eal3M0_1",
        "colab_type": "text"
      },
      "cell_type": "markdown",
      "source": [
        "# Dot Product & Orthogonality\n",
        "\n",
        "Two vectors are orthogonal if their dot product is zero, i.e. they make an angle of 90° (π/2 radians), or one of the vectors is zero. \n",
        "\n",
        "[Video Embed Tutorial](https://gist.github.com/christopherlovell/e3e70880c0b0ad666e7b5fe311320a62)"
      ]
    },
    {
      "metadata": {
        "id": "mbsb7x3iOVpy",
        "colab_type": "code",
        "colab": {
          "base_uri": "https://localhost:8080/",
          "height": 336
        },
        "outputId": "d0414c9d-eaef-4a3f-eb07-3a712ff3ed98"
      },
      "cell_type": "code",
      "source": [
        "from IPython.display import HTML\n",
        "\n",
        "HTML('<iframe width=\"560\" height=\"315\" src=\"https://www.youtube.com/embed/tGYvaabMbYA\" frameborder=\"0\" allowfullscreen></iframe>')"
      ],
      "execution_count": 21,
      "outputs": [
        {
          "output_type": "execute_result",
          "data": {
            "text/html": [
              "<iframe width=\"560\" height=\"315\" src=\"https://www.youtube.com/embed/tGYvaabMbYA\" frameborder=\"0\" allowfullscreen></iframe>"
            ],
            "text/plain": [
              "<IPython.core.display.HTML object>"
            ]
          },
          "metadata": {
            "tags": []
          },
          "execution_count": 21
        }
      ]
    },
    {
      "metadata": {
        "id": "M9YRzNhiM17q",
        "colab_type": "code",
        "colab": {}
      },
      "cell_type": "code",
      "source": [
        "i = [-3, 4]\n",
        "j = [4, 3]"
      ],
      "execution_count": 0,
      "outputs": []
    },
    {
      "metadata": {
        "id": "R-iKcnxcM9SU",
        "colab_type": "code",
        "colab": {
          "base_uri": "https://localhost:8080/",
          "height": 34
        },
        "outputId": "ee05bbb0-4e76-4b4b-d40a-57d569e18739"
      },
      "cell_type": "code",
      "source": [
        "# The dot product of the i, j vectors\n",
        "np.dot(i,j) "
      ],
      "execution_count": 23,
      "outputs": [
        {
          "output_type": "execute_result",
          "data": {
            "text/plain": [
              "0"
            ]
          },
          "metadata": {
            "tags": []
          },
          "execution_count": 23
        }
      ]
    },
    {
      "metadata": {
        "id": "KvgWlz-qPH9H",
        "colab_type": "code",
        "colab": {
          "base_uri": "https://localhost:8080/",
          "height": 321
        },
        "outputId": "4c05cea2-ec34-4078-83a2-f4863a211133"
      },
      "cell_type": "code",
      "source": [
        "from IPython.lib.display import YouTubeVideo\n",
        "YouTubeVideo('b_pTxGu2L04')"
      ],
      "execution_count": 24,
      "outputs": [
        {
          "output_type": "execute_result",
          "data": {
            "text/html": [
              "\n",
              "        <iframe\n",
              "            width=\"400\"\n",
              "            height=\"300\"\n",
              "            src=\"https://www.youtube.com/embed/b_pTxGu2L04\"\n",
              "            frameborder=\"0\"\n",
              "            allowfullscreen\n",
              "        ></iframe>\n",
              "        "
            ],
            "text/plain": [
              "<IPython.lib.display.YouTubeVideo at 0x7f239bcacc18>"
            ],
            "image/jpeg": "[encoded data removed]"
          },
          "metadata": {
            "tags": []
          },
          "execution_count": 24
        }
      ]
    }
  ]
}