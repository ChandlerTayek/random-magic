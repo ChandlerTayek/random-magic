{
  "nbformat": 4,
  "nbformat_minor": 0,
  "metadata": {
    "colab": {
      "name": "07-numpy.ipynb",
      "version": "0.3.2",
      "provenance": [],
      "include_colab_link": true
    },
    "kernelspec": {
      "name": "python3",
      "display_name": "Python 3"
    }
  },
  "cells": [
    {
      "cell_type": "markdown",
      "metadata": {
        "id": "view-in-github",
        "colab_type": "text"
      },
      "source": [
        "<a href=\"https://colab.research.google.com/github/kovacova/random-magic/blob/master/projects/07_numpy.ipynb\" target=\"_parent\"><img src=\"https://colab.research.google.com/assets/colab-badge.svg\" alt=\"Open In Colab\"/></a>"
      ]
    },
    {
      "metadata": {
        "id": "6ef3xU1eqJIZ",
        "colab_type": "code",
        "colab": {}
      },
      "cell_type": "code",
      "source": [
        "import numpy as np"
      ],
      "execution_count": 0,
      "outputs": []
    },
    {
      "metadata": {
        "id": "B_zxjJd0qKa3",
        "colab_type": "code",
        "colab": {
          "base_uri": "https://localhost:8080/",
          "height": 51
        },
        "outputId": "abb42614-20b3-4d33-84c9-a8bee6da2abf"
      },
      "cell_type": "code",
      "source": [
        "a = np.mat('4 3 ; 2 1')\n",
        "a"
      ],
      "execution_count": 3,
      "outputs": [
        {
          "output_type": "execute_result",
          "data": {
            "text/plain": [
              "matrix([[4, 3],\n",
              "        [2, 1]])"
            ]
          },
          "metadata": {
            "tags": []
          },
          "execution_count": 3
        }
      ]
    },
    {
      "metadata": {
        "id": "YhF3OT0KqjSy",
        "colab_type": "code",
        "colab": {
          "base_uri": "https://localhost:8080/",
          "height": 68
        },
        "outputId": "09321f1b-578a-4e84-d436-7b35ede987ac"
      },
      "cell_type": "code",
      "source": [
        "print('Transpose \\n', a.T)"
      ],
      "execution_count": 6,
      "outputs": [
        {
          "output_type": "stream",
          "text": [
            "Transpose \n",
            " [[4 2]\n",
            " [3 1]]\n"
          ],
          "name": "stdout"
        }
      ]
    },
    {
      "metadata": {
        "id": "jpIgC7WPqRBk",
        "colab_type": "code",
        "colab": {
          "base_uri": "https://localhost:8080/",
          "height": 68
        },
        "outputId": "d7a6c1ed-e32c-4c4b-e5ed-9d3de4ff2fd6"
      },
      "cell_type": "code",
      "source": [
        "print('Inverse \\n', a.I)"
      ],
      "execution_count": 7,
      "outputs": [
        {
          "output_type": "stream",
          "text": [
            "Inverse \n",
            " [[-0.5  1.5]\n",
            " [ 1.  -2. ]]\n"
          ],
          "name": "stdout"
        }
      ]
    },
    {
      "metadata": {
        "id": "OO9_EFPGq2cQ",
        "colab_type": "text"
      },
      "cell_type": "markdown",
      "source": [
        "# Numpy Linalg - Linear Algebra Library for Numpy"
      ]
    },
    {
      "metadata": {
        "id": "YSIl5zLeqXY3",
        "colab_type": "code",
        "colab": {}
      },
      "cell_type": "code",
      "source": [
        "# Numpy Linalg - Linear Algebra Library for Numpy\n",
        "\n",
        "c = np.asmatrix(df['column_1', 'column_2'])"
      ],
      "execution_count": 0,
      "outputs": []
    }
  ]
}