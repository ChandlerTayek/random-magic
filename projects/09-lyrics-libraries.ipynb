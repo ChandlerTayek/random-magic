{
  "nbformat": 4,
  "nbformat_minor": 0,
  "metadata": {
    "colab": {
      "name": "09-lyrics-libraries.ipynb",
      "version": "0.3.2",
      "provenance": [],
      "collapsed_sections": [],
      "include_colab_link": true
    },
    "kernelspec": {
      "name": "python3",
      "display_name": "Python 3"
    }
  },
  "cells": [
    {
      "cell_type": "markdown",
      "metadata": {
        "id": "view-in-github",
        "colab_type": "text"
      },
      "source": [
        "<a href=\"https://colab.research.google.com/github/kovacova/random-magic/blob/master/projects/09-lyrics-libraries.ipynb\" target=\"_parent\"><img src=\"https://colab.research.google.com/assets/colab-badge.svg\" alt=\"Open In Colab\"/></a>"
      ]
    },
    {
      "metadata": {
        "id": "ZvDRfSK6enz5",
        "colab_type": "code",
        "colab": {}
      },
      "cell_type": "code",
      "source": [
        "!pip install lyricwikia -q"
      ],
      "execution_count": 0,
      "outputs": []
    },
    {
      "metadata": {
        "id": "fT_SJ1RQepfi",
        "colab_type": "code",
        "colab": {}
      },
      "cell_type": "code",
      "source": [
        "# Sample documentation at the bottom of the page\n",
        "\n",
        "import lyricwikia as lw\n",
        "lyrics = lw.get_lyrics('Linkin Park', 'Faint')\n",
        "# print(lyrics)"
      ],
      "execution_count": 0,
      "outputs": []
    },
    {
      "metadata": {
        "id": "Ha69CrDZfzP3",
        "colab_type": "code",
        "colab": {
          "base_uri": "https://localhost:8080/",
          "height": 1309
        },
        "outputId": "9472d3b4-ee00-4964-d47e-c0741b1a22c2"
      },
      "cell_type": "code",
      "source": [
        "!lyrics 'Nickelback' 'Someday'"
      ],
      "execution_count": 42,
      "outputs": [
        {
          "output_type": "stream",
          "text": [
            "How the hell'd we wind up like this,\n",
            "And why weren't we able,\n",
            "To see the signs that we missed?\n",
            "And try to turn the tables \n",
            "\n",
            "I wish you'd unclench your fists \n",
            "And unpack your suitcase \n",
            "Lately there's been too much of this \n",
            "But don't think it's too late \n",
            "\n",
            "Nothing's wrong \n",
            "Just as long as you know that someday I will \n",
            "Someday, somehow \n",
            "\n",
            "I'm gonna make it alright \n",
            "But not right now \n",
            "I know you're wondering when \n",
            "You're the only one who knows that \n",
            "Someday, somehow \n",
            "\n",
            "I'm gonna make it alright \n",
            "But not right now \n",
            "I know you're wondering when \n",
            "\n",
            "Well I'd hope that since we're here anyway \n",
            "That we could end up saying \n",
            "Things we've always needed to say \n",
            "So we could end up staying \n",
            "\n",
            "Now the story's played out like this \n",
            "Just like a paperback novel \n",
            "Let's rewrite an ending that fits \n",
            "Instead of a Hollywood horror \n",
            "\n",
            "Nothing's wrong \n",
            "Just as long as you know that someday I will \n",
            "Someday, somehow \n",
            "\n",
            "I'm gonna make it alright \n",
            "But not right now \n",
            "I know you're wondering when \n",
            "You're the only one who knows that \n",
            "Someday somehow \n",
            "\n",
            "I'm gonna make it alright \n",
            "But not right now \n",
            "I know you're wondering when \n",
            "You're the only one who knows that\n",
            "\n",
            "How the hell'd we wind up like this, \n",
            "And why weren't we able, \n",
            "To see the signs that we missed? \n",
            "And try to turn the tables \n",
            "\n",
            "Now the story's played out like this \n",
            "Just like a paperback novel \n",
            "Let's rewrite an ending that fits \n",
            "Instead of a Hollywood horror \n",
            "\n",
            "Nothing's wrong \n",
            "Just as long as you know that someday I will \n",
            "Someday, somehow \n",
            "\n",
            "I'm gonna make it alright \n",
            "But not right now \n",
            "I know you're wondering when \n",
            "You're the only one who knows that \n",
            "Someday somehow \n",
            "\n",
            "I'm gonna make it alright \n",
            "But not right now \n",
            "I know you're wondering when \n",
            "You're the only one who knows that \n",
            "I know you're wondering when \n",
            "You're the only one who knows that \n",
            "I know you're wondering when\n"
          ],
          "name": "stdout"
        }
      ]
    },
    {
      "metadata": {
        "id": "71fzbMIbfCb0",
        "colab_type": "code",
        "colab": {
          "base_uri": "https://localhost:8080/",
          "height": 51
        },
        "outputId": "bc3ea402-45c4-43f9-b22d-df7363a5264d"
      },
      "cell_type": "code",
      "source": [
        "!lyrics '%s' % Title, '%s' % Track"
      ],
      "execution_count": 43,
      "outputs": [
        {
          "output_type": "stream",
          "text": [
            "usage: lyrics [-h] [--separator SEPARATOR] [--version] ARTIST SONG\n",
            "lyrics: error: unrecognized arguments: Title, %s % Track\n"
          ],
          "name": "stdout"
        }
      ]
    },
    {
      "metadata": {
        "id": "NpAkVf8DfIuS",
        "colab_type": "code",
        "colab": {
          "base_uri": "https://localhost:8080/",
          "height": 238
        },
        "outputId": "0905f5b5-b509-4e1c-88bc-277475c64761"
      },
      "cell_type": "code",
      "source": [
        "!lyrics -h"
      ],
      "execution_count": 44,
      "outputs": [
        {
          "output_type": "stream",
          "text": [
            "usage: lyrics [-h] [--separator SEPARATOR] [--version] ARTIST SONG\n",
            "\n",
            "Get lyrics of a song from LyricWikia\n",
            "\n",
            "positional arguments:\n",
            "  ARTIST                Artist name\n",
            "  SONG                  Song title\n",
            "\n",
            "optional arguments:\n",
            "  -h, --help            show this help message and exit\n",
            "  --separator SEPARATOR\n",
            "                        line separator\n",
            "  --version             show program's version number and exit\n"
          ],
          "name": "stdout"
        }
      ]
    },
    {
      "metadata": {
        "id": "kqQe106Hkosa",
        "colab_type": "code",
        "colab": {}
      },
      "cell_type": "code",
      "source": [
        "artist = 'Linkin Park'\n",
        "song = 'Faint'"
      ],
      "execution_count": 0,
      "outputs": []
    },
    {
      "metadata": {
        "id": "U2Y6zeZThSCo",
        "colab_type": "code",
        "colab": {
          "base_uri": "https://localhost:8080/",
          "height": 54
        },
        "outputId": "7e9cddaf-8fb1-406b-9214-10f673ea27e2"
      },
      "cell_type": "code",
      "source": [
        "all = lw.get_lyrics(artist, song, linesep='\\n', timeout=None)\n",
        "all"
      ],
      "execution_count": 50,
      "outputs": [
        {
          "output_type": "execute_result",
          "data": {
            "text/plain": [
              "\"I am a little bit of loneliness\\nA little bit of disregard\\nA handful of complaints but I can't help the fact\\nThat everyone can see these scars\\n\\nI am what I want you to want\\nWhat I want you to feel\\nBut it's like no matter what I do, I can't convince you\\nTo just believe this is real\\n\\nSo I let go, watching you\\nTurn your back like you always do\\nFace away and pretend that I'm not\\nBut I'll be here 'cause you're all that I got\\n\\nI can't feel the way I did before\\nDon't turn your back on me; I won't be ignored\\nTime won't heal this damage anymore\\nDon't turn your back on me; I won't be ignored\\n\\nI am a little bit insecure\\nA little unconfident\\nBecause you don't understand I do what I can\\nBut sometimes I don't make sense\\n\\nI am what you never want to say\\nBut I've never had a doubt\\nIt's like no matter what I do, I can't convince you\\nFor once just to hear me out\\n\\nSo I let go, watching you\\nTurn your back like you always do\\nFace away and pretend that I'm not\\nBut I'll be here because you're all that I got\\n\\nI can't feel the way I did before\\nDon't turn your back on me; I won't be ignored\\nTime won't heal this damage anymore\\nDon't turn your back on me; I won't be ignored\\n\\nNo, hear me out now\\nYou're gonna listen to me like it or not\\nRight now, hear me out now\\nYou're gonna listen to me like it or not\\nRight now\\n\\nI can't feel the way I did before\\nDon't turn your back on me; I won't be ignored\\n\\nI can't feel the way I did before\\nDon't turn your back on me; I won't be ignored\\nTime won't heal this damage anymore\\nDon't turn your back on me; I won't be ignored\\n\\nI can't feel\\nDon't turn your back on me; I won't be ignored\\nTime won't heal\\nDon't turn your back on me; I won't be ignored\""
            ]
          },
          "metadata": {
            "tags": []
          },
          "execution_count": 50
        }
      ]
    },
    {
      "metadata": {
        "id": "QnydqdSQk1HE",
        "colab_type": "code",
        "colab": {
          "base_uri": "https://localhost:8080/",
          "height": 119
        },
        "outputId": "49644d4d-8640-40ef-8215-4e57e2cec051"
      },
      "cell_type": "code",
      "source": [
        "help(lw.get_lyrics)"
      ],
      "execution_count": 47,
      "outputs": [
        {
          "output_type": "stream",
          "text": [
            "Help on function get_lyrics in module lyricwikia.lyricwikia:\n",
            "\n",
            "get_lyrics(artist, song, linesep='\\n', timeout=None)\n",
            "    Retrieve the lyrics of the song and return the first one in case\n",
            "    multiple versions are available.\n",
            "\n"
          ],
          "name": "stdout"
        }
      ]
    },
    {
      "metadata": {
        "id": "5PDxAZejmlJ2",
        "colab_type": "code",
        "colab": {}
      },
      "cell_type": "code",
      "source": [
        "# Peyton & Daniel's alt library\n",
        "\n",
        "import lyricsgenius\n",
        "genius = lyricsgenius.Genius(\"my_key_here\")\n",
        "for i in range(100):\n",
        "  artist_name = artist[i]\n",
        "  song_name = genius.search_song(song[i], artist[i])\n",
        "  if song_name is None:\n",
        "    pass\n",
        "  else:\n",
        "    df.loc[i,'lyrics'] = song_name.lyrics"
      ],
      "execution_count": 0,
      "outputs": []
    }
  ]
}