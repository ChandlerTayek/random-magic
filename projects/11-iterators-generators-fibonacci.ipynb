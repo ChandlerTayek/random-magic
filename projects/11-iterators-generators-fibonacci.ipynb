{
  "nbformat": 4,
  "nbformat_minor": 0,
  "metadata": {
    "colab": {
      "name": "11-iterators-generators-fibonacci.ipynb",
      "version": "0.3.2",
      "provenance": [],
      "include_colab_link": true
    },
    "kernelspec": {
      "name": "python3",
      "display_name": "Python 3"
    }
  },
  "cells": [
    {
      "cell_type": "markdown",
      "metadata": {
        "id": "view-in-github",
        "colab_type": "text"
      },
      "source": [
        "<a href=\"https://colab.research.google.com/github/kovacova/random-magic/blob/master/projects/11-iterators-generators-fibonacci.ipynb\" target=\"_parent\"><img src=\"https://colab.research.google.com/assets/colab-badge.svg\" alt=\"Open In Colab\"/></a>"
      ]
    },
    {
      "metadata": {
        "id": "N4EZpcN7dSn7",
        "colab_type": "text"
      },
      "cell_type": "markdown",
      "source": [
        "## Iterator\n",
        "\n",
        "An iterable object is an object that implements `__iter__`, which is expected to return an iterator object.\n",
        "\n",
        "An iterator is an object that implements next, which is expected to return the next element of the iterable object that returned it, and raise a StopIteration exception when no more elements are available.\n",
        "\n",
        "In the simplest case the iterable will implement next itself and return self in `__iter__`.\n",
        "\n",
        "You can use iterables in for loops, and you can use them to construct lists.\n",
        "\n",
        "[Documentation](https://wiki.python.org/moin/Iterator)"
      ]
    },
    {
      "metadata": {
        "id": "ABYX9Splaynv",
        "colab_type": "code",
        "colab": {
          "base_uri": "https://localhost:8080/",
          "height": 221
        },
        "outputId": "8b27b00e-788a-4970-a034-63b98aeeee9b"
      },
      "cell_type": "code",
      "source": [
        "class Fib(object):\n",
        "    def __init__(self, max):\n",
        "        super(Fib, self).__init__()\n",
        "        self.max = max\n",
        "\n",
        "    def __iter__(self):\n",
        "        self.a = 0\n",
        "        self.b = 1\n",
        "        return self\n",
        "\n",
        "    def __next__(self):\n",
        "        fib = self.a\n",
        "        if fib > self.max:\n",
        "            raise StopIteration\n",
        "        self.a, self.b = self.b, self.a + self.b\n",
        "        return fib\n",
        "\n",
        "    def next(self):\n",
        "        return self.__next__()\n",
        "\n",
        "\n",
        "def main():\n",
        "    fib = Fib(100)\n",
        "    for i in fib:\n",
        "        print(i)\n",
        "\n",
        "if __name__ == '__main__':\n",
        "    main()"
      ],
      "execution_count": 4,
      "outputs": [
        {
          "output_type": "stream",
          "text": [
            "0\n",
            "1\n",
            "1\n",
            "2\n",
            "3\n",
            "5\n",
            "8\n",
            "13\n",
            "21\n",
            "34\n",
            "55\n",
            "89\n"
          ],
          "name": "stdout"
        }
      ]
    },
    {
      "metadata": {
        "id": "1qtbe45reVw8",
        "colab_type": "text"
      },
      "cell_type": "markdown",
      "source": [
        "## Generator\n",
        "\n",
        "Generator functions allow you to declare a function that behaves like an iterator, i.e. it can be used in a for loop.\n",
        "\n",
        "The simplification of code is a result of generator function and generator expression support provided by Python.\n",
        "\n",
        "To illustrate this, we will compare different implementations that implement a function, \"firstn\", that represents the first n non-negative integers, where n is a really big number, and assume (for the sake of the examples in this section) that each integer takes up a lot of space, say 10 megabytes each.\n",
        "\n",
        "[Documentation](https://wiki.python.org/moin/Generators)"
      ]
    },
    {
      "metadata": {
        "id": "-c_w0VKLbzef",
        "colab_type": "code",
        "colab": {}
      },
      "cell_type": "code",
      "source": [
        "# Build and return a list\n",
        "def firstn(n):\n",
        "    num, nums = 0, []\n",
        "    while num < n:\n",
        "        nums.append(num)\n",
        "        num += 1\n",
        "    return nums\n",
        "\n",
        "sum_of_first_n = sum(firstn(1000000))"
      ],
      "execution_count": 0,
      "outputs": []
    },
    {
      "metadata": {
        "id": "y9RVv3F8ePka",
        "colab_type": "code",
        "colab": {
          "base_uri": "https://localhost:8080/",
          "height": 34
        },
        "outputId": "895d8e7c-9eae-4f34-e851-27f6b4fe529c"
      },
      "cell_type": "code",
      "source": [
        "firstn(4)"
      ],
      "execution_count": 7,
      "outputs": [
        {
          "output_type": "execute_result",
          "data": {
            "text/plain": [
              "[0, 1, 2, 3]"
            ]
          },
          "metadata": {
            "tags": []
          },
          "execution_count": 7
        }
      ]
    }
  ]
}