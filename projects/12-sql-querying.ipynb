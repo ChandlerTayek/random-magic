{
  "nbformat": 4,
  "nbformat_minor": 0,
  "metadata": {
    "colab": {
      "name": "12-sql-querying.ipynb",
      "version": "0.3.2",
      "provenance": [],
      "include_colab_link": true
    },
    "kernelspec": {
      "name": "python3",
      "display_name": "Python 3"
    }
  },
  "cells": [
    {
      "cell_type": "markdown",
      "metadata": {
        "id": "view-in-github",
        "colab_type": "text"
      },
      "source": [
        "<a href=\"https://colab.research.google.com/github/kovacova/random-magic/blob/master/projects/12-sql-querying.ipynb\" target=\"_parent\"><img src=\"https://colab.research.google.com/assets/colab-badge.svg\" alt=\"Open In Colab\"/></a>"
      ]
    },
    {
      "metadata": {
        "id": "i5aSxZjI28D4",
        "colab_type": "text"
      },
      "cell_type": "markdown",
      "source": [
        "# SQL Querying in Colab - Tutorial\n",
        "\n",
        "SQLite is a C library that provides a lightweight disk-based database that doesn’t require a separate server process and allows accessing the database using a nonstandard variant of the SQL query language. Some applications can use SQLite for internal data storage. It’s also possible to prototype an application using SQLite and then port the code to a larger database such as PostgreSQL or Oracle. \n",
        "\n",
        "SQLite3 is a part of python’s standard library, which is quite useful. \n",
        "\n",
        "<br>\n",
        "\n",
        "### Main Keywords for SQL Querying:\n",
        "\n",
        "**SELECT** - how we choose which columns to get\n",
        "\n",
        "**WHERE** - how we set conditions on the rows to be returned\n",
        "\n",
        "**LIMIT** - when we only want a certain number of rows\n",
        "\n",
        "**ORDER** - when we want to sort the output\n",
        "\n",
        "**JOIN** - when we need data from multiple tables combined\n",
        "\n",
        "<br>\n",
        "\n",
        "Useful Resources:\n",
        "\n",
        "* [Tutorial SQL + Pandas](https://www.dataquest.io/blog/python-pandas-databases/)\n",
        "* [Pandas Comparison with SQL](https://pandas.pydata.org/pandas-docs/stable/getting_started/comparison/comparison_with_sql.html)\n",
        "* [Order of Execution of SQL Queries](https://sqlbolt.com/lesson/select_queries_order_of_execution)\n",
        "* [W3Schools](https://www.w3schools.com/sql/sql_syntax.asp)\n",
        "* [sqlite3 Documentation](https://pysqlite.readthedocs.io/en/latest/sqlite3.html)\n"
      ]
    },
    {
      "metadata": {
        "id": "zHRdyUkc-yPZ",
        "colab_type": "text"
      },
      "cell_type": "markdown",
      "source": [
        "To import the database, we use file upload as `!wget` fails when importing from GitHub. \n",
        "\n",
        "Dataset location [here](https://github.com/kovacova/datasets/blob/master/rpg_db.sqlite3). "
      ]
    },
    {
      "metadata": {
        "id": "_3pWSwycsnLG",
        "colab_type": "code",
        "colab": {}
      },
      "cell_type": "code",
      "source": [
        "import sqlite3\n",
        "import pandas as pd\n",
        "\n",
        "# Uploading local files\n",
        "from google.colab import files\n",
        "files.upload()"
      ],
      "execution_count": 0,
      "outputs": []
    },
    {
      "metadata": {
        "id": "pXDi5KDb2enD",
        "colab_type": "text"
      },
      "cell_type": "markdown",
      "source": [
        "### Method 1: Direct Querying\n",
        "\n",
        "This method returns a list of tuples."
      ]
    },
    {
      "metadata": {
        "id": "rtU6ZDrus7wV",
        "colab_type": "code",
        "colab": {
          "base_uri": "https://localhost:8080/",
          "height": 102
        },
        "outputId": "61e7a11b-ecc9-4a1d-a0df-767091784fad"
      },
      "cell_type": "code",
      "source": [
        "# We must first create a connection object to connect to our SQL database\n",
        "conn = sqlite3.connect('rpg_db (1).sqlite3')\n",
        "\n",
        "# Once we have a Connection object, we can then create a Cursor object. Cursors allow us to execute SQL queries against a database\n",
        "cur = conn.cursor()\n",
        "\n",
        "# Executes the query\n",
        "cur.execute(\"SELECT * FROM armory_item limit 5;\").fetchall()  # we use .fetchone() to get a single matching row, and .fetchall() to get all matching rows. "
      ],
      "execution_count": 16,
      "outputs": [
        {
          "output_type": "execute_result",
          "data": {
            "text/plain": [
              "[(1, 'Libero facere dolore, as', 0, 0),\n",
              " (2, 'Qui', 0, 0),\n",
              " (3, 'Laborios', 0, 0),\n",
              " (4, 'Quibusdam illo deserunt ea', 0, 0),\n",
              " (5, 'Quod eveniet i', 0, 0)]"
            ]
          },
          "metadata": {
            "tags": []
          },
          "execution_count": 16
        }
      ]
    },
    {
      "metadata": {
        "id": "TOJVHLKj2jOJ",
        "colab_type": "text"
      },
      "cell_type": "markdown",
      "source": [
        "### Method 2: Import to Pandas DataFrame\n",
        "\n",
        "I mean, who doesn't like pretty dataframes? 🐼"
      ]
    },
    {
      "metadata": {
        "id": "8QU8ppW4spaN",
        "colab_type": "code",
        "colab": {
          "base_uri": "https://localhost:8080/",
          "height": 204
        },
        "outputId": "4cf6edc2-9ddc-48df-bb26-6e9a5b761f1d"
      },
      "cell_type": "code",
      "source": [
        "conn = sqlite3.connect('rpg_db (1).sqlite3')\n",
        "df = pd.read_sql_query(\"select * from armory_item limit 5;\", conn)  # the CONN argument refers to the SQL database connect statement [conn = sqlite3.connect('rpg_db (1).sqlite3')]\n",
        "df"
      ],
      "execution_count": 12,
      "outputs": [
        {
          "output_type": "execute_result",
          "data": {
            "text/html": [
              "<div>\n",
              "<style scoped>\n",
              "    .dataframe tbody tr th:only-of-type {\n",
              "        vertical-align: middle;\n",
              "    }\n",
              "\n",
              "    .dataframe tbody tr th {\n",
              "        vertical-align: top;\n",
              "    }\n",
              "\n",
              "    .dataframe thead th {\n",
              "        text-align: right;\n",
              "    }\n",
              "</style>\n",
              "<table border=\"1\" class=\"dataframe\">\n",
              "  <thead>\n",
              "    <tr style=\"text-align: right;\">\n",
              "      <th></th>\n",
              "      <th>item_id</th>\n",
              "      <th>name</th>\n",
              "      <th>value</th>\n",
              "      <th>weight</th>\n",
              "    </tr>\n",
              "  </thead>\n",
              "  <tbody>\n",
              "    <tr>\n",
              "      <th>0</th>\n",
              "      <td>1</td>\n",
              "      <td>Libero facere dolore, as</td>\n",
              "      <td>0</td>\n",
              "      <td>0</td>\n",
              "    </tr>\n",
              "    <tr>\n",
              "      <th>1</th>\n",
              "      <td>2</td>\n",
              "      <td>Qui</td>\n",
              "      <td>0</td>\n",
              "      <td>0</td>\n",
              "    </tr>\n",
              "    <tr>\n",
              "      <th>2</th>\n",
              "      <td>3</td>\n",
              "      <td>Laborios</td>\n",
              "      <td>0</td>\n",
              "      <td>0</td>\n",
              "    </tr>\n",
              "    <tr>\n",
              "      <th>3</th>\n",
              "      <td>4</td>\n",
              "      <td>Quibusdam illo deserunt ea</td>\n",
              "      <td>0</td>\n",
              "      <td>0</td>\n",
              "    </tr>\n",
              "    <tr>\n",
              "      <th>4</th>\n",
              "      <td>5</td>\n",
              "      <td>Quod eveniet i</td>\n",
              "      <td>0</td>\n",
              "      <td>0</td>\n",
              "    </tr>\n",
              "  </tbody>\n",
              "</table>\n",
              "</div>"
            ],
            "text/plain": [
              "   item_id                        name  value  weight\n",
              "0        1    Libero facere dolore, as      0       0\n",
              "1        2                         Qui      0       0\n",
              "2        3                    Laborios      0       0\n",
              "3        4  Quibusdam illo deserunt ea      0       0\n",
              "4        5              Quod eveniet i      0       0"
            ]
          },
          "metadata": {
            "tags": []
          },
          "execution_count": 12
        }
      ]
    },
    {
      "metadata": {
        "id": "FWmGUD3oP4b_",
        "colab_type": "text"
      },
      "cell_type": "markdown",
      "source": [
        "## Assignment \n",
        "\n",
        "Use sqlite3 to load and write queries to explore the data, and answer the following questions:\n",
        "\n",
        "* How many total Characters are there?\n",
        "* How many of each specific subclass?\n",
        "* How many total Items?\n",
        "* How many of the Items are weapons? How many are not?\n",
        "* How many Items does each character have? (Return first 20 rows)\n",
        "* How many Weapons does each character have? (Return first 20 rows)\n",
        "* On average, how many Items does each Character have?\n",
        "* On average, how many Weapons does each character have?\n",
        "\n",
        "Details [here](https://github.com/LambdaSchool/DS-Unit-3-Sprint-2-SQL-and-Databases/tree/master/module1-introduction-to-sql).\n"
      ]
    },
    {
      "metadata": {
        "id": "tEqoVY722HYB",
        "colab_type": "code",
        "colab": {
          "base_uri": "https://localhost:8080/",
          "height": 80
        },
        "outputId": "9f872c90-782e-4b3d-b280-964f5eda0816"
      },
      "cell_type": "code",
      "source": [
        "# How many total Characters are there?\n",
        "q1 = pd.read_sql_query(\"SELECT COUNT(name) FROM charactercreator_character;\", conn)\n",
        "q1"
      ],
      "execution_count": 24,
      "outputs": [
        {
          "output_type": "execute_result",
          "data": {
            "text/html": [
              "<div>\n",
              "<style scoped>\n",
              "    .dataframe tbody tr th:only-of-type {\n",
              "        vertical-align: middle;\n",
              "    }\n",
              "\n",
              "    .dataframe tbody tr th {\n",
              "        vertical-align: top;\n",
              "    }\n",
              "\n",
              "    .dataframe thead th {\n",
              "        text-align: right;\n",
              "    }\n",
              "</style>\n",
              "<table border=\"1\" class=\"dataframe\">\n",
              "  <thead>\n",
              "    <tr style=\"text-align: right;\">\n",
              "      <th></th>\n",
              "      <th>COUNT(name)</th>\n",
              "    </tr>\n",
              "  </thead>\n",
              "  <tbody>\n",
              "    <tr>\n",
              "      <th>0</th>\n",
              "      <td>302</td>\n",
              "    </tr>\n",
              "  </tbody>\n",
              "</table>\n",
              "</div>"
            ],
            "text/plain": [
              "   COUNT(name)\n",
              "0          302"
            ]
          },
          "metadata": {
            "tags": []
          },
          "execution_count": 24
        }
      ]
    },
    {
      "metadata": {
        "id": "2lHC1J79Rtjm",
        "colab_type": "code",
        "colab": {
          "base_uri": "https://localhost:8080/",
          "height": 80
        },
        "outputId": "5c3f8348-c4f2-48d4-89e5-fbab10607a47"
      },
      "cell_type": "code",
      "source": [
        "# How many of each specific subclass?\n",
        "q2 = pd.read_sql_query(\"\"\"SELECT \n",
        "                (SELECT COUNT(*) FROM charactercreator_cleric) AS Clerics,\n",
        "                (SELECT COUNT(*) FROM charactercreator_fighter) AS Fighters,\n",
        "                (SELECT COUNT(*) FROM charactercreator_mage) AS Mages,\n",
        "                (SELECT COUNT(*) FROM charactercreator_thief) AS Thieves,\n",
        "                (SELECT COUNT(*) FROM charactercreator_necromancer) AS Necromancers\"\"\", conn)\n",
        "q2"
      ],
      "execution_count": 51,
      "outputs": [
        {
          "output_type": "execute_result",
          "data": {
            "text/html": [
              "<div>\n",
              "<style scoped>\n",
              "    .dataframe tbody tr th:only-of-type {\n",
              "        vertical-align: middle;\n",
              "    }\n",
              "\n",
              "    .dataframe tbody tr th {\n",
              "        vertical-align: top;\n",
              "    }\n",
              "\n",
              "    .dataframe thead th {\n",
              "        text-align: right;\n",
              "    }\n",
              "</style>\n",
              "<table border=\"1\" class=\"dataframe\">\n",
              "  <thead>\n",
              "    <tr style=\"text-align: right;\">\n",
              "      <th></th>\n",
              "      <th>Clerics</th>\n",
              "      <th>Fighters</th>\n",
              "      <th>Mages</th>\n",
              "      <th>Thieves</th>\n",
              "      <th>Necromancers</th>\n",
              "    </tr>\n",
              "  </thead>\n",
              "  <tbody>\n",
              "    <tr>\n",
              "      <th>0</th>\n",
              "      <td>75</td>\n",
              "      <td>68</td>\n",
              "      <td>108</td>\n",
              "      <td>51</td>\n",
              "      <td>11</td>\n",
              "    </tr>\n",
              "  </tbody>\n",
              "</table>\n",
              "</div>"
            ],
            "text/plain": [
              "   Clerics  Fighters  Mages  Thieves  Necromancers\n",
              "0       75        68    108       51            11"
            ]
          },
          "metadata": {
            "tags": []
          },
          "execution_count": 51
        }
      ]
    },
    {
      "metadata": {
        "id": "8m2iEpHYSrFe",
        "colab_type": "code",
        "colab": {
          "base_uri": "https://localhost:8080/",
          "height": 80
        },
        "outputId": "7229fe35-dc80-47e1-90ee-42f01e9d8a6e"
      },
      "cell_type": "code",
      "source": [
        "# How many total Items?\n",
        "q3 = pd.read_sql_query(\"SELECT COUNT(item_id) FROM armory_item;\", conn)\n",
        "q3"
      ],
      "execution_count": 43,
      "outputs": [
        {
          "output_type": "execute_result",
          "data": {
            "text/html": [
              "<div>\n",
              "<style scoped>\n",
              "    .dataframe tbody tr th:only-of-type {\n",
              "        vertical-align: middle;\n",
              "    }\n",
              "\n",
              "    .dataframe tbody tr th {\n",
              "        vertical-align: top;\n",
              "    }\n",
              "\n",
              "    .dataframe thead th {\n",
              "        text-align: right;\n",
              "    }\n",
              "</style>\n",
              "<table border=\"1\" class=\"dataframe\">\n",
              "  <thead>\n",
              "    <tr style=\"text-align: right;\">\n",
              "      <th></th>\n",
              "      <th>COUNT(item_id)</th>\n",
              "    </tr>\n",
              "  </thead>\n",
              "  <tbody>\n",
              "    <tr>\n",
              "      <th>0</th>\n",
              "      <td>174</td>\n",
              "    </tr>\n",
              "  </tbody>\n",
              "</table>\n",
              "</div>"
            ],
            "text/plain": [
              "   COUNT(item_id)\n",
              "0             174"
            ]
          },
          "metadata": {
            "tags": []
          },
          "execution_count": 43
        }
      ]
    },
    {
      "metadata": {
        "id": "35bTZkxiS0mf",
        "colab_type": "code",
        "colab": {
          "base_uri": "https://localhost:8080/",
          "height": 80
        },
        "outputId": "2ab105ee-d439-454e-ed9c-6fd7be734f98"
      },
      "cell_type": "code",
      "source": [
        "# How many of the Items are weapons? How many are not?\n",
        "q4 = pd.read_sql_query(\"\"\"SELECT COUNT(*) FROM armory_item WHERE item_id IN\n",
        "                       (SELECT distinct item_ptr_id FROM armory_weapon);\"\"\", \n",
        "                       conn)\n",
        "q4"
      ],
      "execution_count": 49,
      "outputs": [
        {
          "output_type": "execute_result",
          "data": {
            "text/html": [
              "<div>\n",
              "<style scoped>\n",
              "    .dataframe tbody tr th:only-of-type {\n",
              "        vertical-align: middle;\n",
              "    }\n",
              "\n",
              "    .dataframe tbody tr th {\n",
              "        vertical-align: top;\n",
              "    }\n",
              "\n",
              "    .dataframe thead th {\n",
              "        text-align: right;\n",
              "    }\n",
              "</style>\n",
              "<table border=\"1\" class=\"dataframe\">\n",
              "  <thead>\n",
              "    <tr style=\"text-align: right;\">\n",
              "      <th></th>\n",
              "      <th>COUNT(*)</th>\n",
              "    </tr>\n",
              "  </thead>\n",
              "  <tbody>\n",
              "    <tr>\n",
              "      <th>0</th>\n",
              "      <td>37</td>\n",
              "    </tr>\n",
              "  </tbody>\n",
              "</table>\n",
              "</div>"
            ],
            "text/plain": [
              "   COUNT(*)\n",
              "0        37"
            ]
          },
          "metadata": {
            "tags": []
          },
          "execution_count": 49
        }
      ]
    },
    {
      "metadata": {
        "id": "yT99J_8eS4u7",
        "colab_type": "code",
        "colab": {}
      },
      "cell_type": "code",
      "source": [
        "# How many Items does each character have? (Return first 20 rows)\n",
        "q5 = pd.read_sql_query(\" limit 20;\", conn)\n",
        "q5"
      ],
      "execution_count": 0,
      "outputs": []
    },
    {
      "metadata": {
        "id": "02MDQwLTS48X",
        "colab_type": "code",
        "colab": {}
      },
      "cell_type": "code",
      "source": [
        "# How many Weapons does each character have? (Return first 20 rows)\n",
        "q6 = pd.read_sql_query(\" limit 20;\", conn)\n",
        "q6"
      ],
      "execution_count": 0,
      "outputs": []
    },
    {
      "metadata": {
        "id": "EeEP91iJS5B-",
        "colab_type": "code",
        "colab": {}
      },
      "cell_type": "code",
      "source": [
        "# On average, how many Items does each Character have?\n",
        "q7 = pd.read_sql_query(\"\", conn)\n",
        "q7"
      ],
      "execution_count": 0,
      "outputs": []
    },
    {
      "metadata": {
        "id": "N5PW-YzES5Na",
        "colab_type": "code",
        "colab": {}
      },
      "cell_type": "code",
      "source": [
        "# On average, how many Weapons does each character have?\n",
        "q8 = pd.read_sql_query(\"\", conn)\n",
        "q8"
      ],
      "execution_count": 0,
      "outputs": []
    }
  ]
}