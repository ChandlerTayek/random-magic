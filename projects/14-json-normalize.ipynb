{
  "nbformat": 4,
  "nbformat_minor": 0,
  "metadata": {
    "colab": {
      "name": "14-json-normalize.ipynb",
      "version": "0.3.2",
      "provenance": [],
      "include_colab_link": true
    },
    "kernelspec": {
      "name": "python3",
      "display_name": "Python 3"
    }
  },
  "cells": [
    {
      "cell_type": "markdown",
      "metadata": {
        "id": "view-in-github",
        "colab_type": "text"
      },
      "source": [
        "<a href=\"https://colab.research.google.com/github/kovacova/random-magic/blob/master/projects/14-json-normalize.ipynb\" target=\"_parent\"><img src=\"https://colab.research.google.com/assets/colab-badge.svg\" alt=\"Open In Colab\"/></a>"
      ]
    },
    {
      "metadata": {
        "id": "Ja4ViqTdC5z4",
        "colab_type": "text"
      },
      "cell_type": "markdown",
      "source": [
        "### Parsing Nested JSON with Pandas\n",
        "\n",
        "[Kaggle Tutorial](https://www.kaggle.com/jboysen/quick-tutorial-flatten-nested-json-in-pandas)\n",
        "\n",
        "[Pandas JSON Documentation](https://pandas.pydata.org/pandas-docs/stable/reference/api/pandas.read_json.html)\n",
        "\n"
      ]
    },
    {
      "metadata": {
        "id": "nGTMPbJVB9v3",
        "colab_type": "code",
        "colab": {
          "base_uri": "https://localhost:8080/",
          "height": 142
        },
        "outputId": "8def9874-aa34-44ba-d5a7-49f78d52c036"
      },
      "cell_type": "code",
      "source": [
        "# Library Imports\n",
        "import pandas as pd\n",
        "from pandas.io.json import json_normalize\n",
        "\n",
        "\n",
        "# Reads the JSON file using Pandas\n",
        "df = pd.read_json('https://age-of-empires-2-api.herokuapp.com/api/v1/civilizations')\n",
        "\n",
        "# Flattens/Normalizes the JSON\n",
        "civ = json_normalize(df['civilizations'])\n",
        "\n",
        "# Displays the data\n",
        "civ.head(3)"
      ],
      "execution_count": 3,
      "outputs": [
        {
          "output_type": "execute_result",
          "data": {
            "text/html": [
              "<div>\n",
              "<style scoped>\n",
              "    .dataframe tbody tr th:only-of-type {\n",
              "        vertical-align: middle;\n",
              "    }\n",
              "\n",
              "    .dataframe tbody tr th {\n",
              "        vertical-align: top;\n",
              "    }\n",
              "\n",
              "    .dataframe thead th {\n",
              "        text-align: right;\n",
              "    }\n",
              "</style>\n",
              "<table border=\"1\" class=\"dataframe\">\n",
              "  <thead>\n",
              "    <tr style=\"text-align: right;\">\n",
              "      <th></th>\n",
              "      <th>army_type</th>\n",
              "      <th>civilization_bonus</th>\n",
              "      <th>expansion</th>\n",
              "      <th>id</th>\n",
              "      <th>name</th>\n",
              "      <th>team_bonus</th>\n",
              "      <th>unique_tech</th>\n",
              "      <th>unique_unit</th>\n",
              "    </tr>\n",
              "  </thead>\n",
              "  <tbody>\n",
              "    <tr>\n",
              "      <th>0</th>\n",
              "      <td>Infantry and Monk</td>\n",
              "      <td>[Villagers carry +5, Military units created 15...</td>\n",
              "      <td>The Conquerors</td>\n",
              "      <td>1</td>\n",
              "      <td>Aztecs</td>\n",
              "      <td>Relics generate +33% gold</td>\n",
              "      <td>[https://age-of-empires-2-api.herokuapp.com/ap...</td>\n",
              "      <td>[https://age-of-empires-2-api.herokuapp.com/ap...</td>\n",
              "    </tr>\n",
              "    <tr>\n",
              "      <th>1</th>\n",
              "      <td>Foot Archer</td>\n",
              "      <td>[Town Centers cost -50% wood upon reaching the...</td>\n",
              "      <td>Age of Kings</td>\n",
              "      <td>2</td>\n",
              "      <td>Britons</td>\n",
              "      <td>Archery Ranges work 20% faster</td>\n",
              "      <td>[https://age-of-empires-2-api.herokuapp.com/ap...</td>\n",
              "      <td>[https://age-of-empires-2-api.herokuapp.com/ap...</td>\n",
              "    </tr>\n",
              "    <tr>\n",
              "      <th>2</th>\n",
              "      <td>Defensive</td>\n",
              "      <td>[Buildings (except gates) have +10% HP in Dark...</td>\n",
              "      <td>Age of Kings</td>\n",
              "      <td>3</td>\n",
              "      <td>Bizantines</td>\n",
              "      <td>Monks +50% heal speed</td>\n",
              "      <td>[https://age-of-empires-2-api.herokuapp.com/ap...</td>\n",
              "      <td>[https://age-of-empires-2-api.herokuapp.com/ap...</td>\n",
              "    </tr>\n",
              "  </tbody>\n",
              "</table>\n",
              "</div>"
            ],
            "text/plain": [
              "           army_type                                 civilization_bonus  \\\n",
              "0  Infantry and Monk  [Villagers carry +5, Military units created 15...   \n",
              "1        Foot Archer  [Town Centers cost -50% wood upon reaching the...   \n",
              "2          Defensive  [Buildings (except gates) have +10% HP in Dark...   \n",
              "\n",
              "        expansion  id        name                      team_bonus  \\\n",
              "0  The Conquerors   1      Aztecs       Relics generate +33% gold   \n",
              "1    Age of Kings   2     Britons  Archery Ranges work 20% faster   \n",
              "2    Age of Kings   3  Bizantines           Monks +50% heal speed   \n",
              "\n",
              "                                         unique_tech  \\\n",
              "0  [https://age-of-empires-2-api.herokuapp.com/ap...   \n",
              "1  [https://age-of-empires-2-api.herokuapp.com/ap...   \n",
              "2  [https://age-of-empires-2-api.herokuapp.com/ap...   \n",
              "\n",
              "                                         unique_unit  \n",
              "0  [https://age-of-empires-2-api.herokuapp.com/ap...  \n",
              "1  [https://age-of-empires-2-api.herokuapp.com/ap...  \n",
              "2  [https://age-of-empires-2-api.herokuapp.com/ap...  "
            ]
          },
          "metadata": {
            "tags": []
          },
          "execution_count": 3
        }
      ]
    }
  ]
}