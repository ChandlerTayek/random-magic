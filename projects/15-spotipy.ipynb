{
  "nbformat": 4,
  "nbformat_minor": 0,
  "metadata": {
    "colab": {
      "name": "Spotipy Library.ipynb",
      "version": "0.3.2",
      "provenance": [],
      "include_colab_link": true
    },
    "kernelspec": {
      "name": "python3",
      "display_name": "Python 3"
    }
  },
  "cells": [
    {
      "cell_type": "markdown",
      "metadata": {
        "id": "view-in-github",
        "colab_type": "text"
      },
      "source": [
        "<a href=\"https://colab.research.google.com/github/kovacova/random-magic/blob/master/projects/15-spotipy.ipynb\" target=\"_parent\"><img src=\"https://colab.research.google.com/assets/colab-badge.svg\" alt=\"Open In Colab\"/></a>"
      ]
    },
    {
      "cell_type": "markdown",
      "metadata": {
        "id": "FGUjjt-hwViu",
        "colab_type": "text"
      },
      "source": [
        "# Spotify API\n",
        "\n",
        "[Spotipy Library](https://spotipy.readthedocs.io/en/latest/#authorization-code-flow) "
      ]
    },
    {
      "cell_type": "code",
      "metadata": {
        "id": "UzeG6ZaI1GdX",
        "colab_type": "code",
        "colab": {
          "base_uri": "https://localhost:8080/",
          "height": 34
        },
        "outputId": "66051a2d-a3f0-4df4-b7cc-9e935b1faccd"
      },
      "source": [
        "!pip install spotipy -q"
      ],
      "execution_count": 1,
      "outputs": [
        {
          "output_type": "stream",
          "text": [
            "  Building wheel for spotipy (setup.py) ... \u001b[?25l\u001b[?25hdone\n"
          ],
          "name": "stdout"
        }
      ]
    },
    {
      "cell_type": "code",
      "metadata": {
        "id": "ujZxcM6P3vgJ",
        "colab_type": "code",
        "colab": {
          "base_uri": "https://localhost:8080/",
          "height": 51
        },
        "outputId": "08e4ae2d-55e4-4dae-ef0b-06c1e6a4ee6a"
      },
      "source": [
        "import sys\n",
        "import spotipy\n",
        "import spotipy.util as util\n",
        "\n",
        "scope = 'user-library-read'\n",
        "\n",
        "# use a % magic commands, either %env or %set_env\n",
        "# e.g., %env MY_VAR=MY_VALUE or %env MY_VAR MY_VALUE\n",
        "# https://stackoverflow.com/questions/37890898/how-to-set-env-variable-in-jupyter-notebook\n",
        "\n",
        "%set_env SPOTIPY_CLIENT_ID='xxx'\n",
        "%set_env SPOTIPY_CLIENT_SECRET='xxx'\n",
        "# %set_env SPOTIPY_REDIRECT_URI='xxx'\n",
        "\n",
        "if len(sys.argv) > 1:\n",
        "    username = sys.argv[1]\n",
        "else:\n",
        "    print(\"Usage: %s username\" % (sys.argv[0],))\n",
        "    sys.exit()"
      ],
      "execution_count": 3,
      "outputs": [
        {
          "output_type": "stream",
          "text": [
            "env: SPOTIPY_CLIENT_ID='xxx'\n",
            "env: SPOTIPY_CLIENT_SECRET='xxx'\n"
          ],
          "name": "stdout"
        }
      ]
    },
    {
      "cell_type": "code",
      "metadata": {
        "id": "VUTImysJ5zps",
        "colab_type": "code",
        "colab": {
          "base_uri": "https://localhost:8080/",
          "height": 256
        },
        "outputId": "47c5de2e-e51b-454e-c01d-0933cd71fc4c"
      },
      "source": [
        "token = util.prompt_for_user_token(username, scope)\n",
        "\n",
        "if token:\n",
        "    sp = spotipy.Spotify(auth=token)\n",
        "    results = sp.current_user_saved_tracks()\n",
        "    for item in results['items']:\n",
        "        track = item['track']\n",
        "        print(track['name'] + ' - ' + track['artists'][0]['name'])\n",
        "else:\n",
        "    print(\"Can't get token for\", username)"
      ],
      "execution_count": 0,
      "outputs": [
        {
          "output_type": "stream",
          "text": [
            "\n",
            "\n",
            "            User authentication requires interaction with your\n",
            "            web browser. Once you enter your credentials and\n",
            "            give authorization, you will be redirected to\n",
            "            a url.  Paste that url you were directed to to\n",
            "            complete the authorization.\n",
            "\n",
            "        \n",
            "Opened https://accounts.spotify.com/authorize?client_id=%27xxx%27&response_type=code&redirect_uri=None&scope=user-library-read in your browser\n",
            "\n",
            "\n"
          ],
          "name": "stdout"
        }
      ]
    }
  ]
}