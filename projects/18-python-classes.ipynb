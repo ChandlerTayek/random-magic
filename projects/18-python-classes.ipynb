{
  "nbformat": 4,
  "nbformat_minor": 0,
  "metadata": {
    "colab": {
      "name": "18-python-classes.ipynb",
      "version": "0.3.2",
      "provenance": [],
      "include_colab_link": true
    },
    "kernelspec": {
      "name": "python3",
      "display_name": "Python 3"
    }
  },
  "cells": [
    {
      "cell_type": "markdown",
      "metadata": {
        "id": "view-in-github",
        "colab_type": "text"
      },
      "source": [
        "<a href=\"https://colab.research.google.com/github/kovacova/random-magic/blob/master/projects/18-python-classes.ipynb\" target=\"_parent\"><img src=\"https://colab.research.google.com/assets/colab-badge.svg\" alt=\"Open In Colab\"/></a>"
      ]
    },
    {
      "cell_type": "markdown",
      "metadata": {
        "id": "ILJSfYh_VxhO",
        "colab_type": "text"
      },
      "source": [
        "# Python Classes: Key Concepts Review\n",
        "\n",
        "<details open>\n",
        "<summary>Table of Contents</summary>\n",
        "\n",
        "1. Python type() function\n",
        "\n",
        "2. Python class\n",
        "\n",
        "3. Instantiate Python Class\n",
        "\n",
        "4. \\_\\_main__ in Python\n",
        "\n",
        "5. Python Class Variables\n",
        "\n",
        "6. Python class methods\n",
        "\n",
        "7. Python dir() function\n",
        "\n",
        "8. Python repr method\n",
        "\n",
        "9. Python init method\n",
        "\n",
        "10. Python Inheritance\n",
        "\n",
        "11. User-defined exceptions in Python\n",
        "\n",
        "12. Python issubclass() Function\n",
        "\n",
        "13. Method Overriding in Python\n",
        "\n",
        "14. Super() Function in Python Inheritance\n",
        "\n",
        "15. Polymorphism in Python\n",
        "\n",
        "16. Dunder methods in Python\n",
        "\n",
        "</details>\n",
        "\n",
        "\n",
        "\n"
      ]
    },
    {
      "cell_type": "markdown",
      "metadata": {
        "id": "dxqO-BQVWC55",
        "colab_type": "text"
      },
      "source": [
        "### 1. Python type() function\n",
        "\n",
        "The Python type() function returns the data type of the argument passed to it."
      ]
    },
    {
      "cell_type": "code",
      "metadata": {
        "id": "upJ0CfhdVtn1",
        "colab_type": "code",
        "outputId": "386e7541-162e-4f11-f6ba-6f6929cea810",
        "colab": {
          "base_uri": "https://localhost:8080/",
          "height": 85
        }
      },
      "source": [
        "a = 1\n",
        "print(type(a))\n",
        "\n",
        "a = 1.1\n",
        "print(type(a))\n",
        "\n",
        "a = 'b'\n",
        "print(type(a))\n",
        "\n",
        "a = None\n",
        "print(type(a))"
      ],
      "execution_count": 0,
      "outputs": [
        {
          "output_type": "stream",
          "text": [
            "<class 'int'>\n",
            "<class 'float'>\n",
            "<class 'str'>\n",
            "<class 'NoneType'>\n"
          ],
          "name": "stdout"
        }
      ]
    },
    {
      "cell_type": "markdown",
      "metadata": {
        "id": "lF1D_KDcWfla",
        "colab_type": "text"
      },
      "source": [
        "### 2. Python class\n",
        "\n",
        "In Python, a class is a template for a data type. A class can be defined using the **class** keyword.\n"
      ]
    },
    {
      "cell_type": "code",
      "metadata": {
        "id": "5ejEYO3zWf6C",
        "colab_type": "code",
        "colab": {}
      },
      "source": [
        "# Defining a class\n",
        "\n",
        "class Animal:\n",
        "  def __init__(self, name, number_of_legs):\n",
        "    self.name = name\n",
        "    self.number_of_legs = number_of_legs"
      ],
      "execution_count": 0,
      "outputs": []
    },
    {
      "cell_type": "markdown",
      "metadata": {
        "id": "qitpHEX9WZuW",
        "colab_type": "text"
      },
      "source": [
        "### 3. Instantiate Python Class\n",
        "\n",
        "In Python, a class needs to be instantiated before use.\n",
        "\n",
        "As an analogy, a class can be thought of as a blueprint (Car), and an instance is an actual implementation of the blueprint (ferrari). "
      ]
    },
    {
      "cell_type": "code",
      "metadata": {
        "id": "789ewHfLV0mV",
        "colab_type": "code",
        "colab": {}
      },
      "source": [
        "class Car:\n",
        "  \"This is an empty class.\"\n",
        "  pass\n",
        "\n",
        "# Class Instantiation\n",
        "ferrari = Car()"
      ],
      "execution_count": 0,
      "outputs": []
    },
    {
      "cell_type": "markdown",
      "metadata": {
        "id": "cCwvBNdfcojy",
        "colab_type": "text"
      },
      "source": [
        "### 4. __main__ in Python\n",
        "\n",
        "In Python, `__main__` is an identifier used to reference the current file context. When a module is read from standard input, a script, or from an interactive prompt, its `__name__` is set equal to `__main__`. \n",
        "\n",
        "Suppose we create an instance of a class called CoolClass.\n",
        "Printing the `type()` of the instance will result in:\n",
        "\n",
        "\n",
        "`<class '__main__.CoolClass'>`\n",
        "\n",
        "This means that the class `CoolClass` was defined in the current script file."
      ]
    },
    {
      "cell_type": "code",
      "metadata": {
        "id": "jMqdi2UicndX",
        "colab_type": "code",
        "outputId": "5a6a3919-3c3f-478c-c59b-aac4bc334340",
        "colab": {
          "base_uri": "https://localhost:8080/",
          "height": 34
        }
      },
      "source": [
        "type(ferrari)"
      ],
      "execution_count": 0,
      "outputs": [
        {
          "output_type": "execute_result",
          "data": {
            "text/plain": [
              "__main__.Car"
            ]
          },
          "metadata": {
            "tags": []
          },
          "execution_count": 4
        }
      ]
    },
    {
      "cell_type": "markdown",
      "metadata": {
        "id": "jzv_RTMIdzwS",
        "colab_type": "text"
      },
      "source": [
        "### 5. Python Class Variables\n",
        "\n",
        "In Python, class variables are defined outside of all methods and have the same value for every instance of the class.\n",
        "\n",
        "Class variables are accessed with the `instance.variable` or `class_name.variable` syntaxes."
      ]
    },
    {
      "cell_type": "code",
      "metadata": {
        "id": "621-FcSmde0i",
        "colab_type": "code",
        "outputId": "42fd0f30-5399-4439-ce66-7d756894b02d",
        "colab": {
          "base_uri": "https://localhost:8080/",
          "height": 51
        }
      },
      "source": [
        "class my_class:\n",
        "  class_variable = \"I am a Class Variable!\"\n",
        "\n",
        "x = my_class()\n",
        "y = my_class()\n",
        "\n",
        "print(x.class_variable)\n",
        "print(y.class_variable)"
      ],
      "execution_count": 0,
      "outputs": [
        {
          "output_type": "stream",
          "text": [
            "I am a Class Variable!\n",
            "I am a Class Variable!\n"
          ],
          "name": "stdout"
        }
      ]
    },
    {
      "cell_type": "markdown",
      "metadata": {
        "id": "4gDC3xZdebIl",
        "colab_type": "text"
      },
      "source": [
        "### 6. Python Class Methods\n",
        "\n",
        "In Python, **methods** are functions that are defined as part of a class. It is common practice that the first argument of any method that is part of a class is the actual object calling the method. This argument is usually called **self**."
      ]
    },
    {
      "cell_type": "code",
      "metadata": {
        "id": "mddcJXY3eSJi",
        "colab_type": "code",
        "outputId": "67c1d8a3-c8cd-488f-c8ef-24a05524cce0",
        "colab": {
          "base_uri": "https://localhost:8080/",
          "height": 34
        }
      },
      "source": [
        "# Dog class\n",
        "\n",
        "class Dog:\n",
        "  # Method of the class\n",
        "  def bark(self):\n",
        "    print(\"Ham-Ham\")\n",
        "\n",
        "# Create a new instance\n",
        "charlie = Dog()\n",
        "\n",
        "# Call the method - this will output \"Ham-Ham\"\n",
        "charlie.bark()"
      ],
      "execution_count": 0,
      "outputs": [
        {
          "output_type": "stream",
          "text": [
            "Ham-Ham\n"
          ],
          "name": "stdout"
        }
      ]
    },
    {
      "cell_type": "markdown",
      "metadata": {
        "id": "TzmKZKVFhdrS",
        "colab_type": "text"
      },
      "source": [
        "### 7. Python dir() function\n",
        "\n",
        "In Python, the built-in `dir()` function, without any argument, returns a list of all the attributes in the current scope.\n",
        "\n",
        "With an object as an argument, `dir()` tries to return all valid object attributes."
      ]
    },
    {
      "cell_type": "code",
      "metadata": {
        "id": "SA9lcvrXeyFK",
        "colab_type": "code",
        "outputId": "470f4a99-dd0e-4f7c-dc0d-ec1f4b999f35",
        "colab": {
          "base_uri": "https://localhost:8080/",
          "height": 54
        }
      },
      "source": [
        "class Employee:\n",
        "  def __init__(self, name):\n",
        "    self.name = name\n",
        "\n",
        "  def print_name(self):\n",
        "    print(\"Hi, I'm \" + self.name)\n",
        "\n",
        "print(dir())"
      ],
      "execution_count": 0,
      "outputs": [
        {
          "output_type": "stream",
          "text": [
            "['Animal', 'Car', 'Dog', 'Employee', 'In', 'Out', '_', '_4', '__', '___', '__builtin__', '__builtins__', '__doc__', '__loader__', '__name__', '__package__', '__spec__', '_dh', '_i', '_i1', '_i10', '_i11', '_i2', '_i3', '_i4', '_i5', '_i6', '_i7', '_i8', '_i9', '_ih', '_ii', '_iii', '_oh', '_sh', 'a', 'charlie', 'exit', 'ferrari', 'get_ipython', 'my_class', 'quit', 'x', 'y']\n"
          ],
          "name": "stdout"
        }
      ]
    },
    {
      "cell_type": "code",
      "metadata": {
        "id": "W7YlyWLJzFeu",
        "colab_type": "code",
        "outputId": "da7d0942-c3c7-47b3-8362-a1ac4d161dfb",
        "colab": {
          "base_uri": "https://localhost:8080/",
          "height": 54
        }
      },
      "source": [
        "print(dir(Employee))"
      ],
      "execution_count": 0,
      "outputs": [
        {
          "output_type": "stream",
          "text": [
            "['__class__', '__delattr__', '__dict__', '__dir__', '__doc__', '__eq__', '__format__', '__ge__', '__getattribute__', '__gt__', '__hash__', '__init__', '__init_subclass__', '__le__', '__lt__', '__module__', '__ne__', '__new__', '__reduce__', '__reduce_ex__', '__repr__', '__setattr__', '__sizeof__', '__str__', '__subclasshook__', '__weakref__', 'print_name']\n"
          ],
          "name": "stdout"
        }
      ]
    },
    {
      "cell_type": "markdown",
      "metadata": {
        "id": "hUMwTMxzzVBF",
        "colab_type": "text"
      },
      "source": [
        "### 8. Python repr method\n",
        "\n",
        "The Python `__repr__()` method is used to tell Python what the **string representation** of the class should be. It can only have one parameter, `self`, and it should return a string."
      ]
    },
    {
      "cell_type": "code",
      "metadata": {
        "id": "KF7KlEFIzIn7",
        "colab_type": "code",
        "outputId": "27572c28-4d21-4e6d-834c-d102a06adb31",
        "colab": {
          "base_uri": "https://localhost:8080/",
          "height": 34
        }
      },
      "source": [
        "class Employee:\n",
        "  def __init__(self, name):\n",
        "    self.name = name\n",
        "\n",
        "    def __repr__(self):\n",
        "      return self.name\n",
        "\n",
        "\n",
        "john = Employee('John')\n",
        "print(john)"
      ],
      "execution_count": 0,
      "outputs": [
        {
          "output_type": "stream",
          "text": [
            "<__main__.Employee object at 0x7f233470f668>\n"
          ],
          "name": "stdout"
        }
      ]
    },
    {
      "cell_type": "markdown",
      "metadata": {
        "id": "sCZg88zzhFA9",
        "colab_type": "text"
      },
      "source": [
        "### 9. Python init method\n",
        "\n",
        "In Python, the `.__init__()` method is used to initialize a newly created object. It is called every time the class is instantiated."
      ]
    },
    {
      "cell_type": "code",
      "metadata": {
        "id": "k3dzwHIxz5mK",
        "colab_type": "code",
        "outputId": "22ea232b-d177-4bd4-8acc-24d33dd483a8",
        "colab": {
          "base_uri": "https://localhost:8080/",
          "height": 51
        }
      },
      "source": [
        "class Animal:\n",
        "  def __init__(self, voice):\n",
        "    self.voice = voice \n",
        "\n",
        "# When a class instance is created, the instance variable \"voice\" is created and set to the input value \n",
        "\n",
        "cat = Animal('Meow')\n",
        "print(cat.voice) # Output: Meow\n",
        "\n",
        "dog = Animal('Woof')\n",
        "print(dog.voice) # Output: Woof"
      ],
      "execution_count": 0,
      "outputs": [
        {
          "output_type": "stream",
          "text": [
            "Meow\n",
            "Woof\n"
          ],
          "name": "stdout"
        }
      ]
    },
    {
      "cell_type": "markdown",
      "metadata": {
        "id": "g_2WWlwOKXH1",
        "colab_type": "text"
      },
      "source": [
        "### 10. Python inheritance\n",
        "\n",
        "Subclassing in Python, also known as **inheritance**, allows classes to share the same attributes and methods from a parent or superclass. Inheritance in Python can be accomplished by putting the superclass name between parentheses after the subclass or child class name.\n",
        "\n",
        "In the example code block, the `Dog` class subclasses the `Animal` class, inheriting all of its attributes. "
      ]
    },
    {
      "cell_type": "code",
      "metadata": {
        "id": "sbkycUn6KQ8x",
        "colab_type": "code",
        "outputId": "6fe101ea-cda7-4a47-aef1-4b9298844935",
        "colab": {
          "base_uri": "https://localhost:8080/",
          "height": 68
        }
      },
      "source": [
        "class Animal:\n",
        "  def __init__(self, name, legs):\n",
        "    self.name = name\n",
        "    self.legs = legs\n",
        "\n",
        "class Dog(Animal):\n",
        "  def sound(self):\n",
        "    print('Woof!')\n",
        "\n",
        "Yoki = Dog('Yoki', 4)\n",
        "print(Yoki.name)\n",
        "print(Yoki.legs)\n",
        "Yoki.sound()"
      ],
      "execution_count": 0,
      "outputs": [
        {
          "output_type": "stream",
          "text": [
            "Yoki\n",
            "4\n",
            "Woof!\n"
          ],
          "name": "stdout"
        }
      ]
    },
    {
      "cell_type": "markdown",
      "metadata": {
        "id": "y_uKz01wKX1i",
        "colab_type": "text"
      },
      "source": [
        "### 11. User-defined exceptions in Python\n",
        "\n",
        "In Python, new exceptions can be defined by creating a new class which has to be derived, either directly or indirectly, from Python's **Exception** class."
      ]
    },
    {
      "cell_type": "code",
      "metadata": {
        "id": "EhmtAhEwKYEk",
        "colab_type": "code",
        "colab": {}
      },
      "source": [
        "class CustomError(Exception):\n",
        "  pass"
      ],
      "execution_count": 0,
      "outputs": []
    },
    {
      "cell_type": "markdown",
      "metadata": {
        "id": "sgu4tMbRKYWi",
        "colab_type": "text"
      },
      "source": [
        "### 12. Python issubclass() Function\n",
        "\n",
        "The Python `issubclass()` built-in function checks if the first argument is a subclass of the second argument.\n",
        "\n",
        "In the example code block, we check that `Member` is a subclass of the `Family` class. "
      ]
    },
    {
      "cell_type": "code",
      "metadata": {
        "id": "foO9yuMZKYjZ",
        "colab_type": "code",
        "outputId": "3ed1f386-1288-4216-c530-941db30d70f4",
        "colab": {
          "base_uri": "https://localhost:8080/",
          "height": 34
        }
      },
      "source": [
        "class Family:\n",
        "  def type(self):\n",
        "    print('Parent class')\n",
        "\n",
        "class Member(Family):\n",
        "  def type(self):\n",
        "    print('Child class')\n",
        "\n",
        "print(issubclass(Member, Family))"
      ],
      "execution_count": 0,
      "outputs": [
        {
          "output_type": "stream",
          "text": [
            "True\n"
          ],
          "name": "stdout"
        }
      ]
    },
    {
      "cell_type": "markdown",
      "metadata": {
        "id": "LMFruj60KY6r",
        "colab_type": "text"
      },
      "source": [
        "### 13. Method Overriding in Python\n",
        "\n",
        "In Python, inheritance allows for method overriding, which lets a child class change and redefine the implementation of methods already defined in its parent class.\n",
        "\n",
        "The following example code block creates a `ParentClass` and a `ChildClass` which both define a `print_test()` method. \n",
        "\n",
        "As the `ChildClass` inherits from the `ParentClass`, the method `print_test()` will be overriden by `ChildClass` such that it prints the word \"Child\" instead of \"Parent\". "
      ]
    },
    {
      "cell_type": "code",
      "metadata": {
        "id": "9Ch9e7UNKZGt",
        "colab_type": "code",
        "outputId": "a9e1fcc0-a71c-43a3-89ca-4fad3168b0ae",
        "colab": {
          "base_uri": "https://localhost:8080/",
          "height": 34
        }
      },
      "source": [
        "class ParentClass:\n",
        "  def print_self(self):\n",
        "    print(\"Parent\")\n",
        "\n",
        "class ChildClass(ParentClass):\n",
        "  def print_self(self):\n",
        "    print(\"Child\")\n",
        "\n",
        "\n",
        "child_instance = ChildClass()\n",
        "child_instance.print_self() # We override the \"Parent\" with \"Child\""
      ],
      "execution_count": 0,
      "outputs": [
        {
          "output_type": "stream",
          "text": [
            "Child\n"
          ],
          "name": "stdout"
        }
      ]
    },
    {
      "cell_type": "markdown",
      "metadata": {
        "id": "EPLU3v3sKZgo",
        "colab_type": "text"
      },
      "source": [
        "### 14. Super() Function in Python Inheritance\n",
        "\n",
        "Python's `super()` function allows a subclass to invoke its parent's version of an overriden method. "
      ]
    },
    {
      "cell_type": "code",
      "metadata": {
        "id": "7hujPiLCKZqx",
        "colab_type": "code",
        "outputId": "5131bb64-1742-4535-8304-b3e8f00b48ab",
        "colab": {
          "base_uri": "https://localhost:8080/",
          "height": 51
        }
      },
      "source": [
        "class ParentClass:\n",
        "  def print_test(self):\n",
        "    print('Parent Method')\n",
        "\n",
        "class ChildClass(ParentClass):\n",
        "  def print_test(self):\n",
        "    print('Child Method')\n",
        "    # Calls the parent's version of print_test()\n",
        "    super().print_test()\n",
        "\n",
        "child_instance = ChildClass()\n",
        "child_instance.print_test()"
      ],
      "execution_count": 0,
      "outputs": [
        {
          "output_type": "stream",
          "text": [
            "Child Method\n",
            "Parent Method\n"
          ],
          "name": "stdout"
        }
      ]
    },
    {
      "cell_type": "markdown",
      "metadata": {
        "id": "w_RAWhkvWxbd",
        "colab_type": "text"
      },
      "source": [
        "### 15. Polymorphism in Python\n",
        "\n",
        "When two Python classes offer the same set of methods with two different implementations, the classes are **polymorphic** and are said to have the same **interface**. An interface in this sense might involve a common inherited class and a set of overriden methods. This allows using the two objects in the same way regardless of their individual types.\n",
        "\n",
        "When a child class overrides a method of a parent class, then the type of the object determines the version of the method to be called. If the object is an instance of the child class, then the child class version of the overriden method will be called. On the other hand, if the object is an instance of the parent class, then the parent class version of the method will be called. "
      ]
    },
    {
      "cell_type": "code",
      "metadata": {
        "id": "WvMS497rWxvP",
        "colab_type": "code",
        "outputId": "d685ac1f-7165-4348-98c7-eaa7f289e486",
        "colab": {
          "base_uri": "https://localhost:8080/",
          "height": 51
        }
      },
      "source": [
        "class ParentClass:\n",
        "  def print_self(self):\n",
        "    print('A')\n",
        "\n",
        "class ChildClass(ParentClass):\n",
        "  def print_self(self):\n",
        "    print('B')\n",
        "\n",
        "obj_A = ParentClass()\n",
        "obj_B = ChildClass()\n",
        "\n",
        "obj_A.print_self()\n",
        "obj_B.print_self()"
      ],
      "execution_count": 0,
      "outputs": [
        {
          "output_type": "stream",
          "text": [
            "A\n",
            "B\n"
          ],
          "name": "stdout"
        }
      ]
    },
    {
      "cell_type": "markdown",
      "metadata": {
        "id": "bxeSNpM5Wx58",
        "colab_type": "text"
      },
      "source": [
        "### 16. Dunder methods in Python\n",
        "\n",
        "Dunder methods, which stands for \"Double Under\" (Underscore) methods, are special methods which have double underscores at the beginning and end of their names. \n",
        "\n",
        "We use them to create functionality that can't be representatd as a normal method, and resemble native Python data type interactions. A few examples for dunder methods are: `__init__`, `__add__`, `__len__`, and `__iter__`. \n",
        "\n",
        "The example code block shows a class with a definition for the `__init__` dunder method. "
      ]
    },
    {
      "cell_type": "code",
      "metadata": {
        "id": "NlH4M75rWyCN",
        "colab_type": "code",
        "outputId": "2bac34d7-cc01-452c-a67f-a41060aaac06",
        "colab": {
          "base_uri": "https://localhost:8080/",
          "height": 34
        }
      },
      "source": [
        "class String:\n",
        "  # Dunder method to initialize object\n",
        "  def __init__(self, string):\n",
        "    self.string = string\n",
        "\n",
        "string1 = String(\"Hello World!\")\n",
        "print(string1.string)"
      ],
      "execution_count": 0,
      "outputs": [
        {
          "output_type": "stream",
          "text": [
            "Hello World!\n"
          ],
          "name": "stdout"
        }
      ]
    },
    {
      "cell_type": "markdown",
      "metadata": {
        "id": "laR2r2YfZ8pv",
        "colab_type": "text"
      },
      "source": [
        "## Practice "
      ]
    },
    {
      "cell_type": "code",
      "metadata": {
        "id": "eE4BScMNZ91N",
        "colab_type": "code",
        "colab": {}
      },
      "source": [
        ""
      ],
      "execution_count": 0,
      "outputs": []
    }
  ]
}