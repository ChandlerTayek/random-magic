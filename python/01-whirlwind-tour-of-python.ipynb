{
  "nbformat": 4,
  "nbformat_minor": 0,
  "metadata": {
    "colab": {
      "name": "01-whirlwind-tour-of-python.ipynb",
      "version": "0.3.2",
      "provenance": [],
      "collapsed_sections": [
        "aZwOU03W4irP",
        "BFB2er8zC44X",
        "xTPohwgJLIj8",
        "6B5RWYxnPN5T",
        "4tAWHQCsRXDW",
        "hduPtxWMTxXD",
        "937ptvu1Ugtk"
      ],
      "include_colab_link": true
    },
    "kernelspec": {
      "name": "python3",
      "display_name": "Python 3"
    }
  },
  "cells": [
    {
      "cell_type": "markdown",
      "metadata": {
        "id": "view-in-github",
        "colab_type": "text"
      },
      "source": [
        "<a href=\"https://colab.research.google.com/github/kovacova/random-magic/blob/master/python/01-whirlwind-tour-of-python.ipynb\" target=\"_parent\"><img src=\"https://colab.research.google.com/assets/colab-badge.svg\" alt=\"Open In Colab\"/></a>"
      ]
    },
    {
      "cell_type": "markdown",
      "metadata": {
        "id": "Yl3CNbxSK71L",
        "colab_type": "text"
      },
      "source": [
        "# A Whirlwind Tour of Python\n",
        "\n",
        "_Book Notes_\n",
        "\n",
        "\n",
        "The appeal of Python is in its simplicity and beauty, as well as the convenience of the large ecosystem of domain-specific tools that have been built on top of it. For example, most of the Python code in scientific computing and data science is built around a group of mature and useful packages:\n",
        "\n",
        "**NumPy** provides efficient storage and computation for multidi‐ mensional data arrays.\n",
        "\n",
        "**SciPy** contains a wide array of numerical tools such as numeri‐ cal integration and interpolation.\n",
        "\n",
        "**Pandas** provides a DataFrame object along with a powerful set of methods to manipulate, filter, group, and transform data.\n",
        "\n",
        "**Matplotlib** provides a useful interface for creation of publication-quality plots and figures.\n",
        "\n",
        "**Scikit-Learn** provides a uniform toolkit for applying common machine learning algorithms to data.\n",
        "\n",
        "**IPython/Jupyter** provides an enhanced terminal and an interac‐ tive notebook environment that is useful for exploratory analy‐ sis, as well as creation of interactive, executable documents. For example, the manuscript for this report was composed entirely in Jupyter notebooks.\n",
        "\n",
        "<br>\n",
        "\n",
        "📌**TODOs**: \n",
        "- Read through the [PEP8 style guide](https://www.python.org/dev/peps/pep-0008/)\n",
        "- Combined bitwise operators\n",
        "- Binary vs. base-10 representation of numbers\n",
        "- Complex numbers\n",
        "- Python documentation for extras\n",
        "- Collections module\n"
      ]
    },
    {
      "cell_type": "markdown",
      "metadata": {
        "id": "7pIg3htVSjp0",
        "colab_type": "text"
      },
      "source": [
        "## Python Language Syntax\n",
        "\n",
        "⚠️Not enough values to unpack (line 5 bug) - we use semicolon (;) instead of a colon "
      ]
    },
    {
      "cell_type": "code",
      "metadata": {
        "id": "SrAmC9PnK5kh",
        "colab_type": "code",
        "outputId": "40749c09-1660-418a-e1d9-0d919c5084c6",
        "colab": {
          "base_uri": "https://localhost:8080/",
          "height": 51
        }
      },
      "source": [
        "# Set the midpoint (this is an assignment operation)\n",
        "midpoint = 5\n",
        "\n",
        "# Make two empty lists\n",
        "lower = []; upper = []\n",
        "\n",
        "# Split the numbers into lower and upper\n",
        "for i in range(10):\n",
        "  if (i < midpoint):\n",
        "    lower.append(i)\n",
        "  else: \n",
        "    upper.append(i)\n",
        "    \n",
        "print('lower: ', lower)\n",
        "print('upper: ', upper)"
      ],
      "execution_count": 0,
      "outputs": [
        {
          "output_type": "stream",
          "text": [
            "lower:  [0, 1, 2, 3, 4]\n",
            "upper:  [5, 6, 7, 8, 9]\n"
          ],
          "name": "stdout"
        }
      ]
    },
    {
      "cell_type": "markdown",
      "metadata": {
        "id": "XkdkGztaZvHz",
        "colab_type": "text"
      },
      "source": [
        "### Multinline Statements & Terminating Statements\n",
        "\n",
        "When writing these, make sure the backward slash is the last character, there are no additional spaces, and the rest of the statement is on the next line.\n",
        "\n",
        "\n",
        "Semicolon **;** can optionally terminate a statement."
      ]
    },
    {
      "cell_type": "code",
      "metadata": {
        "id": "37Lt7oPCLAhk",
        "colab_type": "code",
        "outputId": "1d4e086c-c531-47e3-c01b-1043610e6761",
        "colab": {
          "base_uri": "https://localhost:8080/",
          "height": 34
        }
      },
      "source": [
        "# Writing multiline statements\n",
        "\n",
        "x = 1 + 2 + 3 + 4 + \\\n",
        "    5 + 6 + 7 + 8\n",
        "\n",
        "x"
      ],
      "execution_count": 0,
      "outputs": [
        {
          "output_type": "execute_result",
          "data": {
            "text/plain": [
              "36"
            ]
          },
          "metadata": {
            "tags": []
          },
          "execution_count": 9
        }
      ]
    },
    {
      "cell_type": "code",
      "metadata": {
        "id": "_lWIGWMPZoZ1",
        "colab_type": "code",
        "outputId": "10fdef9b-ca2e-4935-90a9-cde54bbfed88",
        "colab": {
          "base_uri": "https://localhost:8080/",
          "height": 34
        }
      },
      "source": [
        "# We can accomplish the same without \\ by using parentheses\n",
        "# This is generally the best practice\n",
        "\n",
        "x = (1 + 2 + 3 + 4 +\n",
        "     5 + 6 + 7 + 8)\n",
        "\n",
        "x"
      ],
      "execution_count": 0,
      "outputs": [
        {
          "output_type": "execute_result",
          "data": {
            "text/plain": [
              "36"
            ]
          },
          "metadata": {
            "tags": []
          },
          "execution_count": 10
        }
      ]
    },
    {
      "cell_type": "code",
      "metadata": {
        "id": "HfYfJQ4Aalpr",
        "colab_type": "code",
        "colab": {}
      },
      "source": [
        "# To terminate the statement, we can use ;\n",
        "lower = []; upper = []\n",
        "\n",
        "# Is an equivalent to:\n",
        "lower = []\n",
        "upper = []"
      ],
      "execution_count": 0,
      "outputs": []
    },
    {
      "cell_type": "markdown",
      "metadata": {
        "id": "2bNLMIkPbTsv",
        "colab_type": "text"
      },
      "source": [
        "### Indentation\n",
        "\n",
        "In programming languages, a block of code is a set of statements that should be treated as a unit. In C, for example, code blocks are deno‐ ted by curly braces.\n",
        "\n",
        "\n",
        "In Python, code blocks are denoted by **indentation** and indented code blocks are always preceded by **colon**:\n",
        "\n",
        "Note: Whitespace within lines does not matter."
      ]
    },
    {
      "cell_type": "code",
      "metadata": {
        "id": "mFVUeXtYbGTe",
        "colab_type": "code",
        "outputId": "a4586922-9265-4f6d-c79a-9a665776d57e",
        "colab": {
          "base_uri": "https://localhost:8080/",
          "height": 34
        }
      },
      "source": [
        "# Example 1: This will be executed ONLY if x < 4\n",
        "if x < 4:\n",
        "  y = x * 2\n",
        "  print(x)\n",
        "\n",
        "# This print statement will ALWAYS be executed\n",
        "if x < 4:\n",
        "  y = x * 2\n",
        "print(x)"
      ],
      "execution_count": 0,
      "outputs": [
        {
          "output_type": "stream",
          "text": [
            "36\n"
          ],
          "name": "stdout"
        }
      ]
    },
    {
      "cell_type": "markdown",
      "metadata": {
        "id": "LoKREbNQpPEB",
        "colab_type": "text"
      },
      "source": [
        "### Parentheses\n",
        "\n",
        "They can be used in the typical way to group statements or mathematical operations. \n",
        "\n",
        "They can also be used to indicate that a function is being called. In the next snippet, the **print()** function is used to display the contents of a variable. \n",
        "\n",
        "The **function call** is indicated by a pair of opening and closing parentheses, with the **arguments** to the function contained within:"
      ]
    },
    {
      "cell_type": "code",
      "metadata": {
        "id": "LTl10v0CdDjJ",
        "colab_type": "code",
        "outputId": "1b318026-408b-4f91-e91d-c66bca00ffdb",
        "colab": {
          "base_uri": "https://localhost:8080/",
          "height": 34
        }
      },
      "source": [
        "# Parenthesis example\n",
        "2 * (3 + 4)\n",
        "\n",
        "# Function call example\n",
        "print('First value:', 1)"
      ],
      "execution_count": 0,
      "outputs": [
        {
          "output_type": "stream",
          "text": [
            "First value: 1\n"
          ],
          "name": "stdout"
        }
      ]
    },
    {
      "cell_type": "markdown",
      "metadata": {
        "id": "OUdxY5l8rCOa",
        "colab_type": "text"
      },
      "source": [
        "Some **functions can be called with no arguments** at all, in which case the opening and closing parentheses still must be used to **indicate a function evaluation.**\n",
        "\n",
        "The () after sort indicates that the function should be executed,\n",
        "and is required even if no arguments are necessary."
      ]
    },
    {
      "cell_type": "code",
      "metadata": {
        "id": "zz-xyXZXrDAp",
        "colab_type": "code",
        "outputId": "96b27a2b-9b99-4f26-e751-5fdc74d89365",
        "colab": {
          "base_uri": "https://localhost:8080/",
          "height": 34
        }
      },
      "source": [
        "# Example of calling a function\n",
        "L = [4, 3, 2, 1]\n",
        "L.sort()\n",
        "print(L)"
      ],
      "execution_count": 0,
      "outputs": [
        {
          "output_type": "stream",
          "text": [
            "[1, 2, 3, 4]\n"
          ],
          "name": "stdout"
        }
      ]
    },
    {
      "cell_type": "markdown",
      "metadata": {
        "id": "0xD0XSmDsjDn",
        "colab_type": "text"
      },
      "source": [
        "## Python Semantics\n",
        "\n",
        "As opposed to the syntax covered in the previous section, the semantics of a language involve the meaning of the statements.\n",
        "\n",
        "### Variables and Objects\n",
        "\n",
        "This section will cover the semantics of variables and objects, which are the main ways you store, reference, and operate on data within a Python script. \n",
        "\n",
        "Python variables are **pointers**. Assigning variables in Python is as easy as putting a variable name to the left of the equals sign (=):\n",
        "\n",
        "> `x = 4` \n",
        "\n",
        "In C code, we would assign variable as: \n",
        "\n",
        "> `int x = 4;`\n",
        "\n",
        "\n",
        "### Containers and Pointers \n",
        "\n",
        "In many programming languages, variables are best thought of as containers or buckets into which you put data. So in C, for example, when you write:\n",
        "\n",
        "> `int x = 4;`\n",
        "\n",
        "you are essentially **defining a “memory bucket”** named x, and putting the value 4 into it. In Python, by contrast, **variables are best thought of not as containers but as pointers**. So in Python, when you write:\n",
        "\n",
        "> `x = 4`\n",
        "\n",
        "you are essentially **defining a pointer named x that points to some other bucket** containing the value 4. Essentially, because Python variables just point to various objects, there is **no need to “declare”** the variable, or even require the variable to always point to information of the same type! This is the sense in which people say Python is **dynamically typed**: variable names can point to objects of any type. "
      ]
    },
    {
      "cell_type": "code",
      "metadata": {
        "id": "kPAQgfYnrXBt",
        "colab_type": "code",
        "colab": {}
      },
      "source": [
        "# Python does not have the concept of 'type safety' and variables can be re-assigned\n",
        "\n",
        "x = 1           # x is an integer\n",
        "x = 'hello'     # now x is a string\n",
        "x = [1, 2, 3]   # now x is a list "
      ],
      "execution_count": 0,
      "outputs": []
    },
    {
      "cell_type": "markdown",
      "metadata": {
        "id": "CSYiQFqKveOH",
        "colab_type": "text"
      },
      "source": [
        "IMPORTANT: If we have two variable names pointing to the same mutable object, then changing one will change the other as well! \n",
        "\n",
        "The **=** operator simply **changes** what the name points to."
      ]
    },
    {
      "cell_type": "code",
      "metadata": {
        "id": "g8ftflmTvgMQ",
        "colab_type": "code",
        "outputId": "ac6bda1a-29f5-41e7-fd30-835f7f954916",
        "colab": {
          "base_uri": "https://localhost:8080/",
          "height": 34
        }
      },
      "source": [
        "x = [1, 2, 3]\n",
        "y = x\n",
        "\n",
        "print(y)"
      ],
      "execution_count": 0,
      "outputs": [
        {
          "output_type": "stream",
          "text": [
            "[1, 2, 3]\n"
          ],
          "name": "stdout"
        }
      ]
    },
    {
      "cell_type": "code",
      "metadata": {
        "id": "UmfRQIyfvkUS",
        "colab_type": "code",
        "outputId": "9f2d161f-0009-409f-f47b-eb268822bf2a",
        "colab": {
          "base_uri": "https://localhost:8080/",
          "height": 34
        }
      },
      "source": [
        "x.append(4)   # we append 4 to the list pointed to by x\n",
        "print(y)      # y's list is modified as well!"
      ],
      "execution_count": 0,
      "outputs": [
        {
          "output_type": "stream",
          "text": [
            "[1, 2, 3, 4]\n"
          ],
          "name": "stdout"
        }
      ]
    },
    {
      "cell_type": "code",
      "metadata": {
        "id": "uLPtzDEHv1cj",
        "colab_type": "code",
        "outputId": "2fb529a0-92dc-41d3-ac07-df943eeb29b4",
        "colab": {
          "base_uri": "https://localhost:8080/",
          "height": 34
        }
      },
      "source": [
        "x = 'something else'\n",
        "print(y)      # y is unchanged because we only changed the x pointer"
      ],
      "execution_count": 0,
      "outputs": [
        {
          "output_type": "stream",
          "text": [
            "[1, 2, 3, 4]\n"
          ],
          "name": "stdout"
        }
      ]
    },
    {
      "cell_type": "markdown",
      "metadata": {
        "id": "_45RVaTLw2gC",
        "colab_type": "text"
      },
      "source": [
        "Numbers, strings, and other simple types are **immutable**: you can’t change their value—you can only change what values the variables point to. \n",
        "\n",
        "When we call **x += 5**, we are not modifying the value of the 5 object pointed to by x, but rather we are changing the object to which x points. For this reason, the value of y is not affected by the operation."
      ]
    },
    {
      "cell_type": "code",
      "metadata": {
        "id": "_GPcHGW0wBnv",
        "colab_type": "code",
        "outputId": "936fc724-474b-4bc4-849f-bd9059cc3e36",
        "colab": {
          "base_uri": "https://localhost:8080/",
          "height": 51
        }
      },
      "source": [
        "x = 10\n",
        "y = x\n",
        "x += 5       # add 5 to x's value, and assign it to x\n",
        "print('x =', x)\n",
        "print('y =', y)"
      ],
      "execution_count": 0,
      "outputs": [
        {
          "output_type": "stream",
          "text": [
            "x = 15\n",
            "y = 10\n"
          ],
          "name": "stdout"
        }
      ]
    },
    {
      "cell_type": "markdown",
      "metadata": {
        "id": "q6qJ008TyN0h",
        "colab_type": "text"
      },
      "source": [
        "## Python as an Object-Oriented Programming Language\n",
        "\n",
        "❓type-free languages (type refers to str, int, float)\n",
        "\n",
        "Python has types; however, the types are linked **not to the variable names but to the objects** themselves.\n",
        "\n",
        "In object-oriented programming languages like Python, **an object is an entity that contains data along with associated metadata and/or functionality**. In Python, **everything is an object**, which means every entity has some metadata (called **attributes**) and associated functionality (called **methods**). \n",
        "\n",
        "These attributes and methods are accessed via **the dot syntax**.\n",
        "\n"
      ]
    },
    {
      "cell_type": "code",
      "metadata": {
        "id": "-pn4JqS5xdMN",
        "colab_type": "code",
        "outputId": "9a49a50d-26d6-4c84-d058-fc6a8a6af806",
        "colab": {
          "base_uri": "https://localhost:8080/",
          "height": 34
        }
      },
      "source": [
        "# Even simple types have attached ATTRIBUTES AND METHODS\n",
        "x = 4.5\n",
        "print(x.real, '+', x.imag, 'i')"
      ],
      "execution_count": 0,
      "outputs": [
        {
          "output_type": "stream",
          "text": [
            "4.5 + 0.0 i\n"
          ],
          "name": "stdout"
        }
      ]
    },
    {
      "cell_type": "markdown",
      "metadata": {
        "id": "ayBqN2NP3iM6",
        "colab_type": "text"
      },
      "source": [
        "**Methods** are like attributes, except they **are functions** that you can call using a pair of opening and closing **parentheses**. "
      ]
    },
    {
      "cell_type": "code",
      "metadata": {
        "id": "o4ncArlT3bvh",
        "colab_type": "code",
        "outputId": "d8d49725-867a-4eba-fa7d-26f7ea621faa",
        "colab": {
          "base_uri": "https://localhost:8080/",
          "height": 34
        }
      },
      "source": [
        "x = 4.5\n",
        "x.is_integer()\n",
        "\n",
        "x = 4.0\n",
        "x.is_integer()"
      ],
      "execution_count": 0,
      "outputs": [
        {
          "output_type": "execute_result",
          "data": {
            "text/plain": [
              "True"
            ]
          },
          "metadata": {
            "tags": []
          },
          "execution_count": 25
        }
      ]
    },
    {
      "cell_type": "code",
      "metadata": {
        "id": "B8uirCQj31Se",
        "colab_type": "code",
        "outputId": "20177a61-1d4e-436f-d560-74862fc84c5a",
        "colab": {
          "base_uri": "https://localhost:8080/",
          "height": 34
        }
      },
      "source": [
        "# Everything in Python is an object\n",
        "# Even the attributes and methods of objects are themselves objects\n",
        "type(x.is_integer)"
      ],
      "execution_count": 0,
      "outputs": [
        {
          "output_type": "execute_result",
          "data": {
            "text/plain": [
              "builtin_function_or_method"
            ]
          },
          "metadata": {
            "tags": []
          },
          "execution_count": 26
        }
      ]
    },
    {
      "cell_type": "markdown",
      "metadata": {
        "id": "aZwOU03W4irP",
        "colab_type": "text"
      },
      "source": [
        "### Python Arithmetic Operations\n",
        "\n",
        "Python implements seven basic binary arithmetic operators, two of which can double as unary operators. They are summarized in the following table:\n",
        "\n",
        "<img src='http://masterprograming.com/wp-content/uploads/2019/05/Arithmetic-operators.jpg' width=50%></img>\n",
        "\n"
      ]
    },
    {
      "cell_type": "code",
      "metadata": {
        "id": "E54PEG2y36Kp",
        "colab_type": "code",
        "outputId": "b0af3766-daa1-475f-dc75-6ea0b60484fb",
        "colab": {
          "base_uri": "https://localhost:8080/",
          "height": 34
        }
      },
      "source": [
        "(4 + 8) * (6.5 - 3)"
      ],
      "execution_count": 0,
      "outputs": [
        {
          "output_type": "execute_result",
          "data": {
            "text/plain": [
              "42.0"
            ]
          },
          "metadata": {
            "tags": []
          },
          "execution_count": 27
        }
      ]
    },
    {
      "cell_type": "code",
      "metadata": {
        "id": "Rlu6nMTw5wZh",
        "colab_type": "code",
        "outputId": "7200ba68-8910-44d4-c79c-61dc1bec929b",
        "colab": {
          "base_uri": "https://localhost:8080/",
          "height": 51
        }
      },
      "source": [
        "# True division\n",
        "print(11 / 2)\n",
        "\n",
        "# Floor Division\n",
        "print(11 // 2)"
      ],
      "execution_count": 0,
      "outputs": [
        {
          "output_type": "stream",
          "text": [
            "5.5\n",
            "5\n"
          ],
          "name": "stdout"
        }
      ]
    },
    {
      "cell_type": "code",
      "metadata": {
        "id": "x2S7ol_y56qn",
        "colab_type": "code",
        "outputId": "f2c0af0e-03db-4f07-c5b6-9bbc8869d0dc",
        "colab": {
          "base_uri": "https://localhost:8080/",
          "height": 34
        }
      },
      "source": [
        "# he a @ b operator, which is meant to indicate the matrix product of a and b\n",
        "import numpy as np\n",
        "\n",
        "a = np.array([1, 2, 3])\n",
        "b = np.array([1, 2, 3])\n",
        "\n",
        "a @ b"
      ],
      "execution_count": 0,
      "outputs": [
        {
          "output_type": "execute_result",
          "data": {
            "text/plain": [
              "14"
            ]
          },
          "metadata": {
            "tags": []
          },
          "execution_count": 40
        }
      ]
    },
    {
      "cell_type": "markdown",
      "metadata": {
        "id": "BFB2er8zC44X",
        "colab_type": "text"
      },
      "source": [
        "### Bitwise Operations\n",
        "\n",
        "| Operator | Name | Description |\n",
        "|---|---|---|\n",
        "|  a & b | Bitwise AND  | Bits defined in both a and b   |\n",
        "|  a \\| b | Bitwise OR | Bits defined in a or b or both |\n",
        "| a ^ b  | Bitwise XOR | Bits defined in a or b but not both |\n",
        "| a << b | Bit shift left | Shifts bit of a left by b units |\n",
        "| a >> b | Bit shift right | Sifts bits of a right by b units |\n",
        "| ~a | Bitwise NOT | Bitwise negation of a |\n",
        "\n",
        "These bitwise operators only make sense in terms of the binary representation of numbers, which you can see using the built-in bin function:"
      ]
    },
    {
      "cell_type": "code",
      "metadata": {
        "id": "1G4dGOSt6TYb",
        "colab_type": "code",
        "outputId": "e14b5030-3886-49d3-bc61-56dd90f33594",
        "colab": {
          "base_uri": "https://localhost:8080/",
          "height": 34
        }
      },
      "source": [
        "# The result is prefixed with 0b, which indicates a binary representation\n",
        "bin(10)"
      ],
      "execution_count": 0,
      "outputs": [
        {
          "output_type": "execute_result",
          "data": {
            "text/plain": [
              "'0b1010'"
            ]
          },
          "metadata": {
            "tags": []
          },
          "execution_count": 43
        }
      ]
    },
    {
      "cell_type": "code",
      "metadata": {
        "id": "eGburzX3EcVj",
        "colab_type": "code",
        "outputId": "7296dbb6-7ab0-4ac9-914b-963744677ecd",
        "colab": {
          "base_uri": "https://localhost:8080/",
          "height": 34
        }
      },
      "source": [
        "bin(10)"
      ],
      "execution_count": 0,
      "outputs": [
        {
          "output_type": "execute_result",
          "data": {
            "text/plain": [
              "'0b1010'"
            ]
          },
          "metadata": {
            "tags": []
          },
          "execution_count": 44
        }
      ]
    },
    {
      "cell_type": "code",
      "metadata": {
        "id": "E7qqpOu5KxHl",
        "colab_type": "code",
        "outputId": "1e196a9a-7321-4b34-d3b5-988b429e7f35",
        "colab": {
          "base_uri": "https://localhost:8080/",
          "height": 34
        }
      },
      "source": [
        "# This combines the bits of 4 and 10\n",
        "4 | 10"
      ],
      "execution_count": 0,
      "outputs": [
        {
          "output_type": "execute_result",
          "data": {
            "text/plain": [
              "14"
            ]
          },
          "metadata": {
            "tags": []
          },
          "execution_count": 45
        }
      ]
    },
    {
      "cell_type": "markdown",
      "metadata": {
        "id": "xTPohwgJLIj8",
        "colab_type": "text"
      },
      "source": [
        "### Updating Values\n",
        "\n",
        "Frequently, we are updating variables in Python to reflect a new value (i.e. a + 2). Because this type of combined operation and assign‐ ment is so common, Python includes built-in update operators for all of the arithmetic operations:\n",
        "\n",
        "\n",
        "There is an **augmented assignment operator** corresponding to each of the binary operators listed earlier; in brief, they are:\n",
        "\n",
        "|   |  |   |  |\n",
        "|---|---|---|--|\n",
        "| a += b | a -= b | a \\*= b | a /= b | \n",
        "| a //= b | a %= b | a \\*\\*= b | a &= b | \n",
        "| a \\|= b | a ^= b | a <<= b | a >>= b |\n"
      ]
    },
    {
      "cell_type": "code",
      "metadata": {
        "id": "phLtd1H-Kyzi",
        "colab_type": "code",
        "outputId": "e0b52924-7bce-4267-9910-ce46c06eb93f",
        "colab": {
          "base_uri": "https://localhost:8080/",
          "height": 34
        }
      },
      "source": [
        "a = 5\n",
        "a += 2     # equivalent to a = a + 2\n",
        "a"
      ],
      "execution_count": 0,
      "outputs": [
        {
          "output_type": "execute_result",
          "data": {
            "text/plain": [
              "7"
            ]
          },
          "metadata": {
            "tags": []
          },
          "execution_count": 48
        }
      ]
    },
    {
      "cell_type": "markdown",
      "metadata": {
        "id": "6B5RWYxnPN5T",
        "colab_type": "text"
      },
      "source": [
        "### Comparison Operations\n",
        "\n",
        "Another type of operation that can be very useful is comparison of different values. For this, Python implements standard comparison operators, which return Boolean values True and False. The comparison operations are listed in the following table:\n",
        "\n",
        "|  Operation | Description | \n",
        "|---|--|\n",
        "|a == b | a equal to b | \n",
        "|a != b | a not equal to b |\n",
        "|a < b | a less than b |\n",
        "|a > b | a greater than b |\n",
        "|a <= b | a less than or equal to b |\n",
        "|a >= b| a greater than or equal to b |\n",
        "\n"
      ]
    },
    {
      "cell_type": "code",
      "metadata": {
        "id": "jnSQoYMdLc7e",
        "colab_type": "code",
        "outputId": "b2f24fb3-413a-4978-be81-9d140d33dbf5",
        "colab": {
          "base_uri": "https://localhost:8080/",
          "height": 34
        }
      },
      "source": [
        "# 25 is odd\n",
        "25 % 2 == 1"
      ],
      "execution_count": 0,
      "outputs": [
        {
          "output_type": "execute_result",
          "data": {
            "text/plain": [
              "True"
            ]
          },
          "metadata": {
            "tags": []
          },
          "execution_count": 49
        }
      ]
    },
    {
      "cell_type": "code",
      "metadata": {
        "id": "wi_TiboiQSI_",
        "colab_type": "code",
        "outputId": "859d6817-d1da-4f03-c9ba-b4edbcee6f87",
        "colab": {
          "base_uri": "https://localhost:8080/",
          "height": 34
        }
      },
      "source": [
        "# 66 is odd\n",
        "66 % 2 == 1"
      ],
      "execution_count": 0,
      "outputs": [
        {
          "output_type": "execute_result",
          "data": {
            "text/plain": [
              "False"
            ]
          },
          "metadata": {
            "tags": []
          },
          "execution_count": 50
        }
      ]
    },
    {
      "cell_type": "code",
      "metadata": {
        "id": "Lzx8T8RjQV_4",
        "colab_type": "code",
        "outputId": "da7b6d1f-a90a-4c73-aaf3-0b67e73b9bf6",
        "colab": {
          "base_uri": "https://localhost:8080/",
          "height": 34
        }
      },
      "source": [
        "# Check if a is between 15 and 30\n",
        "a = 25\n",
        "15 < a < 30"
      ],
      "execution_count": 0,
      "outputs": [
        {
          "output_type": "execute_result",
          "data": {
            "text/plain": [
              "True"
            ]
          },
          "metadata": {
            "tags": []
          },
          "execution_count": 51
        }
      ]
    },
    {
      "cell_type": "code",
      "metadata": {
        "id": "cdgYHtJ3QjX0",
        "colab_type": "code",
        "outputId": "86fd3fc3-a930-4d4b-bb88-f1a72f759699",
        "colab": {
          "base_uri": "https://localhost:8080/",
          "height": 34
        }
      },
      "source": [
        "# ~ is the bit-flip operator\n",
        "# and evidently when you flip all the bits of zero you end up with –1. 🤷‍♀️\n",
        "-1 == ~0"
      ],
      "execution_count": 0,
      "outputs": [
        {
          "output_type": "execute_result",
          "data": {
            "text/plain": [
              "True"
            ]
          },
          "metadata": {
            "tags": []
          },
          "execution_count": 54
        }
      ]
    },
    {
      "cell_type": "markdown",
      "metadata": {
        "id": "4tAWHQCsRXDW",
        "colab_type": "text"
      },
      "source": [
        "### Boolean Operations\n",
        "\n",
        "When working with Boolean values, Python provides operators to combine the values using the standard concepts of “and”, “or”, and “not”. Predictably, these operators are expressed using the words and, or, and not:"
      ]
    },
    {
      "cell_type": "code",
      "metadata": {
        "id": "oUVs3ueHQrJz",
        "colab_type": "code",
        "outputId": "da1c198c-958a-40ab-acea-45d88e2ec4fe",
        "colab": {
          "base_uri": "https://localhost:8080/",
          "height": 34
        }
      },
      "source": [
        "x = 4\n",
        "(x < 6) and (x > 2)"
      ],
      "execution_count": 0,
      "outputs": [
        {
          "output_type": "execute_result",
          "data": {
            "text/plain": [
              "True"
            ]
          },
          "metadata": {
            "tags": []
          },
          "execution_count": 55
        }
      ]
    },
    {
      "cell_type": "code",
      "metadata": {
        "id": "huQjnB2iRqwi",
        "colab_type": "code",
        "outputId": "07b59f20-afe5-4275-9a7b-f79d37860375",
        "colab": {
          "base_uri": "https://localhost:8080/",
          "height": 34
        }
      },
      "source": [
        "(x > 10) or (x % 2 == 0)"
      ],
      "execution_count": 0,
      "outputs": [
        {
          "output_type": "execute_result",
          "data": {
            "text/plain": [
              "True"
            ]
          },
          "metadata": {
            "tags": []
          },
          "execution_count": 56
        }
      ]
    },
    {
      "cell_type": "code",
      "metadata": {
        "id": "BsZdWdjQRxzw",
        "colab_type": "code",
        "outputId": "f6a1b4eb-9968-400c-f026-efbe3484256f",
        "colab": {
          "base_uri": "https://localhost:8080/",
          "height": 34
        }
      },
      "source": [
        "not (x < 6)"
      ],
      "execution_count": 0,
      "outputs": [
        {
          "output_type": "execute_result",
          "data": {
            "text/plain": [
              "False"
            ]
          },
          "metadata": {
            "tags": []
          },
          "execution_count": 57
        }
      ]
    },
    {
      "cell_type": "markdown",
      "metadata": {
        "id": "cmUU2QnRSLg4",
        "colab_type": "text"
      },
      "source": [
        "One sometimes confusing thing about the language is when to use Boolean operators (and, or, not), and when to use bitwise operations (&, |, ~). The answer lies in their names: \n",
        "\n",
        "**Boolean operators** should be used when you want to compute Boolean values (i.e., **truth or falsehood**) of entire statements. \n",
        "\n",
        "**Bitwise operations** should be used when you want to **operate on individual bits or components** of the objects in question."
      ]
    },
    {
      "cell_type": "markdown",
      "metadata": {
        "id": "hduPtxWMTxXD",
        "colab_type": "text"
      },
      "source": [
        "### Identity Operators\n",
        "\n",
        "The identity operators, is and is not, check for object identity. Object **identity** is different than **equality**.\n",
        "\n",
        "The **is** operator **checks whether the two variables are pointing to the same container (object)**, rather than referring to what the container contains. With this in mind, in most cases that a beginner is tempted to use is, what they really mean is **==**."
      ]
    },
    {
      "cell_type": "code",
      "metadata": {
        "id": "56tjb2NNR1rr",
        "colab_type": "code",
        "outputId": "7f82238b-ee56-4d39-b809-5cf4721ec9db",
        "colab": {
          "base_uri": "https://localhost:8080/",
          "height": 34
        }
      },
      "source": [
        "a = [1, 2, 3]\n",
        "b = [1, 2, 3]\n",
        "\n",
        "a == b"
      ],
      "execution_count": 0,
      "outputs": [
        {
          "output_type": "execute_result",
          "data": {
            "text/plain": [
              "True"
            ]
          },
          "metadata": {
            "tags": []
          },
          "execution_count": 58
        }
      ]
    },
    {
      "cell_type": "code",
      "metadata": {
        "id": "I4taihKBT8CU",
        "colab_type": "code",
        "outputId": "41dd3665-4e6a-4e81-dff3-51f1b9e2eeb6",
        "colab": {
          "base_uri": "https://localhost:8080/",
          "height": 34
        }
      },
      "source": [
        "a is b"
      ],
      "execution_count": 0,
      "outputs": [
        {
          "output_type": "execute_result",
          "data": {
            "text/plain": [
              "False"
            ]
          },
          "metadata": {
            "tags": []
          },
          "execution_count": 59
        }
      ]
    },
    {
      "cell_type": "code",
      "metadata": {
        "id": "0XjkZ4qlT9QX",
        "colab_type": "code",
        "outputId": "37c5411e-a3a4-4d38-ee04-2279d6d08803",
        "colab": {
          "base_uri": "https://localhost:8080/",
          "height": 34
        }
      },
      "source": [
        "a is not b"
      ],
      "execution_count": 0,
      "outputs": [
        {
          "output_type": "execute_result",
          "data": {
            "text/plain": [
              "True"
            ]
          },
          "metadata": {
            "tags": []
          },
          "execution_count": 60
        }
      ]
    },
    {
      "cell_type": "code",
      "metadata": {
        "id": "4xPs_q5-T-zU",
        "colab_type": "code",
        "outputId": "ae7b2dff-43e3-4be0-b09e-4a71761480f2",
        "colab": {
          "base_uri": "https://localhost:8080/",
          "height": 34
        }
      },
      "source": [
        "# Creating identical objects \n",
        "a = [1, 2, 3]\n",
        "b = a \n",
        "\n",
        "a is b"
      ],
      "execution_count": 0,
      "outputs": [
        {
          "output_type": "execute_result",
          "data": {
            "text/plain": [
              "True"
            ]
          },
          "metadata": {
            "tags": []
          },
          "execution_count": 61
        }
      ]
    },
    {
      "cell_type": "markdown",
      "metadata": {
        "id": "937ptvu1Ugtk",
        "colab_type": "text"
      },
      "source": [
        "### Membership operators\n",
        "\n",
        "Membership operators check for membership within **compound** objects.\n",
        "\n",
        "These membership operations are an example of what makes Python so easy to use compared to lower-level languages such as C. In C, membership would generally be determined by manually constructing a loop over the list and checking for equality of each value. In Python, you just type what you want to know, in a manner reminiscent of straightforward English prose."
      ]
    },
    {
      "cell_type": "code",
      "metadata": {
        "id": "9LGTQt3mUFuC",
        "colab_type": "code",
        "outputId": "3bba887e-8f81-4a21-b63e-9f5cd59502e0",
        "colab": {
          "base_uri": "https://localhost:8080/",
          "height": 34
        }
      },
      "source": [
        "1 in [1, 2, 3]"
      ],
      "execution_count": 0,
      "outputs": [
        {
          "output_type": "execute_result",
          "data": {
            "text/plain": [
              "True"
            ]
          },
          "metadata": {
            "tags": []
          },
          "execution_count": 62
        }
      ]
    },
    {
      "cell_type": "code",
      "metadata": {
        "id": "s627VNs4UnvX",
        "colab_type": "code",
        "outputId": "2e2031b6-3e17-472e-e02d-8d3dc2fbeb58",
        "colab": {
          "base_uri": "https://localhost:8080/",
          "height": 34
        }
      },
      "source": [
        "2 not in [1, 2, 3]"
      ],
      "execution_count": 0,
      "outputs": [
        {
          "output_type": "execute_result",
          "data": {
            "text/plain": [
              "False"
            ]
          },
          "metadata": {
            "tags": []
          },
          "execution_count": 63
        }
      ]
    },
    {
      "cell_type": "markdown",
      "metadata": {
        "id": "G6pym455VThR",
        "colab_type": "text"
      },
      "source": [
        "## Built-In types \n",
        "\n",
        "### Simple Values\n",
        "\n",
        "These are:\n",
        "- Integers\n",
        "- Floating-point numbers (i.e., real numbers)\n",
        "- Complex numbers (i.e., numbers with a real and imaginary part (x = 1 + 2j))\n",
        "- Booleans (True/False values)\n",
        "- Strings\n",
        "- NoneType (special objects indicating nulls)\n",
        "\n",
        "You’ll see **None** used in many places, but perhaps most commonly it is used as **the default return value of a function.**\n",
        "\n",
        "Another convenient feature of Python integers is that by default, **division upcasts to floating-point** type:"
      ]
    },
    {
      "cell_type": "code",
      "metadata": {
        "id": "e2EZGaw-Up-Y",
        "colab_type": "code",
        "outputId": "70acf090-cade-4e90-f7f8-7ee17abc97af",
        "colab": {
          "base_uri": "https://localhost:8080/",
          "height": 34
        }
      },
      "source": [
        "5 / 2     # We can use floor division // if we want to retain ints"
      ],
      "execution_count": 0,
      "outputs": [
        {
          "output_type": "execute_result",
          "data": {
            "text/plain": [
              "2.5"
            ]
          },
          "metadata": {
            "tags": []
          },
          "execution_count": 64
        }
      ]
    },
    {
      "cell_type": "markdown",
      "metadata": {
        "id": "66T-CDIgWsmK",
        "colab_type": "text"
      },
      "source": [
        "In the exponential notation, the e or E can be read “...times ten to the...”, so that 1.4e6 is interpreted as 1.4 × 106."
      ]
    },
    {
      "cell_type": "code",
      "metadata": {
        "id": "Q_9trlu5WI3q",
        "colab_type": "code",
        "outputId": "0e872f5f-d2cd-4316-ecf1-b2e37e9cda12",
        "colab": {
          "base_uri": "https://localhost:8080/",
          "height": 34
        }
      },
      "source": [
        "# Floating point type can store fractional numbers\n",
        "\n",
        "# Standard decimal notation\n",
        "x = 0.000005\n",
        "\n",
        "# Exponential notation\n",
        "y = 5e-6\n",
        "\n",
        "print(x == y)"
      ],
      "execution_count": 0,
      "outputs": [
        {
          "output_type": "stream",
          "text": [
            "True\n"
          ],
          "name": "stdout"
        }
      ]
    },
    {
      "cell_type": "markdown",
      "metadata": {
        "id": "aKndFikPYAMd",
        "colab_type": "text"
      },
      "source": [
        "This rounding error for floating-point values is a necessary evil of working with floating-point numbers. The best way to deal with it is to always keep in mind that floating-point arithmetic is approximate, and **never rely on exact equality tests with floating-point values**."
      ]
    },
    {
      "cell_type": "code",
      "metadata": {
        "id": "IVOxv1C0WnS_",
        "colab_type": "code",
        "outputId": "cd861b83-42b3-4cdd-e62c-9f7aa2318ba2",
        "colab": {
          "base_uri": "https://localhost:8080/",
          "height": 34
        }
      },
      "source": [
        "# With floats the precision is limited and equality tests may be unstable\n",
        "0.1 + 0.2 == 0.3"
      ],
      "execution_count": 0,
      "outputs": [
        {
          "output_type": "execute_result",
          "data": {
            "text/plain": [
              "False"
            ]
          },
          "metadata": {
            "tags": []
          },
          "execution_count": 66
        }
      ]
    },
    {
      "cell_type": "code",
      "metadata": {
        "id": "dShhUCARXCcp",
        "colab_type": "code",
        "outputId": "0b23a9b8-977f-403b-dc37-5c11a3a58b13",
        "colab": {
          "base_uri": "https://localhost:8080/",
          "height": 68
        }
      },
      "source": [
        "print('0.1 = {0:.17f}'.format(0.1))\n",
        "print('0.2 = {0:.17f}'.format(0.2))\n",
        "print('0.3 = {0:.17f}'.format(0.3))"
      ],
      "execution_count": 0,
      "outputs": [
        {
          "output_type": "stream",
          "text": [
            "0.1 = 0.10000000000000001\n",
            "0.2 = 0.20000000000000001\n",
            "0.3 = 0.29999999999999999\n"
          ],
          "name": "stdout"
        }
      ]
    },
    {
      "cell_type": "markdown",
      "metadata": {
        "id": "qgQEfKqDXYfp",
        "colab_type": "text"
      },
      "source": [
        "Computers usually store values in binary notation, so that each number is expressed as a sum of powers of 2:\n",
        "\n",
        "1/8 = 0 · 2-1 + 0 · 2-2 + 1 · 2-3"
      ]
    },
    {
      "cell_type": "code",
      "metadata": {
        "id": "F4ykUy7YXNCn",
        "colab_type": "code",
        "outputId": "5fb6abda-bc18-4183-c9dc-d9ad31b77eb7",
        "colab": {
          "base_uri": "https://localhost:8080/",
          "height": 34
        }
      },
      "source": [
        "# Accessing individual characters (zero-based indexing)\n",
        "message = 'spam'\n",
        "message[0]"
      ],
      "execution_count": 0,
      "outputs": [
        {
          "output_type": "execute_result",
          "data": {
            "text/plain": [
              "'s'"
            ]
          },
          "metadata": {
            "tags": []
          },
          "execution_count": 69
        }
      ]
    },
    {
      "cell_type": "markdown",
      "metadata": {
        "id": "2IYpDgmOaeAP",
        "colab_type": "text"
      },
      "source": [
        "## Built-In Data Structures\n",
        "\n",
        "We have seen Python’s simple types: int, float, complex, bool, str, and so on. Python also has several built-in compound types, which **act as containers** for other types. These compound types are:\n",
        "\n",
        "| Type Name | Example | Description |\n",
        "|---|---|---|\n",
        "|  list | [1, 2, 3] | Ordered Collection |\n",
        "|  tuple | (1, 2, 3) | Immutable ordered collection |\n",
        "| dict  | {'a':1, 'b:2, 'c': 3} | Unordered (key, value) mapping |\n",
        "| set | {1, 2, 3} | Unordered collection of unique values |\n",
        "\n",
        "As you can see, **round, square, and curly brackets have distinct meanings** when it comes to the type of collection produced.\n",
        "\n",
        "\n",
        "\n"
      ]
    },
    {
      "cell_type": "markdown",
      "metadata": {
        "id": "G4r7930pjtdw",
        "colab_type": "text"
      },
      "source": [
        "### Lists\n",
        "\n",
        "Lists are _ordered_ and _mutable_ data collection type. We can use the **`.append()`**, **`.sort()`** and many more methods on these."
      ]
    },
    {
      "cell_type": "code",
      "metadata": {
        "id": "GBUWHnbWZXZU",
        "colab_type": "code",
        "colab": {}
      },
      "source": [
        "# Lists can contain objects of any type, or even a mix of types\n",
        "L = [1, 'two', 3.14, [0, 3, 5]]"
      ],
      "execution_count": 0,
      "outputs": []
    },
    {
      "cell_type": "markdown",
      "metadata": {
        "id": "fVL5bz7OcxEo",
        "colab_type": "text"
      },
      "source": [
        "### List Indexing and Slicing\n",
        "\n",
        "Python provides access to elements in compound types through indexing for single elements, and slicing for multiple elements. As we’ll see, both are indicated by a square-bracket syntax.\n",
        "\n",
        "Python uses zero-based indexing, so we can access the first and second element in using the following syntax:"
      ]
    },
    {
      "cell_type": "code",
      "metadata": {
        "id": "93AdiioHck9a",
        "colab_type": "code",
        "outputId": "56c521db-163c-462e-c226-ceb9621ed9ed",
        "colab": {
          "base_uri": "https://localhost:8080/",
          "height": 34
        }
      },
      "source": [
        "L = [2, 3, 5, 7, 11]\n",
        "\n",
        "L[0]\n",
        "\n",
        "L[1]"
      ],
      "execution_count": 0,
      "outputs": [
        {
          "output_type": "execute_result",
          "data": {
            "text/plain": [
              "3"
            ]
          },
          "metadata": {
            "tags": []
          },
          "execution_count": 73
        }
      ]
    },
    {
      "cell_type": "code",
      "metadata": {
        "id": "4jNs7LjWc8OH",
        "colab_type": "code",
        "outputId": "8c4dea39-ee87-4bdb-9a68-c8e3fc211b7d",
        "colab": {
          "base_uri": "https://localhost:8080/",
          "height": 34
        }
      },
      "source": [
        "# Negative numbers allow us to pick elements from the END of the list\n",
        "L[-1]"
      ],
      "execution_count": 0,
      "outputs": [
        {
          "output_type": "execute_result",
          "data": {
            "text/plain": [
              "11"
            ]
          },
          "metadata": {
            "tags": []
          },
          "execution_count": 74
        }
      ]
    },
    {
      "cell_type": "markdown",
      "metadata": {
        "id": "VSKlWkRmdUl0",
        "colab_type": "text"
      },
      "source": [
        "Where **indexing** is a means of **fetching a single value** from the list, **slicing** is a means of **accessing multiple values** in sublists. It uses a colon to indicate the **start point (inclusive)** and **end point (non-inclusive)** of the subarray. For example, to get the first three ele‐ ments of the list, we can write it as follows:"
      ]
    },
    {
      "cell_type": "code",
      "metadata": {
        "id": "qtmTP_KWdMKy",
        "colab_type": "code",
        "outputId": "9898d528-a5f2-4957-8356-35852fdaa264",
        "colab": {
          "base_uri": "https://localhost:8080/",
          "height": 34
        }
      },
      "source": [
        "# List slicing example\n",
        "L[0:3]\n",
        "\n",
        "# We can also leave out the first value, python will assume it is 0\n",
        "L[:3]"
      ],
      "execution_count": 0,
      "outputs": [
        {
          "output_type": "execute_result",
          "data": {
            "text/plain": [
              "[2, 3, 5]"
            ]
          },
          "metadata": {
            "tags": []
          },
          "execution_count": 77
        }
      ]
    },
    {
      "cell_type": "markdown",
      "metadata": {
        "id": "x72Xqizcej7Z",
        "colab_type": "text"
      },
      "source": [
        "It is possible to specify a third integer that represents the **step size**; for example, to select every second element of the list, we can write:"
      ]
    },
    {
      "cell_type": "code",
      "metadata": {
        "id": "ngl82HJXdYDS",
        "colab_type": "code",
        "outputId": "bd43d44b-073f-4f40-f643-b6663da34f93",
        "colab": {
          "base_uri": "https://localhost:8080/",
          "height": 34
        }
      },
      "source": [
        "L[::2]"
      ],
      "execution_count": 0,
      "outputs": [
        {
          "output_type": "execute_result",
          "data": {
            "text/plain": [
              "[2, 5, 11]"
            ]
          },
          "metadata": {
            "tags": []
          },
          "execution_count": 78
        }
      ]
    },
    {
      "cell_type": "code",
      "metadata": {
        "id": "4z3JdmJwep5_",
        "colab_type": "code",
        "outputId": "7a683780-49ed-45fa-94a3-b9015abec8f1",
        "colab": {
          "base_uri": "https://localhost:8080/",
          "height": 34
        }
      },
      "source": [
        "# A particularly useful version of this is to specify a negative step, which will reverse the array\n",
        "L[::-1]"
      ],
      "execution_count": 0,
      "outputs": [
        {
          "output_type": "execute_result",
          "data": {
            "text/plain": [
              "[11, 7, 5, 3, 2]"
            ]
          },
          "metadata": {
            "tags": []
          },
          "execution_count": 79
        }
      ]
    },
    {
      "cell_type": "markdown",
      "metadata": {
        "id": "oBx77Jb5fUoF",
        "colab_type": "text"
      },
      "source": [
        "### Tuples\n",
        "\n",
        "They are very similar to lists, but use parentheses rather than square brackets, or alternatively they can be defined without any brackets at all. \n",
        "\n",
        "Tuples have a length, and individual elements can be extracted using square-bracket indexing.\n",
        "\n",
        "The main distinguishing feature of tuples is that they are **immutable**, meaning that once they are created, **their size and contents cannot be changed**. \n",
        "\n",
        "Indexing and slicing logic also **works** with tuples."
      ]
    },
    {
      "cell_type": "code",
      "metadata": {
        "id": "2GafCp84e0zr",
        "colab_type": "code",
        "outputId": "eebb1f50-afc1-492a-9d68-f3b5971ceab6",
        "colab": {
          "base_uri": "https://localhost:8080/",
          "height": 34
        }
      },
      "source": [
        "t = (1, 2, 3)\n",
        "t = 1, 2, 3\n",
        "print(t)"
      ],
      "execution_count": 0,
      "outputs": [
        {
          "output_type": "stream",
          "text": [
            "(1, 2, 3)\n"
          ],
          "name": "stdout"
        }
      ]
    },
    {
      "cell_type": "code",
      "metadata": {
        "id": "RTFIT58zf2A-",
        "colab_type": "code",
        "outputId": "61469013-ad00-45b5-d390-514bfde60d50",
        "colab": {
          "base_uri": "https://localhost:8080/",
          "height": 34
        }
      },
      "source": [
        "len(t)"
      ],
      "execution_count": 0,
      "outputs": [
        {
          "output_type": "execute_result",
          "data": {
            "text/plain": [
              "3"
            ]
          },
          "metadata": {
            "tags": []
          },
          "execution_count": 81
        }
      ]
    },
    {
      "cell_type": "code",
      "metadata": {
        "id": "tc4yRl4Af4M9",
        "colab_type": "code",
        "outputId": "d5623f2c-32d4-4fbc-e625-acf210874436",
        "colab": {
          "base_uri": "https://localhost:8080/",
          "height": 34
        }
      },
      "source": [
        "t[0]"
      ],
      "execution_count": 0,
      "outputs": [
        {
          "output_type": "execute_result",
          "data": {
            "text/plain": [
              "1"
            ]
          },
          "metadata": {
            "tags": []
          },
          "execution_count": 82
        }
      ]
    },
    {
      "cell_type": "code",
      "metadata": {
        "id": "4sGyljftf5Bm",
        "colab_type": "code",
        "colab": {}
      },
      "source": [
        "# This will give us error:\n",
        "\n",
        "# TypeError: 'tuple' object does not support item assignment\n",
        "# t[1] = 4\n",
        "\n",
        "\n",
        "# AttributeError: 'tuple' object has no attribute 'append'\n",
        "# t.append(4)"
      ],
      "execution_count": 0,
      "outputs": []
    },
    {
      "cell_type": "markdown",
      "metadata": {
        "id": "UBJi3t0igcQc",
        "colab_type": "text"
      },
      "source": [
        "Tuples are often used in a Python program; a particularly common case is in functions that have multiple return values. For example, the **as_integer_ratio()** method of floating-point objects returns a numerator and a denominator; this dual return value comes in the form of a tuple:"
      ]
    },
    {
      "cell_type": "code",
      "metadata": {
        "id": "54-3vDqVf8Lx",
        "colab_type": "code",
        "outputId": "06d16052-3489-40d9-aa2a-bdc2225bb6b7",
        "colab": {
          "base_uri": "https://localhost:8080/",
          "height": 34
        }
      },
      "source": [
        "x = 0.125\n",
        "x.as_integer_ratio()"
      ],
      "execution_count": 0,
      "outputs": [
        {
          "output_type": "execute_result",
          "data": {
            "text/plain": [
              "(1, 8)"
            ]
          },
          "metadata": {
            "tags": []
          },
          "execution_count": 88
        }
      ]
    },
    {
      "cell_type": "code",
      "metadata": {
        "id": "PqfzL5MGgjvv",
        "colab_type": "code",
        "outputId": "a71bea47-2196-4527-ddc3-50db07ff33df",
        "colab": {
          "base_uri": "https://localhost:8080/",
          "height": 34
        }
      },
      "source": [
        "# To reverse this:\n",
        "\n",
        "# These multiple return values can be individually assigned:\n",
        "numerator, denominator = x.as_integer_ratio()\n",
        "print(numerator/denominator)"
      ],
      "execution_count": 0,
      "outputs": [
        {
          "output_type": "stream",
          "text": [
            "0.125\n"
          ],
          "name": "stdout"
        }
      ]
    },
    {
      "cell_type": "markdown",
      "metadata": {
        "id": "A4-LnwrNj_Vw",
        "colab_type": "text"
      },
      "source": [
        "### Dictionaries\n",
        "\n",
        "Dictionaries are extremely flexible mappings of keys to values, and form the basis of much of Python’s internal implementation. They can be created via **a comma-separated list of key:value pairs** within curly braces:\n",
        "\n",
        "Items are accessed and set via the indexing syntax used for lists and tuples, except here **the index is** not a zero-based order but **valid key** in the dictionary:"
      ]
    },
    {
      "cell_type": "code",
      "metadata": {
        "id": "GJ4IP4V5gu68",
        "colab_type": "code",
        "colab": {
          "base_uri": "https://localhost:8080/",
          "height": 34
        },
        "outputId": "ef6f9d0d-ce7c-4799-d2ed-cf7e4ff66ffc"
      },
      "source": [
        "numbers = {'one':1, 'two':2, 'three':3}\n",
        "\n",
        "# Access a value via the key\n",
        "numbers['two']"
      ],
      "execution_count": 91,
      "outputs": [
        {
          "output_type": "execute_result",
          "data": {
            "text/plain": [
              "2"
            ]
          },
          "metadata": {
            "tags": []
          },
          "execution_count": 91
        }
      ]
    },
    {
      "cell_type": "code",
      "metadata": {
        "id": "hXDJrzu8kM1q",
        "colab_type": "code",
        "colab": {
          "base_uri": "https://localhost:8080/",
          "height": 34
        },
        "outputId": "90330307-21fc-479c-9d30-5b8277ce4267"
      },
      "source": [
        "# We can set a new key/value pair\n",
        "\n",
        "numbers['ninety'] = 90\n",
        "print(numbers)"
      ],
      "execution_count": 92,
      "outputs": [
        {
          "output_type": "stream",
          "text": [
            "{'one': 1, 'two': 2, 'three': 3, 'ninety': 90}\n"
          ],
          "name": "stdout"
        }
      ]
    },
    {
      "cell_type": "markdown",
      "metadata": {
        "id": "YMcO7BpBliPS",
        "colab_type": "text"
      },
      "source": [
        "Keep in mind that dictionaries **do not maintain any sense of order** for the input parameters; this is by design. This lack of ordering allows dictionaries to be implemented very efficiently, so that **random element access is very fast**, regardless of the size of the dictionary (if you’re curious how this works, read about the concept of **a hash table**). "
      ]
    },
    {
      "cell_type": "code",
      "metadata": {
        "id": "_uADa9dLkqfH",
        "colab_type": "code",
        "colab": {
          "base_uri": "https://localhost:8080/",
          "height": 102
        },
        "outputId": "c22b044e-4e1d-4b6e-94f6-e4b9e6ffa6a7"
      },
      "source": [
        "import pandas as pd\n",
        "df = pd.Series(numbers)\n",
        "df.head()"
      ],
      "execution_count": 107,
      "outputs": [
        {
          "output_type": "execute_result",
          "data": {
            "text/plain": [
              "one        1\n",
              "two        2\n",
              "three      3\n",
              "ninety    90\n",
              "dtype: int64"
            ]
          },
          "metadata": {
            "tags": []
          },
          "execution_count": 107
        }
      ]
    },
    {
      "cell_type": "markdown",
      "metadata": {
        "id": "_bZuE-YElwUc",
        "colab_type": "text"
      },
      "source": [
        "### Sets\n",
        "\n",
        "Sets contain **unordered collections of unique items**. They are defined much like lists and tuples, except they use the **curly brackets** of dictionaries.\n",
        "\n",
        "If you’re familiar with the **mathematics of sets**, you’ll be familiar with operations like the **union, intersection, difference, symmetric difference, and others**. Python’s sets have all of these operations built in via **methods** or **operators**."
      ]
    },
    {
      "cell_type": "code",
      "metadata": {
        "id": "AJeMC4zdkuDp",
        "colab_type": "code",
        "colab": {}
      },
      "source": [
        "primes = {2, 3, 5, 7}\n",
        "odds = {1, 3, 5, 7, 9}"
      ],
      "execution_count": 0,
      "outputs": []
    },
    {
      "cell_type": "code",
      "metadata": {
        "id": "S8Lld9GfmNil",
        "colab_type": "code",
        "colab": {
          "base_uri": "https://localhost:8080/",
          "height": 34
        },
        "outputId": "36bfd018-4926-4e9b-e143-ba0d93081757"
      },
      "source": [
        "# Union: items appearing in either\n",
        "primes | odds      # with an operator\n",
        "primes.union(odds) # equivalently with a method"
      ],
      "execution_count": 111,
      "outputs": [
        {
          "output_type": "execute_result",
          "data": {
            "text/plain": [
              "{1, 2, 3, 5, 7, 9}"
            ]
          },
          "metadata": {
            "tags": []
          },
          "execution_count": 111
        }
      ]
    },
    {
      "cell_type": "code",
      "metadata": {
        "id": "PFyvzQ_h5Gmb",
        "colab_type": "code",
        "colab": {
          "base_uri": "https://localhost:8080/",
          "height": 34
        },
        "outputId": "e9777803-a264-48c7-b0f3-96ababfc46e4"
      },
      "source": [
        "# Intersection: items appearing in both\n",
        "primes & odds             # with an operator\n",
        "primes.intersection(odds) # equivalently with a method"
      ],
      "execution_count": 112,
      "outputs": [
        {
          "output_type": "execute_result",
          "data": {
            "text/plain": [
              "{3, 5, 7}"
            ]
          },
          "metadata": {
            "tags": []
          },
          "execution_count": 112
        }
      ]
    },
    {
      "cell_type": "code",
      "metadata": {
        "id": "07egPZ8J5RWu",
        "colab_type": "code",
        "colab": {
          "base_uri": "https://localhost:8080/",
          "height": 34
        },
        "outputId": "49edb353-857b-42aa-ad26-6426bde09fc6"
      },
      "source": [
        "# Difference: items in primes but not in odds\n",
        "primes - odds\n",
        "primes.difference(odds) "
      ],
      "execution_count": 114,
      "outputs": [
        {
          "output_type": "execute_result",
          "data": {
            "text/plain": [
              "{2}"
            ]
          },
          "metadata": {
            "tags": []
          },
          "execution_count": 114
        }
      ]
    },
    {
      "cell_type": "code",
      "metadata": {
        "id": "8DiNa7s25cFR",
        "colab_type": "code",
        "colab": {
          "base_uri": "https://localhost:8080/",
          "height": 34
        },
        "outputId": "ee1745b7-9fcc-456f-e0f6-624869647ffd"
      },
      "source": [
        "# Symmetric difference: items appearing in only one set\n",
        "primes ^ odds\n",
        "primes.symmetric_difference(odds)"
      ],
      "execution_count": 116,
      "outputs": [
        {
          "output_type": "execute_result",
          "data": {
            "text/plain": [
              "{1, 2, 9}"
            ]
          },
          "metadata": {
            "tags": []
          },
          "execution_count": 116
        }
      ]
    },
    {
      "cell_type": "markdown",
      "metadata": {
        "id": "B6JpmJfI5-kK",
        "colab_type": "text"
      },
      "source": [
        "### Specialized Data Structures\n",
        "\n",
        "They can be found in the built-in **collections** module.\n",
        "\n",
        "Examples:\n",
        "- collections.**namedtuple** (like a tuple, but each value has a name)\n",
        "- collections.**defaultdict**(unspecified keys have a user-specified default value)\n",
        "- collections.**OrderedDict**(like a dictionary, but the order of keys is maintained)"
      ]
    },
    {
      "cell_type": "markdown",
      "metadata": {
        "id": "vaEt7LCG6hx3",
        "colab_type": "text"
      },
      "source": [
        "## Control Flow\n",
        "\n",
        "With control flow, you can **execute** certain code blocks **conditionally and/or repeatedly**: these basic building blocks can be combined to create surprisingly sophisticated programs!\n",
        "\n",
        "Here we’ll cover conditional statements (including **if**, **elif**, and **else**) and loop statements (including **for** and **while**, and the accompanying **break**, **continue**, and **pass**)."
      ]
    },
    {
      "cell_type": "markdown",
      "metadata": {
        "id": "dXTLJVgc7Fez",
        "colab_type": "text"
      },
      "source": [
        "### Conditional Statements: if, elif, and else\n",
        "\n",
        "Conditional statements, often referred to as if-then statements, allow the programmer to execute certain pieces of code **depending** on some **Boolean condition**. \n",
        "\n",
        "**elif** - a contraction of else if"
      ]
    },
    {
      "cell_type": "code",
      "metadata": {
        "id": "-jaoEFEW5nMt",
        "colab_type": "code",
        "colab": {
          "base_uri": "https://localhost:8080/",
          "height": 34
        },
        "outputId": "6e72c445-89ff-4688-d696-0261d0a439a2"
      },
      "source": [
        "x = -15\n",
        "\n",
        "if x == 0:\n",
        "  print(x, 'is zero')\n",
        "elif x > 0:\n",
        "  print(x, 'is positive')\n",
        "elif x < 0:\n",
        "  print(x, 'is negative')\n",
        "else:\n",
        "  print(x, \"is unlike anything I've ever seen...\")"
      ],
      "execution_count": 117,
      "outputs": [
        {
          "output_type": "stream",
          "text": [
            "-15 is negative\n"
          ],
          "name": "stdout"
        }
      ]
    },
    {
      "cell_type": "markdown",
      "metadata": {
        "id": "jxDfn66a72b3",
        "colab_type": "text"
      },
      "source": [
        "### For Loops\n",
        "\n",
        "Loops in Python are a way to **repeatedly execute some code** statement. So, for example, if we’d like to print each of the items in a list, we can use a for loop.\n",
        "\n",
        "Notice the simplicity of the for loop: we specify the **variable** we want to use, the **sequence we want to loop over**, and use the **in** operator to link them together in an intuitive and readable way. More precisely, the object to the right of the in can be any Python **iterator**. \n",
        "\n",
        "The **range** object is a good example of **an iterator**."
      ]
    },
    {
      "cell_type": "code",
      "metadata": {
        "id": "iG8GQ0kN7rOS",
        "colab_type": "code",
        "colab": {
          "base_uri": "https://localhost:8080/",
          "height": 34
        },
        "outputId": "2a34b0b8-b492-4ed2-d49c-002c8a24033b"
      },
      "source": [
        "for N in [2, 3, 4, 7]:\n",
        "  print(N, end=' ')  # print all on the same line"
      ],
      "execution_count": 118,
      "outputs": [
        {
          "output_type": "stream",
          "text": [
            "2 3 4 7 "
          ],
          "name": "stdout"
        }
      ]
    },
    {
      "cell_type": "markdown",
      "metadata": {
        "id": "d_Th2muiTjNC",
        "colab_type": "text"
      },
      "source": [
        "The range starts at zero by default, and that by convention the top of the range is not included in the output. Range objects can also have more complicated values. Python 2, range() produces a list, while in Python 3, range() produces **an iterable object**."
      ]
    },
    {
      "cell_type": "code",
      "metadata": {
        "id": "aD7WXpa78Jai",
        "colab_type": "code",
        "colab": {
          "base_uri": "https://localhost:8080/",
          "height": 34
        },
        "outputId": "58d5b4d3-47b4-4db6-adba-8480c0ce90bd"
      },
      "source": [
        "# Range from 5 to 10\n",
        "list(range(5,10))"
      ],
      "execution_count": 1,
      "outputs": [
        {
          "output_type": "execute_result",
          "data": {
            "text/plain": [
              "[5, 6, 7, 8, 9]"
            ]
          },
          "metadata": {
            "tags": []
          },
          "execution_count": 1
        }
      ]
    },
    {
      "cell_type": "code",
      "metadata": {
        "id": "suC7zFVbTo-5",
        "colab_type": "code",
        "colab": {
          "base_uri": "https://localhost:8080/",
          "height": 34
        },
        "outputId": "3c4a0f3d-9b25-4811-ab8f-96391ad7c643"
      },
      "source": [
        "# Range from 0 to 10 by 2\n",
        "list(range(0,10, 2))"
      ],
      "execution_count": 2,
      "outputs": [
        {
          "output_type": "execute_result",
          "data": {
            "text/plain": [
              "[0, 2, 4, 6, 8]"
            ]
          },
          "metadata": {
            "tags": []
          },
          "execution_count": 2
        }
      ]
    },
    {
      "cell_type": "markdown",
      "metadata": {
        "id": "hhzrkeOgUEeZ",
        "colab_type": "text"
      },
      "source": [
        "### While Loops\n",
        "\n",
        "While loop iterates until some condition is met. The argument of the while loop is evaluated as a Boolean statement, and the loop is executed until the statement evaluates to False."
      ]
    },
    {
      "cell_type": "code",
      "metadata": {
        "id": "SwqJS1M0TwMJ",
        "colab_type": "code",
        "colab": {
          "base_uri": "https://localhost:8080/",
          "height": 34
        },
        "outputId": "34efe8b8-ce4d-4c35-a63a-1fbad3720d2a"
      },
      "source": [
        "i = 0\n",
        "while i < 10:\n",
        "  print(i, end=' ')\n",
        "  i += 1"
      ],
      "execution_count": 3,
      "outputs": [
        {
          "output_type": "stream",
          "text": [
            "0 1 2 3 4 5 6 7 8 9 "
          ],
          "name": "stdout"
        }
      ]
    },
    {
      "cell_type": "markdown",
      "metadata": {
        "id": "J_6hfoF8WpOE",
        "colab_type": "text"
      },
      "source": [
        "We can fine-tune how our for and while loops are executed using **break** and **continue** statements.\n",
        "\n",
        "The **break** statement breaks out of the loop entirely.\n",
        "\n",
        "The **continue** statement skips the remainder of the current\n",
        "loop, and goes to the next iteration.\n"
      ]
    },
    {
      "cell_type": "code",
      "metadata": {
        "id": "FIVLCfPbWdjz",
        "colab_type": "code",
        "colab": {
          "base_uri": "https://localhost:8080/",
          "height": 34
        },
        "outputId": "b80b305f-932a-4dd1-c96e-eb71052f0e04"
      },
      "source": [
        "for n in range(20):\n",
        "  # Check if n is even\n",
        "  if n % 2 == 0:\n",
        "    continue\n",
        "  print(n, end=' ')"
      ],
      "execution_count": 5,
      "outputs": [
        {
          "output_type": "stream",
          "text": [
            "1 3 5 7 9 11 13 15 17 19 "
          ],
          "name": "stdout"
        }
      ]
    },
    {
      "cell_type": "code",
      "metadata": {
        "id": "mdsxP2FXXEJR",
        "colab_type": "code",
        "colab": {
          "base_uri": "https://localhost:8080/",
          "height": 34
        },
        "outputId": "cd28f4ba-5d74-412d-a2e7-44152b71ce50"
      },
      "source": [
        "# Listing all Fibonacci numbers up to a certain value\n",
        "\n",
        "a, b = 0, 1\n",
        "amax = 100\n",
        "L = []\n",
        "\n",
        "while True:\n",
        "  (a, b) = (b, a + b) # ❓\n",
        "  if a > amax:\n",
        "    break\n",
        "  L.append(a)\n",
        "  \n",
        "print(L)"
      ],
      "execution_count": 1,
      "outputs": [
        {
          "output_type": "stream",
          "text": [
            "[1, 1, 2, 3, 5, 8, 13, 21, 34, 55, 89]\n"
          ],
          "name": "stdout"
        }
      ]
    },
    {
      "cell_type": "markdown",
      "metadata": {
        "id": "xtwZaW8K-psN",
        "colab_type": "text"
      },
      "source": [
        "### Loops with an Else Block\n",
        "\n",
        "One rarely used pattern available in Python is the else statement as part of a for or while loop. We discussed the else block earlier: it executes if all the if and elif statements evaluate to False. The loop-else is perhaps one of the more confusingly named statements in Python; I prefer to think of it as a nobreak statement: that is, the else block is executed only if the loop ends naturally, without encountering a break statement.\n",
        "\n",
        "**Sieve of Eratosthenes**, a well-known algorithm for finding prime numbers 👇"
      ]
    },
    {
      "cell_type": "code",
      "metadata": {
        "id": "l5tDXKlL-MId",
        "colab_type": "code",
        "colab": {
          "base_uri": "https://localhost:8080/",
          "height": 34
        },
        "outputId": "c6a5a47e-bca4-4586-e5f2-d603d2ddda0a"
      },
      "source": [
        "# Loops with an else block \n",
        "L = []\n",
        "nmax = 30\n",
        "\n",
        "\n",
        "# DEBUG THIS ✅ debugged - indentation issue w/ else and print statement\n",
        "for n in range(2, nmax):\n",
        "  for factor in L:\n",
        "    if n % factor == 0:\n",
        "      break\n",
        "  else: # No break\n",
        "      L.append(n)\n",
        "print(L)"
      ],
      "execution_count": 10,
      "outputs": [
        {
          "output_type": "stream",
          "text": [
            "[2, 3, 5, 7, 11, 13, 17, 19, 23, 29]\n"
          ],
          "name": "stdout"
        }
      ]
    },
    {
      "cell_type": "markdown",
      "metadata": {
        "id": "8vvm3tdUQcru",
        "colab_type": "text"
      },
      "source": [
        "## Functions\n",
        "\n",
        "There are two ways of creating functions - the **def** statement, useful for any type of function, and the **lambda** statement, useful for creating **short anonymous functions**.\n",
        "\n",
        "Here print is the function name, and **'abc'** is the function’s **argument**.\n",
        "In addition to arguments, there are **keyword arguments** that are\n",
        "specified by name. One available keyword argument for the print() function (in Python 3) is sep, which tells what character or characters should be used to separate multiple items:\n",
        "\n",
        "When **non-keyword** arguments are used **together with keyword** arguments, the keyword arguments must come at the **end**."
      ]
    },
    {
      "cell_type": "code",
      "metadata": {
        "id": "Tg9tuBkqITXU",
        "colab_type": "code",
        "colab": {
          "base_uri": "https://localhost:8080/",
          "height": 34
        },
        "outputId": "0f830672-ea7f-43dd-cb58-cfa7ef428042"
      },
      "source": [
        "print(1, 2, 3, sep='--')"
      ],
      "execution_count": 11,
      "outputs": [
        {
          "output_type": "stream",
          "text": [
            "1--2--3\n"
          ],
          "name": "stdout"
        }
      ]
    },
    {
      "cell_type": "code",
      "metadata": {
        "id": "1m7j0iOKRHjs",
        "colab_type": "code",
        "colab": {
          "base_uri": "https://localhost:8080/",
          "height": 34
        },
        "outputId": "6488c8c0-483b-4d43-b56c-c973418ffb14"
      },
      "source": [
        "# Fibonacci Function\n",
        "\n",
        "def fibonacci(N):\n",
        "  L = []\n",
        "  a, b = 0, 1\n",
        "  while len(L) < N:\n",
        "    a, b = b, a + b\n",
        "    L.append(a)\n",
        "  return L\n",
        "\n",
        "fibonacci(10)"
      ],
      "execution_count": 12,
      "outputs": [
        {
          "output_type": "execute_result",
          "data": {
            "text/plain": [
              "[1, 1, 2, 3, 5, 8, 13, 21, 34, 55]"
            ]
          },
          "metadata": {
            "tags": []
          },
          "execution_count": 12
        }
      ]
    },
    {
      "cell_type": "code",
      "metadata": {
        "id": "3FgmJTPXWGRn",
        "colab_type": "code",
        "colab": {
          "base_uri": "https://localhost:8080/",
          "height": 34
        },
        "outputId": "5dac1fa6-3018-43fe-a97e-af4687a093ba"
      },
      "source": [
        "def real_imag_conj(val):\n",
        "  return val.real, val.imag, val.conjugate()\n",
        "\n",
        "r, i, c = real_imag_conj(3 + 4j)\n",
        "print(r, i, c)"
      ],
      "execution_count": 14,
      "outputs": [
        {
          "output_type": "stream",
          "text": [
            "3.0 4.0 (3-4j)\n"
          ],
          "name": "stdout"
        }
      ]
    },
    {
      "cell_type": "markdown",
      "metadata": {
        "id": "G69OZGWeXMZ-",
        "colab_type": "text"
      },
      "source": [
        "We can also use **default starting values** for arguments in our functions. We can improve our Fibonacci function as follows: "
      ]
    },
    {
      "cell_type": "code",
      "metadata": {
        "id": "cZHsK6w-W4Qq",
        "colab_type": "code",
        "colab": {
          "base_uri": "https://localhost:8080/",
          "height": 34
        },
        "outputId": "dfb8f372-4f26-4ef0-aa1b-b2085b4eb751"
      },
      "source": [
        "def fibonacci(N, a=0, b=1):\n",
        "  L=[]\n",
        "  while len(L) < N:\n",
        "    a, b = b, a + b\n",
        "    L.append(a)\n",
        "  return L\n",
        "\n",
        "fibonacci(10)"
      ],
      "execution_count": 15,
      "outputs": [
        {
          "output_type": "execute_result",
          "data": {
            "text/plain": [
              "[1, 1, 2, 3, 5, 8, 13, 21, 34, 55]"
            ]
          },
          "metadata": {
            "tags": []
          },
          "execution_count": 15
        }
      ]
    },
    {
      "cell_type": "code",
      "metadata": {
        "id": "cJ8swVn5Xsyr",
        "colab_type": "code",
        "colab": {
          "base_uri": "https://localhost:8080/",
          "height": 34
        },
        "outputId": "dd906f7f-936c-4981-f10c-c6d21c912ab2"
      },
      "source": [
        "# Defining new starting values\n",
        "fibonacci(10, 0, 2)"
      ],
      "execution_count": 16,
      "outputs": [
        {
          "output_type": "execute_result",
          "data": {
            "text/plain": [
              "[2, 2, 4, 6, 10, 16, 26, 42, 68, 110]"
            ]
          },
          "metadata": {
            "tags": []
          },
          "execution_count": 16
        }
      ]
    },
    {
      "cell_type": "code",
      "metadata": {
        "id": "ZLIM1Wn0Xv21",
        "colab_type": "code",
        "colab": {
          "base_uri": "https://localhost:8080/",
          "height": 34
        },
        "outputId": "54aad2a1-8d99-4b1a-fd97-80f7e098dbd6"
      },
      "source": [
        "# Order of our arguments does not matter if specified by name\n",
        "fibonacci(10, b=3, a=1)"
      ],
      "execution_count": 17,
      "outputs": [
        {
          "output_type": "execute_result",
          "data": {
            "text/plain": [
              "[3, 4, 7, 11, 18, 29, 47, 76, 123, 199]"
            ]
          },
          "metadata": {
            "tags": []
          },
          "execution_count": 17
        }
      ]
    },
    {
      "cell_type": "markdown",
      "metadata": {
        "id": "oJkcxZ1_ZPbC",
        "colab_type": "text"
      },
      "source": [
        "### \\*args and \\*\\*kwargs: Flexible Arguments\n",
        "\n",
        "Sometimes you might wish to write a function in which you **don’t initially know how many arguments the user will pass**. In this case, you can use the special form \\*args and \\*\\*kwargs to catch all arguments that are passed.\n",
        "\n",
        "Here it is not the names args and kwargs that are important, but the * characters preceding them. args and kwargs are just the variable names often used by convention, short for “arguments” and “keyword arguments”. \n",
        "\n",
        "The operative difference is the asterisk characters: **a single * before** a variable means “**expand this as a sequence**”, while **a double \\*\\*** before a variable means “**expand this as a dictionary**”. In fact, this syntax can be used not only with the function definition, but with the function call as well!"
      ]
    },
    {
      "cell_type": "code",
      "metadata": {
        "id": "r2Otlht-Xz_1",
        "colab_type": "code",
        "colab": {
          "base_uri": "https://localhost:8080/",
          "height": 51
        },
        "outputId": "616e49c5-5615-4785-c732-f13ab7b5d346"
      },
      "source": [
        "def catch_all(*args, **kwargs):\n",
        "  print('args =', args)\n",
        "  print('kwargs =', kwargs)\n",
        "\n",
        "catch_all(1, 2, 3, a=4, b=5)"
      ],
      "execution_count": 18,
      "outputs": [
        {
          "output_type": "stream",
          "text": [
            "args = (1, 2, 3)\n",
            "kwargs = {'a': 4, 'b': 5}\n"
          ],
          "name": "stdout"
        }
      ]
    },
    {
      "cell_type": "code",
      "metadata": {
        "id": "rLRAqlOybCdl",
        "colab_type": "code",
        "colab": {
          "base_uri": "https://localhost:8080/",
          "height": 51
        },
        "outputId": "d872ce8f-f679-41f5-d742-2fe8799a4489"
      },
      "source": [
        "catch_all('a', keyword=2)"
      ],
      "execution_count": 20,
      "outputs": [
        {
          "output_type": "stream",
          "text": [
            "args = ('a',)\n",
            "kwargs = {'keyword': 2}\n"
          ],
          "name": "stdout"
        }
      ]
    },
    {
      "cell_type": "code",
      "metadata": {
        "id": "Eo-VyvsHbKlW",
        "colab_type": "code",
        "colab": {
          "base_uri": "https://localhost:8080/",
          "height": 51
        },
        "outputId": "6f4168c3-b3b4-44fe-e85a-182d40d8af1b"
      },
      "source": [
        "inputs = (1, 2, 3)\n",
        "keywords = {'pi': 3.14}\n",
        "\n",
        "catch_all(*inputs, **keywords)"
      ],
      "execution_count": 21,
      "outputs": [
        {
          "output_type": "stream",
          "text": [
            "args = (1, 2, 3)\n",
            "kwargs = {'pi': 3.14}\n"
          ],
          "name": "stdout"
        }
      ]
    },
    {
      "cell_type": "code",
      "metadata": {
        "id": "8hMVe5Nvbctz",
        "colab_type": "code",
        "colab": {}
      },
      "source": [
        ""
      ],
      "execution_count": 0,
      "outputs": []
    }
  ]
}